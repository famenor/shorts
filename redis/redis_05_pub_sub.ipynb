{
 "cells": [
  {
   "cell_type": "code",
   "execution_count": 1,
   "id": "028b4860-d6d5-4981-8d20-983e42044159",
   "metadata": {},
   "outputs": [],
   "source": [
    "import json\n",
    "\n",
    "import pandas as pd\n",
    "import numpy as np\n",
    "\n",
    "import redis"
   ]
  },
  {
   "cell_type": "code",
   "execution_count": 2,
   "id": "ae023292-b248-4a9b-a9ea-6d15723a7682",
   "metadata": {},
   "outputs": [],
   "source": [
    "REDIS_HOST = '127.0.0.1'\n",
    "REDIS_PORT = 6379\n",
    "REDIS_PASSWORD = ''\n",
    "\n",
    "conn = redis.Redis(host=REDIS_HOST, port=REDIS_PORT, password=REDIS_PASSWORD, encoding='utf-8', decode_responses=True)"
   ]
  },
  {
   "cell_type": "markdown",
   "id": "749e7bf8-44dc-4cc6-9aed-d7be5f81645e",
   "metadata": {},
   "source": [
    "# PUB SUB"
   ]
  },
  {
   "cell_type": "code",
   "execution_count": 42,
   "id": "61145c3c-749b-4014-845c-733098929ec1",
   "metadata": {},
   "outputs": [],
   "source": [
    "c1 = conn.pubsub()\n",
    "c2 = conn.pubsub()"
   ]
  },
  {
   "cell_type": "code",
   "execution_count": 55,
   "id": "c4a80f01-32dd-4fda-b02f-715c57018147",
   "metadata": {},
   "outputs": [
    {
     "data": {
      "text/plain": [
       "2"
      ]
     },
     "execution_count": 55,
     "metadata": {},
     "output_type": "execute_result"
    }
   ],
   "source": [
    "conn.publish('merida', '31')\n",
    "conn.publish('merida', '33')\n",
    "conn.publish('merida', '35')"
   ]
  },
  {
   "cell_type": "code",
   "execution_count": 56,
   "id": "40c8a43d-0a55-4348-b15a-7cba633aafd1",
   "metadata": {},
   "outputs": [
    {
     "data": {
      "text/plain": [
       "2"
      ]
     },
     "execution_count": 56,
     "metadata": {},
     "output_type": "execute_result"
    }
   ],
   "source": [
    "conn.publish('campeche', '29')\n",
    "conn.publish('campeche', '31')\n",
    "conn.publish('campeche', '32')"
   ]
  },
  {
   "cell_type": "code",
   "execution_count": 75,
   "id": "167bc022-6ab1-465b-80f2-1f41e04e966d",
   "metadata": {},
   "outputs": [
    {
     "data": {
      "text/plain": [
       "2"
      ]
     },
     "execution_count": 75,
     "metadata": {},
     "output_type": "execute_result"
    }
   ],
   "source": [
    "conn.publish('cdmx', '17')\n",
    "conn.publish('cdmx', '18')\n",
    "conn.publish('cdmx', '19')"
   ]
  },
  {
   "cell_type": "code",
   "execution_count": 47,
   "id": "04929a54-ac2e-4ae7-acb0-b77d8f255f6f",
   "metadata": {},
   "outputs": [],
   "source": [
    "c1.subscribe('merida', 'campeche')"
   ]
  },
  {
   "cell_type": "code",
   "execution_count": 48,
   "id": "0e848676-7d9e-4193-b441-2250ffc418b3",
   "metadata": {},
   "outputs": [],
   "source": [
    "c2.subscribe('cdmx')"
   ]
  },
  {
   "cell_type": "code",
   "execution_count": 81,
   "id": "8a7ddc6b-9649-457f-9fcb-93249c6ee337",
   "metadata": {},
   "outputs": [],
   "source": [
    "c1.get_message()"
   ]
  },
  {
   "cell_type": "code",
   "execution_count": 80,
   "id": "f6751e57-480e-400f-9587-ecc2b9bf15fa",
   "metadata": {},
   "outputs": [],
   "source": [
    "c2.get_message()"
   ]
  },
  {
   "cell_type": "code",
   "execution_count": null,
   "id": "baaaf345-43fd-4e77-976d-c9396cb3ac0b",
   "metadata": {},
   "outputs": [],
   "source": []
  }
 ],
 "metadata": {
  "kernelspec": {
   "display_name": "Python 3 (ipykernel)",
   "language": "python",
   "name": "python3"
  },
  "language_info": {
   "codemirror_mode": {
    "name": "ipython",
    "version": 3
   },
   "file_extension": ".py",
   "mimetype": "text/x-python",
   "name": "python",
   "nbconvert_exporter": "python",
   "pygments_lexer": "ipython3",
   "version": "3.12.3"
  }
 },
 "nbformat": 4,
 "nbformat_minor": 5
}
