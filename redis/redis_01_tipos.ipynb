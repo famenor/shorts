{
 "cells": [
  {
   "cell_type": "code",
   "execution_count": 1,
   "id": "028b4860-d6d5-4981-8d20-983e42044159",
   "metadata": {},
   "outputs": [],
   "source": [
    "import json\n",
    "\n",
    "import pandas as pd\n",
    "import numpy as np\n",
    "\n",
    "import redis\n",
    "from redis.commands.search.field import VectorField, TextField\n",
    "from redis.commands.search.query import Query\n",
    "from redis.commands.search.indexDefinition import IndexDefinition, IndexType\n",
    "from redis.commands.search.field import TagField"
   ]
  },
  {
   "cell_type": "code",
   "execution_count": 2,
   "id": "ae023292-b248-4a9b-a9ea-6d15723a7682",
   "metadata": {},
   "outputs": [],
   "source": [
    "REDIS_HOST = '127.0.0.1'\n",
    "REDIS_PORT = 6379\n",
    "REDIS_PASSWORD = ''\n",
    "\n",
    "conn = redis.Redis(host=REDIS_HOST, port=REDIS_PORT, password=REDIS_PASSWORD, encoding='utf-8', decode_responses=True)"
   ]
  },
  {
   "cell_type": "code",
   "execution_count": 3,
   "id": "47922cbc-2db4-4bb5-838f-ecea84898b48",
   "metadata": {},
   "outputs": [],
   "source": [
    "# https://redis.readthedocs.io/en/stable/commands.html#redis.commands.core.CoreCommands.sadd"
   ]
  },
  {
   "cell_type": "markdown",
   "id": "fc08a1c2-7133-496c-b4ce-68046b34657c",
   "metadata": {},
   "source": [
    "# Comandos Basicos"
   ]
  },
  {
   "cell_type": "code",
   "execution_count": 4,
   "id": "dca8fb35-3183-4d4a-b1c4-d8d93d984ba6",
   "metadata": {},
   "outputs": [
    {
     "name": "stdout",
     "output_type": "stream",
     "text": [
      "Mario\n"
     ]
    }
   ],
   "source": [
    "res = conn.set('name', 'Mario')\n",
    "#res = conn.set('name2', 'Chun Li')\n",
    "\n",
    "res = conn.get('name')\n",
    "print(res)"
   ]
  },
  {
   "cell_type": "code",
   "execution_count": 7,
   "id": "2e1e0e61-6fb8-44b8-8ab8-de1185a36845",
   "metadata": {},
   "outputs": [],
   "source": [
    "if False:\n",
    "    res = conn.set('name2', 'Mario')\n",
    "    res = conn.delete('name2')\n",
    "    print(res)\n",
    "    \n",
    "    res = conn.get('name2')\n",
    "    print(res)\n",
    "    \n",
    "    res = conn.set('name2', 10)\n",
    "    \n",
    "    res = conn.get('name2')\n",
    "    print(res, isinstance(res, str))\n",
    "\n",
    "    \n",
    "    res = conn.getrange('name', 0, 2)\n",
    "    print(res)\n",
    "    \n",
    "    res = conn.getrange('name', -3, -1)\n",
    "    print(res)    "
   ]
  },
  {
   "cell_type": "code",
   "execution_count": 6,
   "id": "f821ab0f-fb5a-4330-8a76-0170023fcdaa",
   "metadata": {},
   "outputs": [],
   "source": [
    "if False:\n",
    "    res = conn.set('rating', 10)\n",
    "    print(res)\n",
    "    \n",
    "    res = conn.incr('rating', 7)\n",
    "    print(res)\n",
    "    \n",
    "    res = conn.get('rating')\n",
    "    print(res)"
   ]
  },
  {
   "cell_type": "code",
   "execution_count": 8,
   "id": "44c93265-fe4d-4a4d-8065-c9a8486099bb",
   "metadata": {},
   "outputs": [],
   "source": [
    "#EXPIRACION\n",
    "if False:\n",
    "    res = conn.set('name3', 'Jessica', ex=20)\n",
    "    print(res)\n",
    "    \n",
    "    res = conn.set('name4', 'Karen')\n",
    "    print(res)\n",
    "    \n",
    "    res = conn.set('name4', 'Caren', nx=True)\n",
    "    print(res)\n",
    "    \n",
    "    res = conn.set('name4', 'Zaren', get=True)\n",
    "    print(res)"
   ]
  },
  {
   "cell_type": "markdown",
   "id": "5edd7a7f-2f79-41c6-86db-e5ff4db29707",
   "metadata": {},
   "source": [
    "# Conjuntos"
   ]
  },
  {
   "cell_type": "code",
   "execution_count": 9,
   "id": "0800007b-5b31-4232-a97a-b3814254011c",
   "metadata": {},
   "outputs": [
    {
     "name": "stdout",
     "output_type": "stream",
     "text": [
      "1\n",
      "2\n"
     ]
    }
   ],
   "source": [
    "res = conn.sadd('colors', 'blue')\n",
    "print(res)\n",
    "\n",
    "res = conn.sadd('colors', 'green', 'yellow')\n",
    "print(res)"
   ]
  },
  {
   "cell_type": "code",
   "execution_count": 10,
   "id": "1d2d6548-8d4d-46aa-a889-893e92a793fa",
   "metadata": {},
   "outputs": [],
   "source": [
    "if False:\n",
    "    res = conn.sadd('colors', 'blue')\n",
    "    print(res)\n",
    "    \n",
    "    res = conn.sadd('colors', 'green', 'yellow')\n",
    "    print(res)\n",
    "    \n",
    "    res = conn.srem('colors', 'green')\n",
    "    print(res)\n",
    "    \n",
    "    res = conn.sadd('more_colors', 'pink', 'black')\n",
    "    print(res)\n",
    "    \n",
    "    #UNION\n",
    "    res = conn.sunion(['colors', 'more_colors'])\n",
    "    print(res)\n",
    "    \n",
    "    #ES MIEMBRO\n",
    "    res = conn.sismember('colors', 'green')\n",
    "    print(res)\n",
    "    \n",
    "    res = conn.sismember('colors', 'yellow')\n",
    "    print(res)\n",
    "    \n",
    "    #SORT\n",
    "    conn.sadd('numbers', 7, 5, 6, 1, 4)\n",
    "    res = conn.sort_ro('numbers')\n",
    "    print(res)\n",
    "    \n",
    "    res = conn.sort_ro('colors', alpha=True)\n",
    "    print(res)\n",
    "    \n",
    "    res = conn.scard('numbers')\n",
    "    print(res)\n",
    "    \n",
    "    #INTERSECCON Y DIFERENCIA\n",
    "    conn.sadd('numbers2', 6, 4, 8, 2)\n",
    "    res = conn.sinter('numbers', 'numbers2')\n",
    "    print(res)\n",
    "    \n",
    "    res = conn.sdiff('numbers', 'numbers2')\n",
    "    print(res)\n",
    "    \n",
    "    res = conn.sdiff('numbers2', 'numbers')\n",
    "    print(res)\n",
    "    \n",
    "    res = conn.sunion('numbers', 'numbers2')\n",
    "    print(res)"
   ]
  },
  {
   "cell_type": "markdown",
   "id": "9e35177a-834f-4536-b51d-bcf0cf438503",
   "metadata": {},
   "source": [
    "# Listas"
   ]
  },
  {
   "cell_type": "code",
   "execution_count": 11,
   "id": "97b4a1be-18a2-4f00-b00f-5620eb76b5e4",
   "metadata": {},
   "outputs": [
    {
     "name": "stdout",
     "output_type": "stream",
     "text": [
      "0\n",
      "1\n",
      "3\n",
      "5\n",
      "6\n",
      "['1']\n",
      "['5', '4']\n",
      "3\n",
      "2\n",
      "0\n"
     ]
    }
   ],
   "source": [
    "res = conn.delete('numbers_list')\n",
    "print(res)\n",
    "\n",
    "res = conn.lpush('numbers_list', 1)\n",
    "print(res)\n",
    "\n",
    "res = conn.lpush('numbers_list', 2, 3)\n",
    "print(res)\n",
    "\n",
    "res = conn.rpush('numbers_list', 4, 5)\n",
    "print(res)\n",
    "\n",
    "res = conn.lpush('numbers_list', 1)\n",
    "print(res)\n",
    "\n",
    "res = conn.lpop('numbers_list', 1)\n",
    "print(res)\n",
    "\n",
    "res = conn.rpop('numbers_list', 2)\n",
    "print(res)\n",
    "\n",
    "res = conn.llen('numbers_list')\n",
    "print(res)\n",
    "\n",
    "res = conn.lindex('numbers_list', 1)\n",
    "print(res)\n",
    "\n",
    "conn.lpush('numbers_list', 3)\n",
    "res = conn.lpos('numbers_list', 3)\n",
    "print(res)"
   ]
  },
  {
   "cell_type": "markdown",
   "id": "cab1ffbb-7e1e-4ab4-8fa0-53e67992e5a7",
   "metadata": {},
   "source": [
    "# Hash"
   ]
  },
  {
   "cell_type": "code",
   "execution_count": 12,
   "id": "253423e0-7e19-4b15-9a03-f46c1dc9da6b",
   "metadata": {},
   "outputs": [
    {
     "name": "stdout",
     "output_type": "stream",
     "text": [
      "2\n",
      "['titulo', 'pagina']\n",
      "['El Conde', '500']\n"
     ]
    }
   ],
   "source": [
    "res = conn.hset('libros:1', mapping={'titulo': 'El Conde', 'pagina': 500})\n",
    "print(res)\n",
    "\n",
    "#res = conn.hset('libros:2', mapping={'titulo': 'La Plebe', 'pagina': 200})\n",
    "#print(res)\n",
    "\n",
    "#res = conn.hget('libros:2', 'pagina')\n",
    "#print(res)\n",
    "\n",
    "#res = conn.hgetall('libros:2')\n",
    "#print(res)\n",
    "\n",
    "#res = conn.hexists('libros:2', 'autor')\n",
    "#print(res)\n",
    "\n",
    "res = conn.hkeys('libros:1')\n",
    "print(res)\n",
    "\n",
    "res = conn.hvals('libros:1')\n",
    "print(res)"
   ]
  },
  {
   "cell_type": "markdown",
   "id": "da24d962-3fbb-4260-bee0-cab8c73bc960",
   "metadata": {},
   "source": [
    "# Conjuntos ordenados"
   ]
  },
  {
   "cell_type": "code",
   "execution_count": 13,
   "id": "5b8347f2-cb26-4452-91a5-cebbcf28c4b8",
   "metadata": {},
   "outputs": [
    {
     "name": "stdout",
     "output_type": "stream",
     "text": [
      "2\n",
      "1\n",
      "3\n",
      "['Mercurio', 'Venus', 'Tierra', 'Jupiter']\n"
     ]
    }
   ],
   "source": [
    "res = conn.zadd('planetas', {'Urano': 7, 'Jupiter': 4})\n",
    "print(res)\n",
    "\n",
    "res = conn.zadd('planetas', {'Venus': 2, 'Jupiter': 5})\n",
    "print(res)\n",
    "\n",
    "res = conn.zadd('planetas', {'Tierra': 3, 'Neptuno': 8, 'Mercurio': 1})\n",
    "print(res)\n",
    "\n",
    "res = conn.zrange('planetas', 0, 3)\n",
    "print(res)"
   ]
  },
  {
   "cell_type": "markdown",
   "id": "e5190f86-f54e-461d-acf3-f02908a2be01",
   "metadata": {},
   "source": [
    "# JSON"
   ]
  },
  {
   "cell_type": "code",
   "execution_count": 14,
   "id": "54e42fab-d168-4932-9a4b-41eeae668f7b",
   "metadata": {},
   "outputs": [
    {
     "name": "stdout",
     "output_type": "stream",
     "text": [
      "True\n",
      "True\n",
      "True\n",
      "True\n",
      "True\n",
      "True\n",
      "[{'color': 'amarillo', 'size': 28}]\n",
      "['integer']\n",
      "[4]\n"
     ]
    }
   ],
   "source": [
    "#res11 = r.json().set(\"newbike\", \"$\", [\"Deimos\", {\"crashes\": 0}, None])\n",
    "conn.delete(\"bikes\")\n",
    "\n",
    "res = conn.json().set(\"bikes\", \"$\", [None, None, None, None])\n",
    "print(res)\n",
    "\n",
    "res = conn.json().set(\"bikes\", \"$[0]\", {'color': 'blue', 'size': 27})\n",
    "print(res)\n",
    "\n",
    "res = conn.json().set(\"bikes\", \"$[1]\", {'color': 'verde', 'size': 26})\n",
    "print(res)\n",
    "\n",
    "res = conn.json().set(\"bikes\", \"$[2]\", {'color': 'rosa', 'size': 28})\n",
    "print(res)\n",
    "\n",
    "res = conn.json().set(\"bikes\", \"$[3]\", {'color': 'rojo', 'size': None})\n",
    "print(res)\n",
    "\n",
    "res = conn.json().set(\"bikes\", \"$[2]['color']\", 'amarillo')\n",
    "print(res)\n",
    "\n",
    "\n",
    "res = conn.json().get(\"bikes\", \"$[2]\")\n",
    "print(res)\n",
    "\n",
    "res = conn.json().type(\"bikes\", \"$[2]['size']\")\n",
    "print(res)\n",
    "\n",
    "res = conn.json().strlen(\"bikes\", \"$[3]['color']\")\n",
    "print(res)"
   ]
  },
  {
   "cell_type": "markdown",
   "id": "c00f3195-ab2b-4ece-8b1d-208a2a62c901",
   "metadata": {},
   "source": [
    "# Streams"
   ]
  },
  {
   "cell_type": "code",
   "execution_count": 15,
   "id": "88469a5e-e6b0-436f-b39e-58b81f3c5fe7",
   "metadata": {},
   "outputs": [
    {
     "name": "stdout",
     "output_type": "stream",
     "text": [
      "1743464696616-0\n",
      "1743464696616-1\n",
      "1743464696617-0\n",
      "3\n",
      "[['clima:merida', [('1743464696616-0', {'temperatura': '30', 'humedad': '50', 'lluvia': '0'})]]]\n"
     ]
    }
   ],
   "source": [
    "conn.delete('clima:merida')\n",
    "\n",
    "res = conn.xadd('clima:merida', {'temperatura': 30, 'humedad': 50, 'lluvia': 0})\n",
    "print(res)\n",
    "\n",
    "res = conn.xadd('clima:merida', {'temperatura': 31, 'humedad': 60, 'lluvia': 0})\n",
    "print(res)\n",
    "\n",
    "res = conn.xadd('clima:merida', {'temperatura': 32, 'humedad': 60, 'lluvia': 0})\n",
    "print(res)\n",
    "\n",
    "\n",
    "res = conn.xlen('clima:merida')\n",
    "print(res) \n",
    "\n",
    "#res = conn.xrange('clima:merida', \"1743034847437\", \"+\", 2)\n",
    "#print(res)\n",
    "\n",
    "res = conn.xread(streams={\"clima:merida\": 0}, count=1, block=300)\n",
    "print(res)"
   ]
  },
  {
   "cell_type": "markdown",
   "id": "ef5b2b23-f635-42de-9be5-a6eaddb9b07b",
   "metadata": {},
   "source": [
    "# Geospatial"
   ]
  },
  {
   "cell_type": "code",
   "execution_count": 16,
   "id": "6e5c732d-28dc-4e82-aeba-c5e1636562c8",
   "metadata": {},
   "outputs": [
    {
     "name": "stdout",
     "output_type": "stream",
     "text": [
      "1\n",
      "1\n",
      "1\n"
     ]
    }
   ],
   "source": [
    "res = conn.geoadd(\"gas:stations\", [-98.457896, 19.205645, \"station:1\"])\n",
    "print(res) \n",
    "\n",
    "res = conn.geoadd(\"gas:stations\", [-98.65874, 19.745236, \"station:2\"])\n",
    "print(res) \n",
    "\n",
    "res = conn.geoadd(\"gas:stations\", [-98.512369, 19.456398, \"station:3\"])\n",
    "print(res) "
   ]
  },
  {
   "cell_type": "code",
   "execution_count": 23,
   "id": "550c2846-da4b-443c-81d7-d9b28061cd2f",
   "metadata": {},
   "outputs": [
    {
     "name": "stdout",
     "output_type": "stream",
     "text": [
      "['station:1', 'station:3']\n"
     ]
    }
   ],
   "source": [
    "res = conn.geosearch(\"gas:stations\", longitude=-98.404589, latitude=19.200000, radius=50, unit=\"km\")\n",
    "print(res)"
   ]
  },
  {
   "cell_type": "markdown",
   "id": "c9411901-5453-4348-a79c-e73b9f0bc924",
   "metadata": {},
   "source": [
    "# Bitmaps"
   ]
  },
  {
   "cell_type": "code",
   "execution_count": 27,
   "id": "1e06379f-82d8-40b5-a8b4-d2f51c9b1597",
   "metadata": {},
   "outputs": [
    {
     "name": "stdout",
     "output_type": "stream",
     "text": [
      "1\n",
      "1\n",
      "0\n",
      "0\n"
     ]
    }
   ],
   "source": [
    "res = conn.setbit(\"pings:2024-01-01-00:00\", 123, 1)\n",
    "print(res)\n",
    "\n",
    "res = conn.getbit(\"pings:2024-01-01-00:00\", 123)\n",
    "print(res)\n",
    "\n",
    "res = conn.setbit(\"pings:2024-01-01-00:00\", 236, 1)\n",
    "print(res)\n",
    "\n",
    "res = conn.getbit(\"pings:2024-01-01-00:00\", 456)\n",
    "print(res)"
   ]
  },
  {
   "cell_type": "code",
   "execution_count": 28,
   "id": "70b72b34-b35a-49c7-bde8-652a345676a6",
   "metadata": {},
   "outputs": [
    {
     "name": "stdout",
     "output_type": "stream",
     "text": [
      "2\n"
     ]
    }
   ],
   "source": [
    "res = conn.bitcount(\"pings:2024-01-01-00:00\")\n",
    "print(res)"
   ]
  },
  {
   "cell_type": "markdown",
   "id": "400119e0-67f3-4180-a82d-c3288e0a3b16",
   "metadata": {},
   "source": [
    "# Bitfields"
   ]
  },
  {
   "cell_type": "code",
   "execution_count": 29,
   "id": "e07e67a8-91f9-4a57-9d52-c6a53b1c61bb",
   "metadata": {},
   "outputs": [
    {
     "name": "stdout",
     "output_type": "stream",
     "text": [
      "[0]\n",
      "[950, 1]\n",
      "[1450, 2]\n",
      "[1450, 2]\n"
     ]
    }
   ],
   "source": [
    "bf = conn.bitfield(\"cars:1:stats\")\n",
    "res = bf.set(\"u32\", \"#0\", 1000).execute()\n",
    "print(res) \n",
    "\n",
    "res = bf.incrby(\"u32\", \"#0\", -50).incrby(\"u32\", \"#1\", 1).execute()\n",
    "print(res)\n",
    "\n",
    "res = bf.incrby(\"u32\", \"#0\", 500).incrby(\"u32\", \"#1\", 1).execute()\n",
    "print(res)\n",
    "\n",
    "res = bf.get(\"u32\", \"#0\").get(\"u32\", \"#1\").execute()\n",
    "print(res)"
   ]
  },
  {
   "cell_type": "markdown",
   "id": "c1225982-ac17-4676-b075-7f0adcb9bf25",
   "metadata": {},
   "source": [
    "# Probabilistic"
   ]
  },
  {
   "cell_type": "code",
   "execution_count": 30,
   "id": "662781c9-5fad-4e4c-a9ea-667b15667171",
   "metadata": {},
   "outputs": [
    {
     "name": "stdout",
     "output_type": "stream",
     "text": [
      "1\n",
      "4\n"
     ]
    }
   ],
   "source": [
    "res = conn.pfadd(\"m_bikes\", \"Hyperion\", \"Deimos\", \"Phoebe\", \"Quaoar\")\n",
    "print(res)\n",
    "\n",
    "res = conn.pfcount(\"m_bikes\")\n",
    "print(res) "
   ]
  },
  {
   "cell_type": "markdown",
   "id": "6b995be4-4559-459b-9b9c-8cacf1ded631",
   "metadata": {},
   "source": [
    "# Time Series"
   ]
  },
  {
   "cell_type": "code",
   "execution_count": 37,
   "id": "6fbcd5fe-c749-4a05-a91c-c934e30d7931",
   "metadata": {},
   "outputs": [
    {
     "name": "stdout",
     "output_type": "stream",
     "text": [
      "True\n",
      "1626434637914\n",
      "1626434637915\n",
      "1626434637916\n",
      "1626434637917\n"
     ]
    }
   ],
   "source": [
    "ts = conn.ts()\n",
    "\n",
    "res = ts.create('sensor')\n",
    "print(res)\n",
    "\n",
    "res = ts.add(key='sensor', timestamp=1626434637914, value=32)\n",
    "print(res)\n",
    "\n",
    "res = ts.add(key='sensor', timestamp=1626434637915, value=33)\n",
    "print(res)\n",
    "\n",
    "res = ts.add(key='sensor', timestamp=1626434637916, value=31)\n",
    "print(res)\n",
    "\n",
    "res = ts.add(key='sensor', timestamp=1626434637917, value=30)\n",
    "print(res)"
   ]
  },
  {
   "cell_type": "code",
   "execution_count": 47,
   "id": "5b8e46b0-f1e8-4df1-ad51-34dd01529e16",
   "metadata": {},
   "outputs": [
    {
     "name": "stdout",
     "output_type": "stream",
     "text": [
      "[(1626433200000, 31.5)]\n",
      "[(1626433200000, 33.0)]\n"
     ]
    }
   ],
   "source": [
    "res = ts.range(from_time=1626434637913, to_time=1626434637918, key='sensor', aggregation_type='AVG', bucket_size_msec=3600000)\n",
    "print(res)\n",
    "\n",
    "res = ts.range(from_time=1626434637913, to_time=1626434637918, key='sensor', aggregation_type='MAX', bucket_size_msec=3600000)\n",
    "print(res)"
   ]
  },
  {
   "cell_type": "code",
   "execution_count": null,
   "id": "2ea26db1-a9af-4810-ad2a-bfe1599a8474",
   "metadata": {},
   "outputs": [],
   "source": []
  }
 ],
 "metadata": {
  "kernelspec": {
   "display_name": "Python 3 (ipykernel)",
   "language": "python",
   "name": "python3"
  },
  "language_info": {
   "codemirror_mode": {
    "name": "ipython",
    "version": 3
   },
   "file_extension": ".py",
   "mimetype": "text/x-python",
   "name": "python",
   "nbconvert_exporter": "python",
   "pygments_lexer": "ipython3",
   "version": "3.12.3"
  }
 },
 "nbformat": 4,
 "nbformat_minor": 5
}
