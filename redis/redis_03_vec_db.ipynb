{
 "cells": [
  {
   "cell_type": "code",
   "execution_count": 2,
   "id": "028b4860-d6d5-4981-8d20-983e42044159",
   "metadata": {},
   "outputs": [
    {
     "name": "stderr",
     "output_type": "stream",
     "text": [
      "/home/armando/ambientes_python/ambiente_ai/lib/python3.12/site-packages/tqdm/auto.py:21: TqdmWarning: IProgress not found. Please update jupyter and ipywidgets. See https://ipywidgets.readthedocs.io/en/stable/user_install.html\n",
      "  from .autonotebook import tqdm as notebook_tqdm\n"
     ]
    }
   ],
   "source": [
    "import json\n",
    "import time\n",
    "\n",
    "import numpy as np\n",
    "import pandas as pd\n",
    "import requests\n",
    "\n",
    "import redis\n",
    "from redis.commands.search.field import NumericField, TextField, TagField, VectorField\n",
    "from redis.commands.search.query import Query\n",
    "from redis.commands.search.indexDefinition import IndexDefinition, IndexType\n",
    "\n",
    "from sentence_transformers import SentenceTransformer"
   ]
  },
  {
   "cell_type": "code",
   "execution_count": 3,
   "id": "ae023292-b248-4a9b-a9ea-6d15723a7682",
   "metadata": {},
   "outputs": [],
   "source": [
    "REDIS_HOST = '127.0.0.1'\n",
    "REDIS_PORT = 6379\n",
    "REDIS_PASSWORD = ''\n",
    "\n",
    "conn = redis.Redis(host=REDIS_HOST, port=REDIS_PORT, password=REDIS_PASSWORD, encoding='utf-8', decode_responses=True)"
   ]
  },
  {
   "cell_type": "markdown",
   "id": "a3229a9d-80b8-4da1-89fc-00b0bf81c448",
   "metadata": {},
   "source": [
    "# JSON Data"
   ]
  },
  {
   "cell_type": "code",
   "execution_count": 4,
   "id": "f48b4929-2a9b-4348-bf15-a983197b3595",
   "metadata": {},
   "outputs": [
    {
     "name": "stdout",
     "output_type": "stream",
     "text": [
      "True\n"
     ]
    }
   ],
   "source": [
    "res = conn.json().set(\"anuncio:1\", \"$\", {'titulo': 'Preciosa casa en venta en Lomas de Chapultepec', \n",
    "                                           'tipo': 'casa', 'operacion': 'venta', \n",
    "                                           'precio': 50000000, \n",
    "                                           'amenidades': ['Vigilancia', 'Jardín', 'Alberca'], \n",
    "                                           'descripcion': 'Esta casa de 400 m2 se encuentra en una de las mejores zonas exclusivas de la ciudad, cuenta con alberca y jardines'})\n",
    "\n",
    "res = conn.json().set(\"anuncio:2\", \"$\", {'titulo': 'Departamento en renta en Roma Norte a tres calles del Metro Sevilla', \n",
    "                                           'tipo': 'departamento', 'operacion': 'sevilla', \n",
    "                                           'precio': 15000,\n",
    "                                           'amenidades': ['Vigilancia', 'Parrilla'], \n",
    "                                           'descripcion': 'Bonito departamento ubicado en una de las zonas de moda, ideal para personas que trabajan remoto, cercano a cafeterias y restaurantes'})\n",
    "\n",
    "res = conn.json().set(\"anuncio:3\", \"$\", {'titulo': 'Departanto en renta con vista al parque', \n",
    "                                           'tipo': 'departamento', 'operacion': 'renta', \n",
    "                                           'precio': 18000, \n",
    "                                           'amenidades': ['Vigilancia', 'Terraza', 'Roof Garden'], \n",
    "                                           'descripcion': 'Este departamento con terraza y roof garden tiene además un parque, cuenta con vigilancia y otras amenidades'})\n",
    "\n",
    "res = conn.json().set(\"anuncio:4\", \"$\", {'titulo': 'Casa remodelada en venta en Lomas de Chapultepec', \n",
    "                                           'tipo': 'casa', 'operacion': 'venta', \n",
    "                                           'precio': 60000000, \n",
    "                                           'amenidades': ['Jardín', 'Parrilla'], \n",
    "                                           'descripcion': 'Preciosa residencia en zona exclusiva, la casa ha sido recientemente remodelada y cuanta con amplios jardines'})\n",
    "\n",
    "res = conn.json().set(\"anuncio:5\", \"$\", {'titulo': 'Casa en renta cerca de escuelas en Coyoacán', \n",
    "                                           'tipo': 'casa', 'operacion': 'renta', \n",
    "                                           'precio': 30000, \n",
    "                                           'amenidades': ['Jardín'], \n",
    "                                           'descripcion': 'Casa pequeña de 100 m2 pero perfectamente ubicada cerca del centro de Coyoacán, con muchas escuelas cercanas, también cuenta con un pequeño jardín'})\n",
    "\n",
    "res = conn.json().set(\"anuncio:6\", \"$\", {'titulo': 'Departamento en renta cerca del centro de Coyoacán', \n",
    "                                           'tipo': 'departamento', 'operacion': 'renta', \n",
    "                                           'precio': 15000, \n",
    "                                           'amenidades': ['Vigilancia', 'Roof Garden', 'Parrilla'], \n",
    "                                           'descripcion': 'Departamento en Coyoacán, a dos calles de la plaza principal, con parques y museos a la redonda, cuenta con vigilancia, parrilla y roof garden'})\n",
    "\n",
    "res = conn.json().set(\"anuncio:7\", \"$\", {'titulo': 'Departamento en venta cerca en Tlatelolco a unos pasos del metro', \n",
    "                                           'tipo': 'departamento', 'operacion': 'venta', \n",
    "                                           'precio': 1500000, \n",
    "                                           'amenidades': None, \n",
    "                                           'descripcion': 'Departamento en venta a unos pasos del metro, en una zona tranquila al norte de la ciudad y accesible económicamente'})\n",
    "\n",
    "res = conn.json().set(\"anuncio:8\", \"$\", {'titulo': 'Oportunidad de compra de nuevo departamento en exlusiva zona', \n",
    "                                           'tipo': 'departamento', 'operacion': 'venta', \n",
    "                                           'precio': 7000000, \n",
    "                                           'amenidades': ['Vigilancia', 'Acabados de Lujo', 'Terraza'], \n",
    "                                           'descripcion': 'Ven y conoce este nuevo desarrollo en una de las zonas de mayor plusvalia y exclusivas, el departamento cuenta con acabados de lujo y terraza'})\n",
    "\n",
    "res = conn.json().set(\"anuncio:9\", \"$\", {'titulo': 'Departamento ideal para estudiantes cerca de UNAM', \n",
    "                                           'tipo': 'departamento', 'operacion': 'renta', \n",
    "                                           'precio': 7000, \n",
    "                                           'amenidades': None, \n",
    "                                           'descripcion': 'Este departamento con precio accesible es ideal si eres estudiante de la UNAM, a unos minutos de las facultades'})\n",
    "\n",
    "res = conn.json().set(\"anuncio:10\", \"$\", {'titulo': 'Casa Antigua en venta, excelente oportunidad', \n",
    "                                           'tipo': 'casa', 'operacion': 'venta', \n",
    "                                           'precio': 40000000, \n",
    "                                           'amenidades': ['Parrilla', 'Jardín'], \n",
    "                                           'descripcion': 'Bonita casa antigua pero bien conservada de 150m2, la casa cuenta con jardín y se ubica en una zona tranquila'})\n",
    "\n",
    "print(res)"
   ]
  },
  {
   "cell_type": "markdown",
   "id": "045cffa7-fafd-403c-8be0-b768bbfc1bc1",
   "metadata": {},
   "source": [
    "# Embeddings"
   ]
  },
  {
   "cell_type": "code",
   "execution_count": 5,
   "id": "b7dc006f-7779-4194-a7d4-7ac2ebeb1015",
   "metadata": {},
   "outputs": [],
   "source": [
    "embedder = SentenceTransformer('msmarco-distilbert-base-v4')"
   ]
  },
  {
   "cell_type": "code",
   "execution_count": 7,
   "id": "6223a77d-20fa-40f0-90b7-a53367551d0c",
   "metadata": {},
   "outputs": [
    {
     "name": "stdout",
     "output_type": "stream",
     "text": [
      "['Esta casa de 400 m2 se encuentra en una de las mejores zonas exclusivas de la ciudad, cuenta con alberca y jardines', 'Bonita casa antigua pero bien conservada de 150m2, la casa cuenta con jardín y se ubica en una zona tranquila', 'Bonito departamento ubicado en una de las zonas de moda, ideal para personas que trabajan remoto, cercano a cafeterias y restaurantes', 'Este departamento con terraza y roof garden tiene además un parque, cuenta con vigilancia y otras amenidades', 'Preciosa residencia en zona exclusiva, la casa ha sido recientemente remodelada y cuanta con amplios jardines', 'Casa pequeña de 100 m2 pero perfectamente ubicada cerca del centro de Coyoacán, con muchas escuelas cercanas, también cuenta con un pequeño jardín', 'Departamento en Coyoacán, a dos calles de la plaza principal, con parques y museos a la redonda, cuenta con vigilancia, parrilla y roof garden', 'Departamento en venta a unos pasos del metro, en una zona tranquila al norte de la ciudad y accesible económicamente', 'Ven y conoce este nuevo desarrollo en una de las zonas de mayor plusvalia y exclusivas, el departamento cuenta con acabados de lujo y terraza', 'Este departamento con precio accesible es ideal si eres estudiante de la UNAM, a unos minutos de las facultades']\n",
      "\n",
      "768\n"
     ]
    }
   ],
   "source": [
    "keys = sorted(conn.keys(\"anuncio:*\"))\n",
    "\n",
    "descriptions = conn.json().mget(keys, \"$.descripcion\")\n",
    "descriptions = [item for sublist in descriptions for item in sublist]\n",
    "\n",
    "print(descriptions)\n",
    "print('')\n",
    "\n",
    "embeddings = embedder.encode(descriptions).astype(np.float32).tolist()\n",
    "VECTOR_DIMENSION = len(embeddings[0])\n",
    "\n",
    "print(VECTOR_DIMENSION)"
   ]
  },
  {
   "cell_type": "code",
   "execution_count": 10,
   "id": "da8e38d0-1578-40bc-8625-590138f7c8dd",
   "metadata": {},
   "outputs": [
    {
     "data": {
      "text/plain": [
       "[True, True, True, True, True, True, True, True, True, True]"
      ]
     },
     "execution_count": 10,
     "metadata": {},
     "output_type": "execute_result"
    }
   ],
   "source": [
    "pipeline = conn.pipeline()\n",
    "\n",
    "#EXPORTAR EMBEDDINGS\n",
    "for key, embedding in zip(keys, embeddings):\n",
    "    pipeline.json().set(key, \"$.descripcion_vector\", embedding)\n",
    "    \n",
    "pipeline.execute()"
   ]
  },
  {
   "cell_type": "markdown",
   "id": "119c0e7c-3ed8-477e-bb86-5eb65c720c15",
   "metadata": {},
   "source": [
    "# Indice y esquema"
   ]
  },
  {
   "cell_type": "code",
   "execution_count": 20,
   "id": "f88e12b5-ba85-4228-92da-66f130c63891",
   "metadata": {},
   "outputs": [
    {
     "name": "stdout",
     "output_type": "stream",
     "text": [
      "OK\n"
     ]
    }
   ],
   "source": [
    "#INDEX GENERAL\n",
    "try:\n",
    "    conn.ft(\"idx:anuncio_vector\").dropindex()\n",
    "\n",
    "except: \n",
    "    pass\n",
    "\n",
    "schema = (\n",
    "    TextField(\"$.titulo\", as_name=\"titulo\"),\n",
    "    TagField(\"$.tipo\", as_name=\"tipo\"),\n",
    "    TagField(\"$.operacion\", as_name=\"operacion\"),\n",
    "    NumericField(\"$.precio\", as_name=\"precio\"),\n",
    "    TagField(\"$.amenidades.*\", as_name='amenidades'), \n",
    "    TextField(\"$.descripcion\", as_name=\"descripcion\"),\n",
    "    VectorField(\n",
    "        \"$.descripcion_vector\",\n",
    "        \"FLAT\",\n",
    "        {\n",
    "            \"TYPE\": \"FLOAT32\",\n",
    "            \"DIM\": VECTOR_DIMENSION,\n",
    "            \"DISTANCE_METRIC\": \"COSINE\",\n",
    "        },\n",
    "        as_name=\"vector\",\n",
    "    )\n",
    ")\n",
    "\n",
    "index_definition = IndexDefinition(prefix=[\"anuncio:\"], index_type=IndexType.JSON)\n",
    "index = conn.ft(\"idx:anuncio_vector\")\n",
    "res = index.create_index(fields=schema, definition=index_definition)\n",
    "\n",
    "print(res)"
   ]
  },
  {
   "cell_type": "code",
   "execution_count": 21,
   "id": "e18efd70-2393-4edb-95c1-ba201cdff7f9",
   "metadata": {},
   "outputs": [
    {
     "name": "stdout",
     "output_type": "stream",
     "text": [
      "10 documents indexed with 0 failures\n"
     ]
    }
   ],
   "source": [
    "info = conn.ft(\"idx:anuncio_vector\").info()\n",
    "num_docs = info[\"num_docs\"]\n",
    "indexing_failures = info[\"hash_indexing_failures\"]\n",
    "\n",
    "print(f\"{num_docs} documents indexed with {indexing_failures} failures\")"
   ]
  },
  {
   "cell_type": "markdown",
   "id": "978a306b-6346-4d90-afa2-b092e508b3d8",
   "metadata": {},
   "source": [
    "# Busquedas"
   ]
  },
  {
   "cell_type": "code",
   "execution_count": 14,
   "id": "5452af31-d29f-4ceb-b681-ddb0ac464b04",
   "metadata": {},
   "outputs": [
    {
     "name": "stdout",
     "output_type": "stream",
     "text": [
      "5\n"
     ]
    }
   ],
   "source": [
    "busquedas = ['Inmuebles en zonas exclusivas', 'Inmuebles accesibles o a precios economicos', 'Inmuebles con vigilancia', \n",
    "             'Inmuebles con escuelas cercanas', 'Inmuebles con jardines o cerca de parques']\n",
    "\n",
    "busquedas_codificadas = embedder.encode(busquedas)\n",
    "print(len(busquedas_codificadas))\n"
   ]
  },
  {
   "cell_type": "code",
   "execution_count": 27,
   "id": "3d7850e1-7dfb-4b46-957c-ea804a44100e",
   "metadata": {},
   "outputs": [],
   "source": [
    "#KNN\n",
    "query = (\n",
    "    Query('(*)=>[KNN 3 @vector $query_vector AS vector_score]')\n",
    "     .sort_by('vector_score')\n",
    "     .return_fields('vector_score', 'titulo', 'operacion', 'tipo', 'descripcion')\n",
    "     .dialect(2)\n",
    ")"
   ]
  },
  {
   "cell_type": "code",
   "execution_count": 28,
   "id": "89dddf64-f5a0-459a-bf43-ef73b8eac731",
   "metadata": {},
   "outputs": [
    {
     "name": "stdout",
     "output_type": "stream",
     "text": [
      "Search: Inmuebles en zonas exclusivas\n",
      "\n",
      "Resultados: \n",
      "\n",
      "0.565960526466\n",
      "venta departamento\n",
      "Ven y conoce este nuevo desarrollo en una de las zonas de mayor plusvalia y exclusivas, el departamento cuenta con acabados de lujo y terraza\n",
      "\n",
      "0.588380217552\n",
      "venta casa\n",
      "Esta casa de 400 m2 se encuentra en una de las mejores zonas exclusivas de la ciudad, cuenta con alberca y jardines\n",
      "\n",
      "0.618106365204\n",
      "venta casa\n",
      "Preciosa residencia en zona exclusiva, la casa ha sido recientemente remodelada y cuanta con amplios jardines\n",
      "\n",
      "\n",
      "____________________________________________\n",
      "\n",
      "Search: Inmuebles accesibles o a precios economicos\n",
      "\n",
      "Resultados: \n",
      "\n",
      "0.555920958519\n",
      "renta departamento\n",
      "Este departamento con precio accesible es ideal si eres estudiante de la UNAM, a unos minutos de las facultades\n",
      "\n",
      "0.579193174839\n",
      "venta departamento\n",
      "Departamento en venta a unos pasos del metro, en una zona tranquila al norte de la ciudad y accesible económicamente\n",
      "\n",
      "0.670033454895\n",
      "venta departamento\n",
      "Ven y conoce este nuevo desarrollo en una de las zonas de mayor plusvalia y exclusivas, el departamento cuenta con acabados de lujo y terraza\n",
      "\n",
      "\n",
      "____________________________________________\n",
      "\n",
      "Search: Inmuebles con vigilancia\n",
      "\n",
      "Resultados: \n",
      "\n",
      "0.708299219608\n",
      "venta departamento\n",
      "Ven y conoce este nuevo desarrollo en una de las zonas de mayor plusvalia y exclusivas, el departamento cuenta con acabados de lujo y terraza\n",
      "\n",
      "0.731597721577\n",
      "renta departamento\n",
      "Departamento en Coyoacán, a dos calles de la plaza principal, con parques y museos a la redonda, cuenta con vigilancia, parrilla y roof garden\n",
      "\n",
      "0.763117611408\n",
      "renta departamento\n",
      "Este departamento con terraza y roof garden tiene además un parque, cuenta con vigilancia y otras amenidades\n",
      "\n",
      "\n",
      "____________________________________________\n",
      "\n",
      "Search: Inmuebles con escuelas cercanas\n",
      "\n",
      "Resultados: \n",
      "\n",
      "0.604394316673\n",
      "venta departamento\n",
      "Ven y conoce este nuevo desarrollo en una de las zonas de mayor plusvalia y exclusivas, el departamento cuenta con acabados de lujo y terraza\n",
      "\n",
      "0.632545292377\n",
      "venta casa\n",
      "Esta casa de 400 m2 se encuentra en una de las mejores zonas exclusivas de la ciudad, cuenta con alberca y jardines\n",
      "\n",
      "0.6454205513\n",
      "renta departamento\n",
      "Departamento en Coyoacán, a dos calles de la plaza principal, con parques y museos a la redonda, cuenta con vigilancia, parrilla y roof garden\n",
      "\n",
      "\n",
      "____________________________________________\n",
      "\n",
      "Search: Inmuebles con jardines o cerca de parques\n",
      "\n",
      "Resultados: \n",
      "\n",
      "0.658402204514\n",
      "venta casa\n",
      "Preciosa residencia en zona exclusiva, la casa ha sido recientemente remodelada y cuanta con amplios jardines\n",
      "\n",
      "0.659602224827\n",
      "venta casa\n",
      "Esta casa de 400 m2 se encuentra en una de las mejores zonas exclusivas de la ciudad, cuenta con alberca y jardines\n",
      "\n",
      "0.672077178955\n",
      "renta departamento\n",
      "Departamento en Coyoacán, a dos calles de la plaza principal, con parques y museos a la redonda, cuenta con vigilancia, parrilla y roof garden\n",
      "\n",
      "\n",
      "____________________________________________\n",
      "\n"
     ]
    }
   ],
   "source": [
    "for i in range(0, len(busquedas)):\n",
    "    print('Search: ' + busquedas[i])\n",
    "    \n",
    "    results = conn.ft('idx:anuncio_vector').search(\n",
    "        query,\n",
    "        {\n",
    "          'query_vector': np.array(busquedas_codificadas[i], dtype=np.float32).tobytes()\n",
    "        }\n",
    "    ).docs\n",
    "\n",
    "    print()\n",
    "    print('Resultados: \\n')\n",
    "    for result in results:\n",
    "        print(result['vector_score'])\n",
    "        print(result['operacion'], result['tipo'])\n",
    "        print(result['descripcion'])\n",
    "        print()\n",
    "\n",
    "    print('\\n____________________________________________\\n')  "
   ]
  },
  {
   "cell_type": "code",
   "execution_count": 50,
   "id": "4ce69a41-9fde-4a0d-bf06-3c8dd8a0c454",
   "metadata": {},
   "outputs": [],
   "source": [
    "#RADIO\n",
    "query = (\n",
    "    Query('(@vector:[VECTOR_RANGE 0.65 $query_vector])=>{$YIELD_DISTANCE_AS: vector_radio}')\n",
    "     .sort_by('vector_radio')\n",
    "     .return_fields('vector_radio', 'titulo', 'operacion', 'tipo', 'descripcion')\n",
    "     .dialect(2)\n",
    ")"
   ]
  },
  {
   "cell_type": "code",
   "execution_count": 51,
   "id": "5f484788-4bfd-40e9-803f-78033489dcde",
   "metadata": {},
   "outputs": [
    {
     "name": "stdout",
     "output_type": "stream",
     "text": [
      "Search: Inmuebles en zonas exclusivas\n",
      "\n",
      "Resultados: \n",
      "\n",
      "0.565960526466\n",
      "venta departamento\n",
      "Ven y conoce este nuevo desarrollo en una de las zonas de mayor plusvalia y exclusivas, el departamento cuenta con acabados de lujo y terraza\n",
      "\n",
      "0.588380217552\n",
      "venta casa\n",
      "Esta casa de 400 m2 se encuentra en una de las mejores zonas exclusivas de la ciudad, cuenta con alberca y jardines\n",
      "\n",
      "0.618106365204\n",
      "venta casa\n",
      "Preciosa residencia en zona exclusiva, la casa ha sido recientemente remodelada y cuanta con amplios jardines\n",
      "\n",
      "0.647517859936\n",
      "venta departamento\n",
      "Departamento en venta a unos pasos del metro, en una zona tranquila al norte de la ciudad y accesible económicamente\n",
      "\n",
      "\n",
      "____________________________________________\n",
      "\n",
      "Search: Inmuebles accesibles o a precios economicos\n",
      "\n",
      "Resultados: \n",
      "\n",
      "0.555920958519\n",
      "renta departamento\n",
      "Este departamento con precio accesible es ideal si eres estudiante de la UNAM, a unos minutos de las facultades\n",
      "\n",
      "0.579193174839\n",
      "venta departamento\n",
      "Departamento en venta a unos pasos del metro, en una zona tranquila al norte de la ciudad y accesible económicamente\n",
      "\n",
      "\n",
      "____________________________________________\n",
      "\n",
      "Search: Inmuebles con vigilancia\n",
      "\n",
      "Resultados: \n",
      "\n",
      "\n",
      "____________________________________________\n",
      "\n",
      "Search: Inmuebles con escuelas cercanas\n",
      "\n",
      "Resultados: \n",
      "\n",
      "0.604394316673\n",
      "venta departamento\n",
      "Ven y conoce este nuevo desarrollo en una de las zonas de mayor plusvalia y exclusivas, el departamento cuenta con acabados de lujo y terraza\n",
      "\n",
      "0.632545292377\n",
      "venta casa\n",
      "Esta casa de 400 m2 se encuentra en una de las mejores zonas exclusivas de la ciudad, cuenta con alberca y jardines\n",
      "\n",
      "0.6454205513\n",
      "renta departamento\n",
      "Departamento en Coyoacán, a dos calles de la plaza principal, con parques y museos a la redonda, cuenta con vigilancia, parrilla y roof garden\n",
      "\n",
      "\n",
      "____________________________________________\n",
      "\n",
      "Search: Inmuebles con jardines o cerca de parques\n",
      "\n",
      "Resultados: \n",
      "\n",
      "\n",
      "____________________________________________\n",
      "\n"
     ]
    }
   ],
   "source": [
    "for i in range(0, len(busquedas)):\n",
    "    print('Search: ' + busquedas[i])\n",
    "    \n",
    "    results = conn.ft('idx:anuncio_vector').search(\n",
    "        query,\n",
    "        {\n",
    "          'query_vector': np.array(busquedas_codificadas[i], dtype=np.float32).tobytes()\n",
    "        }\n",
    "    ).docs\n",
    "\n",
    "    print()\n",
    "    print('Resultados: \\n')\n",
    "    for result in results:\n",
    "        print(result['vector_radio'])\n",
    "        print(result['operacion'], result['tipo'])\n",
    "        print(result['descripcion'])\n",
    "        print()\n",
    "\n",
    "    print('\\n____________________________________________\\n') "
   ]
  },
  {
   "cell_type": "code",
   "execution_count": null,
   "id": "7d5b7368-79e3-4e2f-baff-8d5342c408b0",
   "metadata": {},
   "outputs": [],
   "source": []
  }
 ],
 "metadata": {
  "kernelspec": {
   "display_name": "Python 3 (ipykernel)",
   "language": "python",
   "name": "python3"
  },
  "language_info": {
   "codemirror_mode": {
    "name": "ipython",
    "version": 3
   },
   "file_extension": ".py",
   "mimetype": "text/x-python",
   "name": "python",
   "nbconvert_exporter": "python",
   "pygments_lexer": "ipython3",
   "version": "3.12.3"
  }
 },
 "nbformat": 4,
 "nbformat_minor": 5
}
