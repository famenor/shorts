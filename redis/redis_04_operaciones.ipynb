{
 "cells": [
  {
   "cell_type": "code",
   "execution_count": 8,
   "id": "028b4860-d6d5-4981-8d20-983e42044159",
   "metadata": {},
   "outputs": [],
   "source": [
    "import json\n",
    "\n",
    "import pandas as pd\n",
    "import numpy as np\n",
    "\n",
    "import redis\n",
    "from redis.commands.search.field import NumericField, TagField\n",
    "from redis.commands.search.indexDefinition import IndexDefinition, IndexType\n",
    "from redis.commands.search.query import Query, NumericFilter\n",
    "from redis.commands.search.aggregation import AggregateRequest\n",
    "from redis.commands.search import Search\n",
    "import redis.commands.search.reducers as reducers"
   ]
  },
  {
   "cell_type": "code",
   "execution_count": 2,
   "id": "ae023292-b248-4a9b-a9ea-6d15723a7682",
   "metadata": {},
   "outputs": [],
   "source": [
    "REDIS_HOST = '127.0.0.1'\n",
    "REDIS_PORT = 6379\n",
    "REDIS_PASSWORD = ''\n",
    "\n",
    "conn = redis.Redis(host=REDIS_HOST, port=REDIS_PORT, password=REDIS_PASSWORD, encoding='utf-8', decode_responses=True)"
   ]
  },
  {
   "cell_type": "markdown",
   "id": "2f016e50-a951-44f8-816d-f6ba3ff65cfb",
   "metadata": {},
   "source": [
    "# Tabla HASH"
   ]
  },
  {
   "cell_type": "code",
   "execution_count": 3,
   "id": "19764df2-c411-4419-98b1-b54f198e2266",
   "metadata": {},
   "outputs": [],
   "source": [
    "res = conn.hset('ventas:1', mapping={'region': 'Norte', 'categoria': 'Bebidas', 'producto': 'Jugos', 'venta': 500.50})\n",
    "res = conn.hset('ventas:2', mapping={'region': 'Norte', 'categoria': 'Bebidas', 'producto': 'Lacteos', 'venta': 400.30})\n",
    "res = conn.hset('ventas:3', mapping={'region': 'Norte', 'categoria': 'Bebidas', 'producto': 'Agua', 'venta': 230.20})\n",
    "res = conn.hset('ventas:4', mapping={'region': 'Norte', 'categoria': 'Alimentos', 'producto': 'Frituras', 'venta': 1050.00})\n",
    "res = conn.hset('ventas:5', mapping={'region': 'Norte', 'categoria': 'Alimentos', 'producto': 'Quesos', 'venta': 750.00})\n",
    "\n",
    "res = conn.hset('ventas:6', mapping={'region': 'Sur', 'categoria': 'Bebidas', 'producto': 'Jugos', 'venta': 380.25})\n",
    "res = conn.hset('ventas:7', mapping={'region': 'Sur', 'categoria': 'Bebidas', 'producto': 'Lacteos', 'venta': 350.00})\n",
    "res = conn.hset('ventas:8', mapping={'region': 'Sur', 'categoria': 'Bebidas', 'producto': 'Agua', 'venta': 115.00})\n",
    "res = conn.hset('ventas:9', mapping={'region': 'Sur', 'categoria': 'Alimentos', 'producto': 'Frituras', 'venta': 1300.00})\n",
    "res = conn.hset('ventas:10', mapping={'region': 'Sur', 'categoria': 'Alimentos', 'producto': 'Quesos', 'venta': 600.00})\n",
    "\n",
    "res = conn.hset('ventas:11', mapping={'region': 'Oriente', 'categoria': 'Bebidas', 'producto': 'Jugos', 'venta': 750.00})\n",
    "res = conn.hset('ventas:12', mapping={'region': 'Oriente', 'categoria': 'Bebidas', 'producto': 'Lacteos', 'venta': 815.75})\n",
    "res = conn.hset('ventas:13', mapping={'region': 'Oriente', 'categoria': 'Bebidas', 'producto': 'Agua', 'venta': 645.15})\n",
    "res = conn.hset('ventas:14', mapping={'region': 'Oriente', 'categoria': 'Alimentos', 'producto': 'Frituras', 'venta': 415.90})\n",
    "res = conn.hset('ventas:15', mapping={'region': 'Oriente', 'categoria': 'Alimentos', 'producto': 'Quesos', 'venta': 1000.00})"
   ]
  },
  {
   "cell_type": "markdown",
   "id": "27279c96-62fc-4a47-bde7-4e6a25028344",
   "metadata": {},
   "source": [
    "# Esquema e Indice"
   ]
  },
  {
   "cell_type": "code",
   "execution_count": 6,
   "id": "55762b21-708f-4256-8eb9-7660d521cbe8",
   "metadata": {},
   "outputs": [
    {
     "name": "stdout",
     "output_type": "stream",
     "text": [
      "OK\n"
     ]
    }
   ],
   "source": [
    "#INDEX GENERAL\n",
    "try:\n",
    "    conn.ft(\"idx:ventas_idx\").dropindex()\n",
    "\n",
    "except: \n",
    "    pass\n",
    "\n",
    "schema = (\n",
    "    TagField(\"region\", as_name=\"region\"),\n",
    "    TagField(\"categoria\", as_name=\"categoria\"),\n",
    "    TagField(\"producto\", as_name=\"producto\"),\n",
    "    NumericField(\"venta\", as_name=\"venta\")\n",
    ")\n",
    "\n",
    "index_definition = IndexDefinition(prefix=[\"ventas:\"], index_type=IndexType.HASH)\n",
    "index = conn.ft(\"idx:ventas_idx\")\n",
    "res = index.create_index(fields=schema, definition=index_definition)\n",
    "\n",
    "print(res)"
   ]
  },
  {
   "cell_type": "markdown",
   "id": "323d9c9d-06c6-4e5d-b8d9-1c4dcba98788",
   "metadata": {},
   "source": [
    "# Agregaciones"
   ]
  },
  {
   "cell_type": "code",
   "execution_count": 19,
   "id": "8e76b968-609c-4d7d-b3b5-68f71da0ba77",
   "metadata": {},
   "outputs": [
    {
     "name": "stdout",
     "output_type": "stream",
     "text": [
      "9\n",
      "['region', 'Sur', 'categoria', 'Bebidas', 'producto', 'Jugos', 'venta', '380.25', 'venta_iva', '437.2875']\n",
      "['region', 'Norte', 'categoria', 'Bebidas', 'producto', 'Jugos', 'venta', '500.5', 'venta_iva', '575.575']\n",
      "['region', 'Oriente', 'categoria', 'Bebidas', 'producto', 'Agua', 'venta', '645.15', 'venta_iva', '741.9225']\n",
      "['region', 'Oriente', 'categoria', 'Bebidas', 'producto', 'Jugos', 'venta', '750', 'venta_iva', '862.5']\n",
      "['region', 'Sur', 'categoria', 'Bebidas', 'producto', 'Agua', 'venta', '115', 'venta_iva', '132.25']\n",
      "['region', 'Oriente', 'categoria', 'Bebidas', 'producto', 'Lacteos', 'venta', '815.75', 'venta_iva', '938.1125']\n",
      "['region', 'Norte', 'categoria', 'Bebidas', 'producto', 'Agua', 'venta', '230.2', 'venta_iva', '264.73']\n",
      "['region', 'Norte', 'categoria', 'Bebidas', 'producto', 'Lacteos', 'venta', '400.3', 'venta_iva', '460.345']\n",
      "['region', 'Sur', 'categoria', 'Bebidas', 'producto', 'Lacteos', 'venta', '350', 'venta_iva', '402.5']\n"
     ]
    }
   ],
   "source": [
    "#APPLY\n",
    "search = Search(conn, index_name=\"idx:ventas_idx\")\n",
    "\n",
    "aggregate_request = AggregateRequest(query='@categoria:{Bebidas}') \\\n",
    "    .load('region', 'categoria', 'producto', 'venta').apply(venta_iva='@venta * 1.15')\n",
    "\n",
    "res = search.aggregate(aggregate_request)\n",
    "print(len(res.rows))\n",
    "for row in res.rows:\n",
    "    print(row)"
   ]
  },
  {
   "cell_type": "code",
   "execution_count": 27,
   "id": "14f92753-3479-442d-ad41-0ec4b9658cc2",
   "metadata": {},
   "outputs": [
    {
     "name": "stdout",
     "output_type": "stream",
     "text": [
      "6\n",
      "['region', 'Oriente', 'categoria', 'Alimentos', 'suma_ventas', '1415.9']\n",
      "['region', 'Norte', 'categoria', 'Bebidas', 'suma_ventas', '1131']\n",
      "['region', 'Norte', 'categoria', 'Alimentos', 'suma_ventas', '1800']\n",
      "['region', 'Oriente', 'categoria', 'Bebidas', 'suma_ventas', '2210.9']\n",
      "['region', 'Sur', 'categoria', 'Alimentos', 'suma_ventas', '1900']\n",
      "['region', 'Sur', 'categoria', 'Bebidas', 'suma_ventas', '845.25']\n"
     ]
    }
   ],
   "source": [
    "#AGRUPAR\n",
    "search = Search(conn, index_name=\"idx:ventas_idx\")\n",
    "\n",
    "aggregate_request = AggregateRequest(query='*').load('region', 'categoria', 'venta').group_by(['@region', '@categoria'], reducers.sum('@venta').alias('suma_ventas'))\n",
    "\n",
    "res = search.aggregate(aggregate_request)\n",
    "print(len(res.rows))\n",
    "for row in res.rows:\n",
    "    print(row)"
   ]
  },
  {
   "cell_type": "markdown",
   "id": "9c744412-53ce-426e-a351-7f28c12acec5",
   "metadata": {},
   "source": [
    "# Transacciones"
   ]
  },
  {
   "cell_type": "code",
   "execution_count": 34,
   "id": "0c04607a-90f0-4129-a4f4-cb493eff7aa1",
   "metadata": {},
   "outputs": [
    {
     "name": "stdout",
     "output_type": "stream",
     "text": [
      "True\n",
      "Mario\n",
      "Mario\n",
      "Luigi\n"
     ]
    }
   ],
   "source": [
    "#EXECUTE\n",
    "res = conn.set('name', 'Mario')\n",
    "print(res)\n",
    "\n",
    "res = conn.get('name')\n",
    "print(res)\n",
    "\n",
    "flujo = conn.pipeline(transaction=True)\n",
    "res = flujo.set('name', 'Luigi')\n",
    "\n",
    "res = conn.get('name')\n",
    "print(res)\n",
    "\n",
    "flujo.execute()\n",
    "\n",
    "res = conn.get('name')\n",
    "print(res)"
   ]
  },
  {
   "cell_type": "code",
   "execution_count": 35,
   "id": "cbbf1b5e-d152-49dd-b0ac-766a74500d4c",
   "metadata": {},
   "outputs": [
    {
     "name": "stdout",
     "output_type": "stream",
     "text": [
      "True\n",
      "Mario\n",
      "Mario\n",
      "Mario\n"
     ]
    }
   ],
   "source": [
    "#EXECUTE\n",
    "res = conn.set('name', 'Mario')\n",
    "print(res)\n",
    "\n",
    "res = conn.get('name')\n",
    "print(res)\n",
    "\n",
    "flujo = conn.pipeline(transaction=True)\n",
    "res = flujo.set('name', 'Luigi')\n",
    "\n",
    "res = conn.get('name')\n",
    "print(res)\n",
    "\n",
    "flujo.discard()\n",
    "\n",
    "res = conn.get('name')\n",
    "print(res)"
   ]
  },
  {
   "cell_type": "code",
   "execution_count": null,
   "id": "4be58883-9fc6-41b8-bce3-ef186065ed2a",
   "metadata": {},
   "outputs": [],
   "source": []
  }
 ],
 "metadata": {
  "kernelspec": {
   "display_name": "Python 3 (ipykernel)",
   "language": "python",
   "name": "python3"
  },
  "language_info": {
   "codemirror_mode": {
    "name": "ipython",
    "version": 3
   },
   "file_extension": ".py",
   "mimetype": "text/x-python",
   "name": "python",
   "nbconvert_exporter": "python",
   "pygments_lexer": "ipython3",
   "version": "3.12.3"
  }
 },
 "nbformat": 4,
 "nbformat_minor": 5
}
