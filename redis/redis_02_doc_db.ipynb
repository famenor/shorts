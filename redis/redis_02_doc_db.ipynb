{
 "cells": [
  {
   "cell_type": "code",
   "execution_count": 1,
   "id": "028b4860-d6d5-4981-8d20-983e42044159",
   "metadata": {},
   "outputs": [],
   "source": [
    "import json\n",
    "\n",
    "import pandas as pd\n",
    "import numpy as np\n",
    "\n",
    "import redis\n",
    "from redis.commands.search.field import NumericField, TextField, TagField, GeoField\n",
    "from redis.commands.search.indexDefinition import IndexDefinition, IndexType\n",
    "from redis.commands.search.query import Query, NumericFilter"
   ]
  },
  {
   "cell_type": "code",
   "execution_count": 2,
   "id": "ae023292-b248-4a9b-a9ea-6d15723a7682",
   "metadata": {},
   "outputs": [],
   "source": [
    "REDIS_HOST = '127.0.0.1'\n",
    "REDIS_PORT = 6379\n",
    "REDIS_PASSWORD = ''\n",
    "\n",
    "conn = redis.Redis(host=REDIS_HOST, port=REDIS_PORT, password=REDIS_PASSWORD, encoding='utf-8', decode_responses=True)"
   ]
  },
  {
   "cell_type": "markdown",
   "id": "2d5b1ab4-6358-4abc-895f-fca12f486578",
   "metadata": {},
   "source": [
    "# JSON Data"
   ]
  },
  {
   "cell_type": "code",
   "execution_count": 3,
   "id": "7d7baddb-04ba-491b-9bdc-8522a9635146",
   "metadata": {},
   "outputs": [
    {
     "name": "stdout",
     "output_type": "stream",
     "text": [
      "True\n"
     ]
    }
   ],
   "source": [
    "res = conn.json().set(\"anuncio:1\", \"$\", {'titulo': 'Preciosa casa en venta en Lomas de Chapultepec', \n",
    "                                           'tipo': 'casa', 'operacion': 'venta', \n",
    "                                           'precio': {'venta': 50000000}, \n",
    "                                           'amenidades': ['Vigilancia', 'Jardín', 'Alberca'], \n",
    "                                           'coordenadas': '-99.21, 19.42', \n",
    "                                           'direccion': 'Lomas de Chapultepec, Miguel Hidalgo, Ciudad de México'})\n",
    "\n",
    "res = conn.json().set(\"anuncio:2\", \"$\", {'titulo': 'Departamento en renta en Roma Norte a tres calles del Metro Sevilla', \n",
    "                                           'tipo': 'departamento', 'operacion': 'sevilla', \n",
    "                                           'precio': {'renta': 15000},\n",
    "                                           'amenidades': ['Vigilancia', 'Parrilla'], \n",
    "                                           'coordenadas': '-99.16, 19.42',\n",
    "                                           'direccion': 'Roma Norte, Cuauhtémoc, Ciudad de México'})\n",
    "\n",
    "res = conn.json().set(\"anuncio:3\", \"$\", {'titulo': 'Departanto en renta con vista al parque', \n",
    "                                           'tipo': 'departamento', 'operacion': 'renta', \n",
    "                                           'precio': {'renta': 18000}, \n",
    "                                           'amenidades': ['Vigilancia', 'Terraza', 'Roof Garden'], \n",
    "                                           'coordenadas': '-99.14, 19.43',\n",
    "                                           'direccion': 'Juarez, Cuauhtémoc, Ciudad de México'})\n",
    "\n",
    "res = conn.json().set(\"anuncio:4\", \"$\", {'titulo': 'Casa remodelada en venta en Lomas de Chapultepec', \n",
    "                                           'tipo': 'casa', 'operacion': 'venta', \n",
    "                                           'precio': {'venta': 60000000}, \n",
    "                                           'amenidades': ['Jardín', 'Parrilla'], \n",
    "                                           'coordenadas': '-99.20, 19.42',\n",
    "                                           'direccion': 'Lomas de Chapultepec, Miguel Hidalgo, Ciudad de México'})\n",
    "\n",
    "res = conn.json().set(\"anuncio:5\", \"$\", {'titulo': 'Casa en renta cerca de escuelas en Coyoacán', \n",
    "                                           'tipo': 'casa', 'operacion': 'renta', \n",
    "                                           'precio': {'renta': 30000}, \n",
    "                                           'amenidades': ['Jardín'], \n",
    "                                           'coordenadas': '-99.16, 19.36',\n",
    "                                           'direccion': 'Santa Cruz Atoyac, Coyoacán, Ciudad de México'})\n",
    "\n",
    "res = conn.json().set(\"anuncio:6\", \"$\", {'titulo': 'Departamento en renta cerca del centro de Coyoacán', \n",
    "                                           'tipo': 'departamento', 'operacion': 'renta', \n",
    "                                           'precio': {'renta': 15000}, \n",
    "                                           'amenidades': ['Vigilancia', 'Roof Garden', 'Parrilla'], \n",
    "                                           'coordenadas': '-99.16, 19.36',\n",
    "                                           'direccion': 'Santa Cruz Atoyac, Coyoacán, Ciudad de México'})\n",
    "\n",
    "res = conn.json().set(\"anuncio:7\", \"$\", {'titulo': 'Departamento en venta cerca en Tlatelolco a unos pasos del metro', \n",
    "                                           'tipo': 'departamento', 'operacion': 'venta', \n",
    "                                           'precio': {'venta': 1500000}, \n",
    "                                           'amenidades': None, \n",
    "                                           'coordenadas': '-99.14, 19.45',\n",
    "                                           'direccion': 'Tlatelolco, Cuauhtémoc, Ciudad de México'})\n",
    "\n",
    "res = conn.json().set(\"anuncio:8\", \"$\", {'titulo': 'Oportunidad de compra de nuevo departamento en exlusiva zona', \n",
    "                                           'tipo': 'departamento', 'operacion': 'venta', \n",
    "                                           'precio': {'venta': 7000000}, \n",
    "                                           'amenidades': ['Vigilancia', 'Acabados de Lujo', 'Terraza'], \n",
    "                                           'coordenadas': '-99.19, 19.43',\n",
    "                                           'direccion': 'Polanco, Miguel Hidalgo, Ciudad de México'})\n",
    "\n",
    "res = conn.json().set(\"anuncio:9\", \"$\", {'titulo': 'Departamento ideal para estudiantes cerca de UNAM', \n",
    "                                           'tipo': 'departamento', 'operacion': 'renta', \n",
    "                                           'precio': {'renta': 7000}, \n",
    "                                           'amenidades': None, \n",
    "                                           'coordenadas': '-99.17, 19.34',\n",
    "                                           'direccion': 'Santa Cararina, Coyoacán, Ciudad de México'})\n",
    "\n",
    "res = conn.json().set(\"anuncio:10\", \"$\", {'titulo': 'Casa Antigua en venta, excelente oportunidad', \n",
    "                                           'tipo': 'casa', 'operacion': 'venta', \n",
    "                                           'precio': {'venta': 40000000}, \n",
    "                                           'amenidades': ['Parrilla', 'Jardín'], \n",
    "                                           'coordenadas': '-99.14, 19.35',\n",
    "                                           'direccion': 'Churubusco, Coyoacán, Ciudad de México'})\n",
    "\n",
    "print(res)"
   ]
  },
  {
   "cell_type": "markdown",
   "id": "c605c2ea-12d0-423c-9f91-a1cf66dedc10",
   "metadata": {},
   "source": [
    "# Esquema e Indice"
   ]
  },
  {
   "cell_type": "code",
   "execution_count": 4,
   "id": "9259eca4-404c-4b04-b470-e45fb32ddb76",
   "metadata": {},
   "outputs": [
    {
     "data": {
      "text/plain": [
       "'OK'"
      ]
     },
     "execution_count": 4,
     "metadata": {},
     "output_type": "execute_result"
    }
   ],
   "source": [
    "#INDEX GENERAL\n",
    "try:\n",
    "    conn.ft(\"idx:anuncio\").dropindex()\n",
    "\n",
    "except: \n",
    "    pass\n",
    "\n",
    "schema = (\n",
    "    TextField(\"$.titulo\", as_name=\"titulo\"),\n",
    "    TagField(\"$.tipo\", as_name=\"tipo\"),\n",
    "    TagField(\"$.operacion\", as_name=\"operacion\"),\n",
    "    NumericField(\"$.precio.venta\", as_name=\"precio_venta\"),\n",
    "    NumericField(\"$.precio.renta\", as_name=\"precio_renta\"),\n",
    "    GeoField(\"$.coordenadas\", as_name=\"coordenadas\"),\n",
    "    TextField(\"$.direccion\", as_name=\"direccion\"),\n",
    "    TagField(\"$.amenidades.*\", as_name='amenidades')\n",
    ")\n",
    "\n",
    "index = conn.ft(\"idx:anuncio\")\n",
    "index.create_index(schema, definition=IndexDefinition(prefix=[\"anuncio:\"], index_type=IndexType.JSON))"
   ]
  },
  {
   "cell_type": "markdown",
   "id": "4a0d0c58-7257-4fe3-b178-3c43b0752de3",
   "metadata": {},
   "source": [
    "# Busqueda por texto"
   ]
  },
  {
   "cell_type": "code",
   "execution_count": 5,
   "id": "33149633-3180-45d7-9caa-e6de7025c2a3",
   "metadata": {},
   "outputs": [
    {
     "name": "stdout",
     "output_type": "stream",
     "text": [
      "Documents found: 10\n"
     ]
    }
   ],
   "source": [
    "#WILDCARD\n",
    "results = index.search(Query(\"*\"))\n",
    "print(\"Documents found:\", results.total)"
   ]
  },
  {
   "cell_type": "code",
   "execution_count": 6,
   "id": "2065e678-e4ec-43d7-a527-3c3529de1732",
   "metadata": {},
   "outputs": [
    {
     "name": "stdout",
     "output_type": "stream",
     "text": [
      "Documents found: 2 \n",
      "\n",
      "{\"titulo\":\"Preciosa casa en venta en Lomas de Chapultepec\",\"tipo\":\"casa\",\"operacion\":\"venta\",\"precio\":{\"venta\":50000000},\"amenidades\":[\"Vigilancia\",\"Jardín\",\"Alberca\"],\"coordenadas\":\"-99.21, 19.42\",\"direccion\":\"Lomas de Chapultepec, Miguel Hidalgo, Ciudad de México\"}\n",
      "_____________________\n",
      "\n",
      "{\"titulo\":\"Casa remodelada en venta en Lomas de Chapultepec\",\"tipo\":\"casa\",\"operacion\":\"venta\",\"precio\":{\"venta\":60000000},\"amenidades\":[\"Jardín\",\"Parrilla\"],\"coordenadas\":\"-99.20, 19.42\",\"direccion\":\"Lomas de Chapultepec, Miguel Hidalgo, Ciudad de México\"}\n",
      "_____________________\n",
      "\n"
     ]
    }
   ],
   "source": [
    "#PREFIJO\n",
    "results = index.search(Query('@direccion:Chapultepec*'))\n",
    "print(\"Documents found:\", results.total, '\\n')\n",
    "for result in results.docs:\n",
    "    print(result.json)\n",
    "    print('_____________________\\n')"
   ]
  },
  {
   "cell_type": "code",
   "execution_count": 7,
   "id": "d6cfab80-3173-4011-af00-a315849d07f8",
   "metadata": {},
   "outputs": [
    {
     "name": "stdout",
     "output_type": "stream",
     "text": [
      "Documents found: 4 \n",
      "\n",
      "{\"titulo\":\"Departamento en renta cerca del centro de Coyoacán\",\"tipo\":\"departamento\",\"operacion\":\"renta\",\"precio\":{\"renta\":15000},\"amenidades\":[\"Vigilancia\",\"Roof Garden\",\"Parrilla\"],\"coordenadas\":\"-99.16, 19.36\",\"direccion\":\"Santa Cruz Atoyac, Coyoacán, Ciudad de México\"}\n",
      "_____________________\n",
      "\n",
      "{\"titulo\":\"Casa Antigua en venta, excelente oportunidad\",\"tipo\":\"casa\",\"operacion\":\"venta\",\"precio\":{\"venta\":40000000},\"amenidades\":[\"Parrilla\",\"Jardín\"],\"coordenadas\":\"-99.14, 19.35\",\"direccion\":\"Churubusco, Coyoacán, Ciudad de México\"}\n",
      "_____________________\n",
      "\n",
      "{\"titulo\":\"Casa en renta cerca de escuelas en Coyoacán\",\"tipo\":\"casa\",\"operacion\":\"renta\",\"precio\":{\"renta\":30000},\"amenidades\":[\"Jardín\"],\"coordenadas\":\"-99.16, 19.36\",\"direccion\":\"Santa Cruz Atoyac, Coyoacán, Ciudad de México\"}\n",
      "_____________________\n",
      "\n",
      "{\"titulo\":\"Departamento ideal para estudiantes cerca de UNAM\",\"tipo\":\"departamento\",\"operacion\":\"renta\",\"precio\":{\"renta\":7000},\"amenidades\":null,\"coordenadas\":\"-99.17, 19.34\",\"direccion\":\"Santa Cararina, Coyoacán, Ciudad de México\"}\n",
      "_____________________\n",
      "\n"
     ]
    }
   ],
   "source": [
    "#TEXTO PARCIAL\n",
    "results = index.search(Query('@direccion:Coyoacán'))\n",
    "print(\"Documents found:\", results.total, '\\n')\n",
    "for result in results.docs:\n",
    "    print(result.json)\n",
    "    print('_____________________\\n')"
   ]
  },
  {
   "cell_type": "code",
   "execution_count": 8,
   "id": "964c112d-95ea-4c04-8776-a058bb513a41",
   "metadata": {},
   "outputs": [
    {
     "name": "stdout",
     "output_type": "stream",
     "text": [
      "Documents found: 1 \n",
      "\n",
      "{\"titulo\":\"Casa en renta cerca de escuelas en Coyoacán\",\"tipo\":\"casa\",\"operacion\":\"renta\",\"precio\":{\"renta\":30000},\"amenidades\":[\"Jardín\"],\"coordenadas\":\"-99.16, 19.36\",\"direccion\":\"Santa Cruz Atoyac, Coyoacán, Ciudad de México\"}\n",
      "_____________________\n",
      "\n"
     ]
    }
   ],
   "source": [
    "#TEXTO TOTAL\n",
    "results = index.search(Query('@titulo:\"Casa en renta cerca de escuelas en Coyoacán\"'))\n",
    "print(\"Documents found:\", results.total, '\\n')\n",
    "for result in results.docs:\n",
    "    print(result.json)\n",
    "    print('_____________________\\n')"
   ]
  },
  {
   "cell_type": "code",
   "execution_count": 9,
   "id": "ff016f1e-ae94-4e4d-9c59-8850ff0d5fd7",
   "metadata": {},
   "outputs": [
    {
     "name": "stdout",
     "output_type": "stream",
     "text": [
      "Documents found: 3 \n",
      "\n",
      "{\"titulo\":\"Casa Antigua en venta, excelente oportunidad\",\"tipo\":\"casa\",\"operacion\":\"venta\",\"precio\":{\"venta\":40000000},\"amenidades\":[\"Parrilla\",\"Jardín\"],\"coordenadas\":\"-99.14, 19.35\",\"direccion\":\"Churubusco, Coyoacán, Ciudad de México\"}\n",
      "_____________________\n",
      "\n",
      "{\"titulo\":\"Departamento ideal para estudiantes cerca de UNAM\",\"tipo\":\"departamento\",\"operacion\":\"renta\",\"precio\":{\"renta\":7000},\"amenidades\":null,\"coordenadas\":\"-99.17, 19.34\",\"direccion\":\"Santa Cararina, Coyoacán, Ciudad de México\"}\n",
      "_____________________\n",
      "\n",
      "{\"titulo\":\"Oportunidad de compra de nuevo departamento en exlusiva zona\",\"tipo\":\"departamento\",\"operacion\":\"venta\",\"precio\":{\"venta\":7000000},\"amenidades\":[\"Vigilancia\",\"Acabados de Lujo\",\"Terraza\"],\"coordenadas\":\"-99.19, 19.43\",\"direccion\":\"Polanco, Miguel Hidalgo, Ciudad de México\"}\n",
      "_____________________\n",
      "\n"
     ]
    }
   ],
   "source": [
    "#MULTIPLES TEXTOS\n",
    "results = index.search(Query('@titulo:oportunidad|estudiante'))\n",
    "print(\"Documents found:\", results.total, '\\n')\n",
    "for result in results.docs:\n",
    "    print(result.json)\n",
    "    print('_____________________\\n')"
   ]
  },
  {
   "cell_type": "code",
   "execution_count": 10,
   "id": "4eaf6972-102c-4aa4-ba39-f927d7a778c7",
   "metadata": {},
   "outputs": [
    {
     "name": "stdout",
     "output_type": "stream",
     "text": [
      "Documents found: 1 \n",
      "\n",
      "{\"titulo\":\"Oportunidad de compra de nuevo departamento en exlusiva zona\",\"tipo\":\"departamento\",\"operacion\":\"venta\",\"precio\":{\"venta\":7000000},\"amenidades\":[\"Vigilancia\",\"Acabados de Lujo\",\"Terraza\"],\"coordenadas\":\"-99.19, 19.43\",\"direccion\":\"Polanco, Miguel Hidalgo, Ciudad de México\"}\n",
      "_____________________\n",
      "\n"
     ]
    }
   ],
   "source": [
    "#FUZZY\n",
    "results = index.search(Query('@direccion:%Polinco%'))\n",
    "print(\"Documents found:\", results.total, '\\n')\n",
    "for result in results.docs:\n",
    "    print(result.json)\n",
    "    print('_____________________\\n')"
   ]
  },
  {
   "cell_type": "markdown",
   "id": "82145c9a-4a13-4aae-b319-74d7038ecd66",
   "metadata": {},
   "source": [
    "# Busqueda por tags y espacial"
   ]
  },
  {
   "cell_type": "code",
   "execution_count": 11,
   "id": "b89ea1b9-e36d-421d-81f0-cf8e4946c521",
   "metadata": {},
   "outputs": [
    {
     "name": "stdout",
     "output_type": "stream",
     "text": [
      "Documents found: 5 \n",
      "\n",
      "{\"titulo\":\"Casa remodelada en venta en Lomas de Chapultepec\",\"tipo\":\"casa\",\"operacion\":\"venta\",\"precio\":{\"venta\":60000000},\"amenidades\":[\"Jardín\",\"Parrilla\"],\"coordenadas\":\"-99.20, 19.42\",\"direccion\":\"Lomas de Chapultepec, Miguel Hidalgo, Ciudad de México\"}\n",
      "_____________________\n",
      "\n",
      "{\"titulo\":\"Casa Antigua en venta, excelente oportunidad\",\"tipo\":\"casa\",\"operacion\":\"venta\",\"precio\":{\"venta\":40000000},\"amenidades\":[\"Parrilla\",\"Jardín\"],\"coordenadas\":\"-99.14, 19.35\",\"direccion\":\"Churubusco, Coyoacán, Ciudad de México\"}\n",
      "_____________________\n",
      "\n",
      "{\"titulo\":\"Departamento en renta en Roma Norte a tres calles del Metro Sevilla\",\"tipo\":\"departamento\",\"operacion\":\"sevilla\",\"precio\":{\"renta\":15000},\"amenidades\":[\"Vigilancia\",\"Parrilla\"],\"coordenadas\":\"-99.16, 19.42\",\"direccion\":\"Roma Norte, Cuauhtémoc, Ciudad de México\"}\n",
      "_____________________\n",
      "\n",
      "{\"titulo\":\"Departanto en renta con vista al parque\",\"tipo\":\"departamento\",\"operacion\":\"renta\",\"precio\":{\"renta\":18000},\"amenidades\":[\"Vigilancia\",\"Terraza\",\"Roof Garden\"],\"coordenadas\":\"-99.14, 19.43\",\"direccion\":\"Juarez, Cuauhtémoc, Ciudad de México\"}\n",
      "_____________________\n",
      "\n",
      "{\"titulo\":\"Departamento en renta cerca del centro de Coyoacán\",\"tipo\":\"departamento\",\"operacion\":\"renta\",\"precio\":{\"renta\":15000},\"amenidades\":[\"Vigilancia\",\"Roof Garden\",\"Parrilla\"],\"coordenadas\":\"-99.16, 19.36\",\"direccion\":\"Santa Cruz Atoyac, Coyoacán, Ciudad de México\"}\n",
      "_____________________\n",
      "\n"
     ]
    }
   ],
   "source": [
    "#TAGS\n",
    "results = index.search(Query('@amenidades:{Parrilla|Roof Garden}').sort_by('amenidades'))\n",
    "print(\"Documents found:\", results.total, '\\n')\n",
    "for result in results.docs:\n",
    "    print(result.json)\n",
    "    print('_____________________\\n')"
   ]
  },
  {
   "cell_type": "code",
   "execution_count": 12,
   "id": "b678a0df-a6aa-49f4-aac0-57ff3fd05656",
   "metadata": {},
   "outputs": [
    {
     "name": "stdout",
     "output_type": "stream",
     "text": [
      "Documents found: 5 \n",
      "\n",
      "{\"titulo\":\"Departamento en venta cerca en Tlatelolco a unos pasos del metro\",\"tipo\":\"departamento\",\"operacion\":\"venta\",\"precio\":{\"venta\":1500000},\"amenidades\":null,\"coordenadas\":\"-99.14, 19.45\",\"direccion\":\"Tlatelolco, Cuauhtémoc, Ciudad de México\"}\n",
      "_____________________\n",
      "\n",
      "{\"titulo\":\"Departamento en renta en Roma Norte a tres calles del Metro Sevilla\",\"tipo\":\"departamento\",\"operacion\":\"sevilla\",\"precio\":{\"renta\":15000},\"amenidades\":[\"Vigilancia\",\"Parrilla\"],\"coordenadas\":\"-99.16, 19.42\",\"direccion\":\"Roma Norte, Cuauhtémoc, Ciudad de México\"}\n",
      "_____________________\n",
      "\n",
      "{\"titulo\":\"Preciosa casa en venta en Lomas de Chapultepec\",\"tipo\":\"casa\",\"operacion\":\"venta\",\"precio\":{\"venta\":50000000},\"amenidades\":[\"Vigilancia\",\"Jardín\",\"Alberca\"],\"coordenadas\":\"-99.21, 19.42\",\"direccion\":\"Lomas de Chapultepec, Miguel Hidalgo, Ciudad de México\"}\n",
      "_____________________\n",
      "\n",
      "{\"titulo\":\"Casa remodelada en venta en Lomas de Chapultepec\",\"tipo\":\"casa\",\"operacion\":\"venta\",\"precio\":{\"venta\":60000000},\"amenidades\":[\"Jardín\",\"Parrilla\"],\"coordenadas\":\"-99.20, 19.42\",\"direccion\":\"Lomas de Chapultepec, Miguel Hidalgo, Ciudad de México\"}\n",
      "_____________________\n",
      "\n",
      "{\"titulo\":\"Oportunidad de compra de nuevo departamento en exlusiva zona\",\"tipo\":\"departamento\",\"operacion\":\"venta\",\"precio\":{\"venta\":7000000},\"amenidades\":[\"Vigilancia\",\"Acabados de Lujo\",\"Terraza\"],\"coordenadas\":\"-99.19, 19.43\",\"direccion\":\"Polanco, Miguel Hidalgo, Ciudad de México\"}\n",
      "_____________________\n",
      "\n"
     ]
    }
   ],
   "source": [
    "#GEOESPACIAL\n",
    "results = index.search(Query('@coordenadas:[-99.20 19.47 7 km]'))\n",
    "print(\"Documents found:\", results.total, '\\n')\n",
    "for result in results.docs:\n",
    "    print(result.json)\n",
    "    print('_____________________\\n')"
   ]
  },
  {
   "cell_type": "markdown",
   "id": "22743cc2-dad8-45a7-9ef8-de4fc442ae8b",
   "metadata": {},
   "source": [
    "# Filtros numericos"
   ]
  },
  {
   "cell_type": "code",
   "execution_count": 14,
   "id": "c9470a27-59fe-4df5-a835-cbac6d562489",
   "metadata": {},
   "outputs": [
    {
     "name": "stdout",
     "output_type": "stream",
     "text": [
      "Documents found: 2 \n",
      "\n",
      "{\"titulo\":\"Departamento en venta cerca en Tlatelolco a unos pasos del metro\",\"tipo\":\"departamento\",\"operacion\":\"venta\",\"precio\":{\"venta\":1500000},\"amenidades\":null,\"coordenadas\":\"-99.14, 19.45\",\"direccion\":\"Tlatelolco, Cuauhtémoc, Ciudad de México\"}\n",
      "_____________________\n",
      "\n",
      "{\"titulo\":\"Oportunidad de compra de nuevo departamento en exlusiva zona\",\"tipo\":\"departamento\",\"operacion\":\"venta\",\"precio\":{\"venta\":7000000},\"amenidades\":[\"Vigilancia\",\"Acabados de Lujo\",\"Terraza\"],\"coordenadas\":\"-99.19, 19.43\",\"direccion\":\"Polanco, Miguel Hidalgo, Ciudad de México\"}\n",
      "_____________________\n",
      "\n"
     ]
    }
   ],
   "source": [
    "#NUMERICO\n",
    "results = index.search(Query('@operacion:{venta}').add_filter(NumericFilter('precio_venta', 0, 10000000)).sort_by('precio_venta'))\n",
    "print(\"Documents found:\", results.total, '\\n')\n",
    "for result in results.docs:\n",
    "    print(result.json)\n",
    "    print('_____________________\\n')"
   ]
  },
  {
   "cell_type": "code",
   "execution_count": 15,
   "id": "d5fd2195-9d37-405c-bb8d-62a40f227c59",
   "metadata": {},
   "outputs": [
    {
     "name": "stdout",
     "output_type": "stream",
     "text": [
      "Documents found: 1 \n",
      "\n",
      "{\"titulo\":\"Casa Antigua en venta, excelente oportunidad\",\"tipo\":\"casa\",\"operacion\":\"venta\",\"precio\":{\"venta\":40000000},\"amenidades\":[\"Parrilla\",\"Jardín\"],\"coordenadas\":\"-99.14, 19.35\",\"direccion\":\"Churubusco, Coyoacán, Ciudad de México\"}\n",
      "_____________________\n",
      "\n"
     ]
    }
   ],
   "source": [
    "#NUMERICO EXACTO\n",
    "results = index.search(Query('@precio_venta:[40000000 40000000]'))\n",
    "print(\"Documents found:\", results.total, '\\n')\n",
    "for result in results.docs:\n",
    "    print(result.json)\n",
    "    print('_____________________\\n')"
   ]
  },
  {
   "cell_type": "code",
   "execution_count": null,
   "id": "482b3373-a8c2-4f15-8c7a-a6e1323fcc2a",
   "metadata": {},
   "outputs": [],
   "source": []
  }
 ],
 "metadata": {
  "kernelspec": {
   "display_name": "Python 3 (ipykernel)",
   "language": "python",
   "name": "python3"
  },
  "language_info": {
   "codemirror_mode": {
    "name": "ipython",
    "version": 3
   },
   "file_extension": ".py",
   "mimetype": "text/x-python",
   "name": "python",
   "nbconvert_exporter": "python",
   "pygments_lexer": "ipython3",
   "version": "3.12.3"
  }
 },
 "nbformat": 4,
 "nbformat_minor": 5
}
