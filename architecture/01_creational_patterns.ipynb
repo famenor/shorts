{
 "cells": [
  {
   "cell_type": "code",
   "execution_count": 1,
   "metadata": {},
   "outputs": [],
   "source": [
    "from abc import ABC, abstractmethod"
   ]
  },
  {
   "cell_type": "markdown",
   "metadata": {},
   "source": [
    "## FACTORY METHOD"
   ]
  },
  {
   "cell_type": "code",
   "execution_count": 2,
   "metadata": {},
   "outputs": [],
   "source": [
    "class Proxy(ABC):\n",
    "\n",
    "    def __init__(self, timeout: int):\n",
    "        self.timeout = timeout\n",
    "\n",
    "    @abstractmethod\n",
    "    def execute_request(self) -> bool:\n",
    "        pass\n",
    "\n",
    "class LumProxy(Proxy):\n",
    "\n",
    "    def __init__(self):\n",
    "        super().__init__(timeout=10)\n",
    "\n",
    "    def execute_request(self) -> bool:\n",
    "        print('Realizando peticion a lum.com ...')\n",
    "        print('El servicio esperara hasta {} segundos'.format(self.timeout))\n",
    "        return True\n",
    "    \n",
    "class BeeProxy(Proxy):\n",
    "\n",
    "    def __init__(self):\n",
    "        super().__init__(timeout=8)\n",
    "\n",
    "    def execute_request(self) -> bool:\n",
    "        print('Realizando peticion a bee.com ...')\n",
    "        print('El servicio esperara hasta {} segundos'.format(self.timeout))\n",
    "        return True"
   ]
  },
  {
   "cell_type": "code",
   "execution_count": 3,
   "metadata": {},
   "outputs": [
    {
     "name": "stdout",
     "output_type": "stream",
     "text": [
      "Realizando peticion a lum.com ...\n",
      "El servicio esperara hasta 10 segundos\n",
      "Realizando peticion a bee.com ...\n",
      "El servicio esperara hasta 8 segundos\n"
     ]
    },
    {
     "data": {
      "text/plain": [
       "True"
      ]
     },
     "execution_count": 3,
     "metadata": {},
     "output_type": "execute_result"
    }
   ],
   "source": [
    "#SIN FABRICA\n",
    "t = LumProxy()\n",
    "t.execute_request()\n",
    "\n",
    "t = BeeProxy()\n",
    "t.execute_request()"
   ]
  },
  {
   "cell_type": "code",
   "execution_count": 40,
   "metadata": {},
   "outputs": [],
   "source": [
    "class ProxyCreator(ABC):\n",
    "\n",
    "    @abstractmethod\n",
    "    def create_proxy(self):\n",
    "        pass\n",
    "\n",
    "    def launch_scrape(self) -> bool:\n",
    "\n",
    "        # Call the factory method to create a Proxy object.\n",
    "        proxy = self.create_proxy()\n",
    "\n",
    "        print('Ejecutando peticion ...')\n",
    "        result = proxy.execute_request()\n",
    "\n",
    "        return result\n",
    "    \n",
    "class LumProxyCreator(ProxyCreator):\n",
    "    def create_proxy(self) -> Proxy:\n",
    "        return LumProxy()\n",
    "\n",
    "\n",
    "class BeeProxyCreator(ProxyCreator):\n",
    "    def create_proxy(self) -> Proxy:\n",
    "        return BeeProxy()"
   ]
  },
  {
   "cell_type": "code",
   "execution_count": 41,
   "metadata": {},
   "outputs": [
    {
     "name": "stdout",
     "output_type": "stream",
     "text": [
      "Arrancando con Lum ...\n",
      "Ejecutando peticion ...\n",
      "Realizando peticion a lum.com ...\n",
      "El servicio esperara hasta 10 segundos\n",
      "Arrancando con Bee ...\n",
      "Ejecutando peticion ...\n",
      "Realizando peticion a bee.com ...\n",
      "El servicio esperara hasta 8 segundos\n"
     ]
    },
    {
     "data": {
      "text/plain": [
       "True"
      ]
     },
     "execution_count": 41,
     "metadata": {},
     "output_type": "execute_result"
    }
   ],
   "source": [
    "#CON FABRICA\n",
    "print('Arrancando con Lum ...')\n",
    "LumProxyCreator().launch_scrape()\n",
    "\n",
    "print('Arrancando con Bee ...')\n",
    "BeeProxyCreator().launch_scrape()"
   ]
  },
  {
   "cell_type": "markdown",
   "metadata": {},
   "source": [
    "## ABSTRACT FACTORY"
   ]
  },
  {
   "cell_type": "code",
   "execution_count": 24,
   "metadata": {},
   "outputs": [],
   "source": [
    "#CLASES ABSTRACTAS PARA LOS PRODUCTOS\n",
    "class AbstractStorage(ABC):\n",
    "\n",
    "    def __init__(self, bucket):\n",
    "        self.bucket = bucket\n",
    "\n",
    "    @abstractmethod\n",
    "    def create_bucket(self):\n",
    "        pass\n",
    "\n",
    "    @abstractmethod\n",
    "    def export_to_file(self, path, content):\n",
    "        pass\n",
    "\n",
    "class AbstractDatabase(ABC):\n",
    "\n",
    "    def __init__(self, db_name, table_name):\n",
    "        self.db_name = db_name\n",
    "        self.table_name = table_name\n",
    "\n",
    "    @abstractmethod\n",
    "    def connect(self):\n",
    "        pass\n",
    "\n",
    "    @abstractmethod\n",
    "    def insert_record(self, record):\n",
    "        pass\n",
    "\n",
    "#CLASES CONCRETAS PARA LOS PRODUCTOS DE AWS\n",
    "class AWSStorage(AbstractStorage):\n",
    "\n",
    "    def __init__(self, bucket, max_retention):\n",
    "        self.max_retention = max_retention\n",
    "        super().__init__(bucket)\n",
    "\n",
    "    def create_bucket(self):\n",
    "        print('Creando bucket {} con retencion de {} dias en **S3**'.format(self.bucket, self.max_retention))\n",
    "\n",
    "    def export_to_file(self, path, content):\n",
    "        print('Exportando a archivo {} en **S3** el contenido: {}'.format(path, content))\n",
    "\n",
    "\n",
    "class AWSDatabase(AbstractDatabase):\n",
    "\n",
    "    def __init__(self, db_name, table_name):\n",
    "        super().__init__(db_name, table_name)\n",
    "\n",
    "    def connect(self):\n",
    "        print('Conectando a la base de datos {} en **RDS**'.format(self.db_name))\n",
    "\n",
    "    def insert_record(self, record):\n",
    "        print('Insertando el registro {} en la tabla {} de **RDS**'.format(record, self.table_name))\n",
    "\n",
    "\n",
    "#CLASES CONCRETAS PARA LOS PRODUCTOS DE AZURE\n",
    "class AzureStorage(AbstractStorage):\n",
    "\n",
    "    def __init__(self, bucket, is_encrypted):\n",
    "        self.is_encrypted = is_encrypted\n",
    "        super().__init__(bucket)\n",
    "\n",
    "    def create_bucket(self):\n",
    "        print('Creando bucket {} con encriptacion {} en **Blobstorage**'.format(self.bucket, self.is_encrypted))\n",
    "\n",
    "    def export_to_file(self, path, content):\n",
    "        print('Exportando a archivo {} en **Blobstorage** el contenido: {}'.format(path, content))\n",
    "\n",
    "\n",
    "class AzureDatabase(AbstractDatabase):\n",
    "\n",
    "    def __init__(self, db_name, table_name):\n",
    "        super().__init__(db_name, table_name)\n",
    "\n",
    "    def connect(self):\n",
    "        print('Conectando a la base de datos {} en **Azure**'.format(self.db_name))\n",
    "\n",
    "    def insert_record(self, record):\n",
    "        print('Insertando el registro {} en la tabla {} de **Azure**'.format(record, self.table_name))"
   ]
  },
  {
   "cell_type": "code",
   "execution_count": 28,
   "metadata": {},
   "outputs": [
    {
     "name": "stdout",
     "output_type": "stream",
     "text": [
      "Creando bucket temperatures con retencion de 30 dias en **S3**\n",
      "Exportando a archivo 20150101 en **S3** el contenido: 21\n",
      "Conectando a la base de datos weather_db en **RDS**\n",
      "Insertando el registro 22 en la tabla rain_probability de **RDS**\n",
      "\n",
      "************\n",
      "\n",
      "Creando bucket temperatures con encriptacion False en **Blobstorage**\n",
      "Exportando a archivo 20150101 en **Blobstorage** el contenido: 31\n",
      "Conectando a la base de datos weather_db en **Azure**\n",
      "Insertando el registro 32 en la tabla rain_probability de **Azure**\n"
     ]
    }
   ],
   "source": [
    "#SIN FABRICA ABSTRACTA\n",
    "aws_storage = AWSStorage(bucket='temperatures', max_retention=30)\n",
    "aws_storage.create_bucket()\n",
    "aws_storage.export_to_file('20150101', 21)\n",
    "\n",
    "aws_db = AWSDatabase(db_name='weather_db', table_name='rain_probability')\n",
    "aws_db.connect()\n",
    "aws_db.insert_record(22)\n",
    "\n",
    "print('\\n************\\n')\n",
    "\n",
    "azure_storage = AzureStorage(bucket='temperatures', is_encrypted=False)\n",
    "azure_storage.create_bucket()\n",
    "azure_storage.export_to_file('20150101', 31)\n",
    "\n",
    "azure_db = AzureDatabase(db_name='weather_db', table_name='rain_probability')\n",
    "azure_db.connect()\n",
    "azure_db.insert_record(32)"
   ]
  },
  {
   "cell_type": "code",
   "execution_count": 36,
   "metadata": {},
   "outputs": [],
   "source": [
    "#CLASE FABRICA ABSTRACTA\n",
    "class AbstractFactoryCloud(ABC):\n",
    "\n",
    "    @abstractmethod\n",
    "    def create_storage(self, bucket) -> AbstractStorage:\n",
    "        pass\n",
    "\n",
    "    @abstractmethod\n",
    "    def create_database(self, db_name, table_name) -> AbstractDatabase:\n",
    "        pass\n",
    "\n",
    "    def launch_database(self, record):        \n",
    "        db = self.create_database(db_name='weather_db', table_name='rain_probability')\n",
    "        db.connect()\n",
    "        db.insert_record(record)\n",
    "\n",
    "#FABRICAS CONCRETAS\n",
    "class AWSFactory(AbstractFactoryCloud):\n",
    "\n",
    "    def create_storage(self, bucket, max_retention) -> AbstractStorage:\n",
    "        return AWSStorage(bucket=bucket, max_retention=max_retention)\n",
    "\n",
    "    def create_database(self, db_name, table_name) -> AbstractDatabase:\n",
    "        return AWSDatabase(db_name=db_name, table_name=table_name)\n",
    "    \n",
    "class AzureFactory(AbstractFactoryCloud):\n",
    "\n",
    "    def create_storage(self, bucket, is_encrypted) -> AbstractStorage:\n",
    "        return AzureStorage(bucket=bucket, is_encrypted=is_encrypted)\n",
    "    \n",
    "    def create_database(self, db_name, table_name) -> AbstractDatabase:\n",
    "        return AzureDatabase(db_name=db_name, table_name=table_name)"
   ]
  },
  {
   "cell_type": "code",
   "execution_count": 38,
   "metadata": {},
   "outputs": [
    {
     "name": "stdout",
     "output_type": "stream",
     "text": [
      "Creando bucket temperatures con retencion de 30 dias en **S3**\n",
      "Exportando a archivo 20150101 en **S3** el contenido: 21\n",
      "Conectando a la base de datos weather_db en **RDS**\n",
      "Insertando el registro 22 en la tabla rain_probability de **RDS**\n",
      "\n",
      "************\n",
      "\n",
      "Creando bucket temperatures con encriptacion False en **Blobstorage**\n",
      "Exportando a archivo 20150101 en **Blobstorage** el contenido: 21\n",
      "Conectando a la base de datos weather_db en **Azure**\n",
      "Insertando el registro 32 en la tabla rain_probability de **Azure**\n"
     ]
    }
   ],
   "source": [
    "#CON FABRICA ABSTRACTA\n",
    "cloud_manager = AWSFactory()\n",
    "\n",
    "storage_manager = cloud_manager.create_storage(bucket='temperatures', max_retention=30)\n",
    "storage_manager.create_bucket()\n",
    "storage_manager.export_to_file('20150101', 21)\n",
    "\n",
    "cloud_manager.launch_database(record=22)\n",
    "\n",
    "print('\\n************\\n')\n",
    "\n",
    "cloud_manager = AzureFactory()\n",
    "\n",
    "storage_manager = cloud_manager.create_storage(bucket='temperatures', is_encrypted=False)\n",
    "storage_manager.create_bucket()\n",
    "storage_manager.export_to_file('20150101', 21)\n",
    "\n",
    "cloud_manager.launch_database(record=32)\n"
   ]
  },
  {
   "cell_type": "markdown",
   "metadata": {},
   "source": [
    "## BUILDER"
   ]
  },
  {
   "cell_type": "code",
   "execution_count": 51,
   "metadata": {},
   "outputs": [],
   "source": [
    "#PRODUCT CLASSES\n",
    "class Automobile:\n",
    "\n",
    "    def __init__(self):\n",
    "        self.color = None\n",
    "        self.engine = None\n",
    "        self.number_of_doors = None\n",
    "\n",
    "    def describe_specifications(self):\n",
    "        print('Color: {}'.format(self.color))\n",
    "        print('Engine: {}'.format(self.engine))\n",
    "        print('Number of doors: {}'.format(self.number_of_doors))\n",
    "\n",
    "class Motobike:\n",
    "\n",
    "    def __init__(self):\n",
    "        self.color = None\n",
    "        self.engine = None\n",
    "        self.has_sidecar = None\n",
    "\n",
    "    def describe_specifications(self):\n",
    "        print('Color: {}'.format(self.color))\n",
    "        print('Engine: {}'.format(self.engine))\n",
    "        print('Has sidecar: {}'.format(self.has_sidecar))\n",
    "\n",
    "#ABSTRACT VEHICLE BUILDER\n",
    "class VehicleBuilder(ABC):\n",
    "\n",
    "    @abstractmethod\n",
    "    def set_color(self, color: str):\n",
    "        pass\n",
    "\n",
    "    @abstractmethod\n",
    "    def set_engine(self, engine: str):\n",
    "        pass\n",
    "\n",
    "#CONCRETE AUTOMOBILE BUILDER\n",
    "class AutomobileBuilder(VehicleBuilder):\n",
    "\n",
    "    def __init__(self):\n",
    "        self.automobile = Automobile()\n",
    "\n",
    "    def set_color(self, color: str):\n",
    "        self.automobile.color = color\n",
    "\n",
    "    def set_engine(self, engine: str):\n",
    "        self.automobile.engine = engine\n",
    "\n",
    "    def set_number_of_doors(self, number_of_doors: int):\n",
    "        self.automobile.number_of_doors = number_of_doors\n",
    "    \n",
    "#CONCRETE MOTOBIKE BUILDER\n",
    "class MotobikeBuilder(VehicleBuilder):\n",
    "\n",
    "    def __init__(self):\n",
    "        self.motobike = Motobike()\n",
    "\n",
    "    def set_color(self, color: str):\n",
    "        self.motobike.color = color\n",
    "\n",
    "    def set_engine(self, engine: str):\n",
    "        self.motobike.engine = engine\n",
    "\n",
    "    def set_sidecar(self, has_sidecar: bool):\n",
    "        self.motobike.has_sidecar = has_sidecar\n",
    "    \n",
    "#DIRECTOR\n",
    "class VehicleDirector:\n",
    "\n",
    "    def __init__(self, builder: VehicleBuilder):\n",
    "        self.builder = builder\n",
    "\n",
    "    def construct_tsuru(self):\n",
    "        self.builder.set_color('white')\n",
    "        self.builder.set_engine('gasoline')\n",
    "        self.builder.set_number_of_doors(4)\n",
    "\n",
    "    def construct_harley(self):\n",
    "        self.builder.set_color('black')\n",
    "        self.builder.set_engine('gasoline')\n",
    "        self.builder.set_sidecar(False)\n",
    "\n",
    "    def construct_truck(self):\n",
    "        self.builder.set_color('red')\n",
    "        self.builder.set_engine('diesel')\n",
    "        self.builder.set_number_of_doors(2)\n",
    "\n",
    "    def construct_suzuki(self):\n",
    "        self.builder.set_color('blue')\n",
    "        self.builder.set_engine('gasoline')\n",
    "        self.builder.set_sidecar(True)"
   ]
  },
  {
   "cell_type": "code",
   "execution_count": 50,
   "metadata": {},
   "outputs": [
    {
     "name": "stdout",
     "output_type": "stream",
     "text": [
      "Color: white\n",
      "Engine: gasoline\n",
      "Number of doors: 4\n",
      "---\n",
      "Color: red\n",
      "Engine: diesel\n",
      "Number of doors: 2\n",
      "************\n",
      "Color: black\n",
      "Engine: gasoline\n",
      "Has sidecar: False\n",
      "---\n",
      "Color: blue\n",
      "Engine: gasoline\n",
      "Has sidecar: True\n"
     ]
    }
   ],
   "source": [
    "#CLIENT CODE\n",
    "auto_builder = AutomobileBuilder()\n",
    "director = VehicleDirector(auto_builder)\n",
    "director.construct_tsuru()\n",
    "auto_builder.automobile.describe_specifications()\n",
    "\n",
    "print('---')\n",
    "director.construct_truck()\n",
    "auto_builder.automobile.describe_specifications()\n",
    "\n",
    "print('************')\n",
    "moto_builder = MotobikeBuilder()\n",
    "director = VehicleDirector(moto_builder)\n",
    "director.construct_harley()\n",
    "moto_builder.motobike.describe_specifications()\n",
    "\n",
    "print('---')\n",
    "director.construct_suzuki()\n",
    "moto_builder.motobike.describe_specifications()"
   ]
  },
  {
   "cell_type": "markdown",
   "metadata": {},
   "source": [
    "## PROTOTYPE"
   ]
  },
  {
   "cell_type": "code",
   "execution_count": 53,
   "metadata": {},
   "outputs": [],
   "source": [
    "#CLASE PROTOTIPO ABSTRACTA\n",
    "class PrototypeShape(ABC):\n",
    "\n",
    "    @abstractmethod\n",
    "    def clone(self):\n",
    "        pass\n",
    "\n",
    "    @abstractmethod\n",
    "    def draw(self):\n",
    "        pass\n",
    "\n",
    "#CLASES PROTOTIPO CONCRETAS\n",
    "class Circle(PrototypeShape):\n",
    "\n",
    "    def __init__(self, color, radius):\n",
    "        self.color = color\n",
    "        self.radius = radius\n",
    "\n",
    "    def clone(self):\n",
    "        return Circle(self.color, self.radius)\n",
    "\n",
    "    def draw(self):\n",
    "        print(f'Drawing a {self.color} circle with radius {self.radius}')\n",
    "\n",
    "class Square(PrototypeShape):\n",
    "\n",
    "    def __init__(self, color, side_length):\n",
    "        self.color = color\n",
    "        self.side_length = side_length\n",
    "\n",
    "    def clone(self):\n",
    "        return Square(self.color, self.side_length)\n",
    "    \n",
    "    def draw(self):\n",
    "        print(f'Drawing a {self.color} square with side length {self.side_length}')"
   ]
  },
  {
   "cell_type": "code",
   "execution_count": 55,
   "metadata": {},
   "outputs": [
    {
     "name": "stdout",
     "output_type": "stream",
     "text": [
      "Drawing a red circle with radius 5\n",
      "Drawing a red circle with radius 10\n",
      "Drawing a blue circle with radius 5\n",
      "**************************\n",
      "Drawing a green square with side length 4\n",
      "Drawing a green square with side length 8\n",
      "Drawing a yellow square with side length 4\n"
     ]
    }
   ],
   "source": [
    "#CIRCULOS CLONADOS\n",
    "circle_prototype = Circle('red', 5)\n",
    "\n",
    "circle_01 = circle_prototype.clone()\n",
    "circle_01.radius = 10\n",
    "\n",
    "circle_02 = circle_prototype.clone()\n",
    "circle_02.color = 'blue'\n",
    "\n",
    "circle_prototype.draw()\n",
    "circle_01.draw()\n",
    "circle_02.draw()\n",
    "\n",
    "print('**************************')\n",
    "\n",
    "#CUADRADOS CLONADOS\n",
    "square_prototype = Square('green', 4)\n",
    "\n",
    "square_01 = square_prototype.clone()\n",
    "square_01.side_length = 8\n",
    "\n",
    "square_02 = square_prototype.clone()\n",
    "square_02.color = 'yellow'\n",
    "\n",
    "square_prototype.draw()\n",
    "square_01.draw()\n",
    "square_02.draw()"
   ]
  },
  {
   "cell_type": "markdown",
   "metadata": {},
   "source": [
    "## SINGLETON"
   ]
  },
  {
   "cell_type": "code",
   "execution_count": 56,
   "metadata": {},
   "outputs": [],
   "source": [
    "#CLASE SINGLETON\n",
    "class Singleton(object):\n",
    "   \n",
    "   legend = None\n",
    "\n",
    "   def __new__(cls):\n",
    "\n",
    "       if not hasattr(cls, 'instance'):\n",
    "\n",
    "           cls.instance = super(Singleton, cls).__new__(cls)\n",
    "\n",
    "       return cls.instance\n",
    "   \n",
    "   def set_legend(legend):\n",
    "       self.legend = legend"
   ]
  },
  {
   "cell_type": "code",
   "execution_count": 58,
   "metadata": {},
   "outputs": [
    {
     "name": "stdout",
     "output_type": "stream",
     "text": [
      "The only one\n",
      "The only one\n",
      "Changed legend\n",
      "Changed legend\n",
      "True\n"
     ]
    }
   ],
   "source": [
    "obj_01 = Singleton()\n",
    "obj_01.legend = 'The only one'\n",
    "obj_02 = Singleton()\n",
    "\n",
    "print(obj_01.legend)\n",
    "print(obj_02.legend)\n",
    "\n",
    "obj_02.legend = 'Changed legend'\n",
    "print(obj_01.legend)\n",
    "print(obj_02.legend)\n",
    "print(obj_01 is obj_02)"
   ]
  },
  {
   "cell_type": "code",
   "execution_count": null,
   "metadata": {},
   "outputs": [],
   "source": []
  }
 ],
 "metadata": {
  "kernelspec": {
   "display_name": "Python 3 (ipykernel)",
   "language": "python",
   "name": "python3"
  },
  "language_info": {
   "codemirror_mode": {
    "name": "ipython",
    "version": 3
   },
   "file_extension": ".py",
   "mimetype": "text/x-python",
   "name": "python",
   "nbconvert_exporter": "python",
   "pygments_lexer": "ipython3",
   "version": "3.12.3"
  }
 },
 "nbformat": 4,
 "nbformat_minor": 2
}
