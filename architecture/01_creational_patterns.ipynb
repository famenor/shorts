{
 "cells": [
  {
   "cell_type": "code",
   "execution_count": 28,
   "metadata": {},
   "outputs": [],
   "source": [
    "from abc import ABC, abstractmethod"
   ]
  },
  {
   "cell_type": "markdown",
   "metadata": {},
   "source": [
    "## FACTORY METHOD"
   ]
  },
  {
   "cell_type": "code",
   "execution_count": 42,
   "metadata": {},
   "outputs": [],
   "source": [
    "class Proxy(ABC):\n",
    "\n",
    "    def __init__(self, timeout: int):\n",
    "        self.timeout = timeout\n",
    "\n",
    "    @abstractmethod\n",
    "    def execute_request(self) -> bool:\n",
    "        pass\n",
    "\n",
    "class LumProxy(Proxy):\n",
    "\n",
    "    def __init__(self):\n",
    "        super().__init__(timeout=10)\n",
    "\n",
    "    def execute_request(self) -> bool:\n",
    "        print('Realizando peticion a lum.com ...')\n",
    "        print('El servicio esperara hasta {} segundos'.format(self.timeout))\n",
    "        return True\n",
    "    \n",
    "class BeeProxy(Proxy):\n",
    "\n",
    "    def __init__(self):\n",
    "        super().__init__(timeout=8)\n",
    "\n",
    "    def execute_request(self) -> bool:\n",
    "        print('Realizando peticion a bee.com ...')\n",
    "        print('El servicio esperara hasta {} segundos'.format(self.timeout))\n",
    "        return True"
   ]
  },
  {
   "cell_type": "code",
   "execution_count": 43,
   "metadata": {},
   "outputs": [
    {
     "name": "stdout",
     "output_type": "stream",
     "text": [
      "Realizando peticion a lum.com ...\n",
      "El servicio esperara hasta 10 segundos\n",
      "Realizando peticion a bee.com ...\n",
      "El servicio esperara hasta 8 segundos\n"
     ]
    },
    {
     "data": {
      "text/plain": [
       "True"
      ]
     },
     "execution_count": 43,
     "metadata": {},
     "output_type": "execute_result"
    }
   ],
   "source": [
    "#SIN FABRICA\n",
    "t = LumProxy()\n",
    "t.execute_request()\n",
    "\n",
    "t = BeeProxy()\n",
    "t.execute_request()"
   ]
  },
  {
   "cell_type": "code",
   "execution_count": 44,
   "metadata": {},
   "outputs": [],
   "source": [
    "class ProxyCreator(ABC):\n",
    "\n",
    "    @abstractmethod\n",
    "    def get_proxy(self):\n",
    "        pass\n",
    "\n",
    "    def launch_scrape(self) -> bool:\n",
    "\n",
    "        # Call the factory method to create a Proxy object.\n",
    "        proxy = self.get_proxy()\n",
    "\n",
    "        print('Ejecutando peticion ...')\n",
    "        result = proxy.execute_request()\n",
    "\n",
    "        return result\n",
    "    \n",
    "class LumProxyCreator(ProxyCreator):\n",
    "    def get_proxy(self) -> Proxy:\n",
    "        return LumProxy()\n",
    "\n",
    "\n",
    "class BeeProxyCreator(ProxyCreator):\n",
    "    def get_proxy(self) -> Proxy:\n",
    "        return BeeProxy()"
   ]
  },
  {
   "cell_type": "code",
   "execution_count": 45,
   "metadata": {},
   "outputs": [
    {
     "name": "stdout",
     "output_type": "stream",
     "text": [
      "Arrancando con Lum ...\n",
      "Ejecutando peticion ...\n",
      "Realizando peticion a lum.com ...\n",
      "El servicio esperara hasta 10 segundos\n",
      "Arrancando con Bee ...\n",
      "Ejecutando peticion ...\n",
      "Realizando peticion a bee.com ...\n",
      "El servicio esperara hasta 8 segundos\n"
     ]
    },
    {
     "data": {
      "text/plain": [
       "True"
      ]
     },
     "execution_count": 45,
     "metadata": {},
     "output_type": "execute_result"
    }
   ],
   "source": [
    "#CON FABRICA\n",
    "print('Arrancando con Lum ...')\n",
    "LumProxyCreator().launch_scrape()\n",
    "\n",
    "print('Arrancando con Bee ...')\n",
    "BeeProxyCreator().launch_scrape()"
   ]
  }
 ],
 "metadata": {
  "kernelspec": {
   "display_name": "Python 3 (ipykernel)",
   "language": "python",
   "name": "python3"
  },
  "language_info": {
   "codemirror_mode": {
    "name": "ipython",
    "version": 3
   },
   "file_extension": ".py",
   "mimetype": "text/x-python",
   "name": "python",
   "nbconvert_exporter": "python",
   "pygments_lexer": "ipython3",
   "version": "3.12.3"
  }
 },
 "nbformat": 4,
 "nbformat_minor": 2
}
