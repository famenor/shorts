{
 "cells": [
  {
   "cell_type": "code",
   "execution_count": 1,
   "metadata": {},
   "outputs": [],
   "source": [
    "from abc import ABC, abstractmethod"
   ]
  },
  {
   "cell_type": "markdown",
   "metadata": {},
   "source": [
    "## ADAPTER"
   ]
  },
  {
   "cell_type": "code",
   "execution_count": 17,
   "metadata": {},
   "outputs": [],
   "source": [
    "#CLASES QUE SE VAN A ADAPTAR\n",
    "class EasybrokerAd:\n",
    "\n",
    "    def __init__(self, title, attributes):\n",
    "        self.title = title\n",
    "        self.attributes = attributes\n",
    "\n",
    "    def display_ad(self):\n",
    "        print('Anuncio de Easybroker')\n",
    "        print('Titulo:', self.title)\n",
    "        print('Atributos:', self.attributes)\n",
    "\n",
    "#CLASE CLIENTE\n",
    "class AbstractGenericAd(ABC):\n",
    "\n",
    "    @abstractmethod\n",
    "    def show_ad(self):\n",
    "        pass\n",
    "\n",
    "class GenericAd(AbstractGenericAd):\n",
    "\n",
    "    def __init__(self, title: str, attributes: list[str]):\n",
    "        self.title = title\n",
    "        self.attributes = attributes\n",
    "\n",
    "    def show_ad(self):\n",
    "        print('Anuncio Genérico')\n",
    "        print('Título:', self.title)\n",
    "        print('Atributos:')\n",
    "        for attribute in self.attributes:\n",
    "            print('-', attribute)\n",
    "\n",
    "#ADAPTADOR\n",
    "class EasybrokerAdAdapter(AbstractGenericAd):\n",
    "\n",
    "    def __init__(self, eb_ad: EasybrokerAd):\n",
    "        self.eb_ad = eb_ad\n",
    "\n",
    "    def show_ad(self) -> str:\n",
    "        print('Anuncio Genérico (Adaptado de Easybroker)')\n",
    "        print('Título:', self.eb_ad.title)\n",
    "\n",
    "        attributes = self.eb_ad.attributes.split(',')\n",
    "        print('Atributos:')\n",
    "        for attribute in attributes:\n",
    "            print('-', attribute)\n",
    "\n",
    "#FUNCION CLIENTE\n",
    "def render(ad: AbstractGenericAd):\n",
    "    print('BIENVENIDO A TU PORTAL DE ANUNCIOS')\n",
    "    print('\\n')\n",
    "    ad.show_ad()\n",
    "    print('\\n')\n",
    "    print('GRACIAS POR VISITARNOS')"
   ]
  },
  {
   "cell_type": "code",
   "execution_count": null,
   "metadata": {},
   "outputs": [
    {
     "name": "stdout",
     "output_type": "stream",
     "text": [
      "Anuncio de Easybroker\n",
      "Titulo: Nice apartment\n",
      "Atributos: Bodega,Jardín,Patio\n",
      "\n",
      "Anuncio Genérico\n",
      "Título: Cozy house\n",
      "Atributos:\n",
      "- Garage\n",
      "- Pool\n",
      "- Garden\n",
      "\n",
      "Anuncio Genérico (Adaptado de Easybroker)\n",
      "Título: Nice apartment\n",
      "Atributos:\n",
      "- Bodega\n",
      "- Jardín\n",
      "- Patio\n"
     ]
    }
   ],
   "source": [
    "#USO DE LAS CLASES DIRECTAMENTE\n",
    "eb_ad = EasybrokerAd(title='Nice apartment', attributes='Bodega,Jardín,Patio')\n",
    "eb_ad.display_ad()\n",
    "\n",
    "print('')\n",
    "\n",
    "gen_ad = GenericAd(title='Cozy house', attributes=['Garage', 'Pool', 'Garden'])\n",
    "gen_ad.show_ad()\n",
    "\n",
    "print('')\n",
    "adapted_eb_ad = EasybrokerAdAdapter(eb_ad)\n",
    "adapted_eb_ad.show_ad()"
   ]
  },
  {
   "cell_type": "code",
   "execution_count": 19,
   "metadata": {},
   "outputs": [
    {
     "name": "stdout",
     "output_type": "stream",
     "text": [
      "BIENVENIDO A TU PORTAL DE ANUNCIOS\n",
      "\n",
      "\n",
      "Anuncio Genérico\n",
      "Título: Cozy house\n",
      "Atributos:\n",
      "- Garage\n",
      "- Pool\n",
      "- Garden\n",
      "\n",
      "\n",
      "GRACIAS POR VISITARNOS\n",
      "\n",
      "BIENVENIDO A TU PORTAL DE ANUNCIOS\n",
      "\n",
      "\n",
      "Anuncio Genérico (Adaptado de Easybroker)\n",
      "Título: Nice apartment\n",
      "Atributos:\n",
      "- Bodega\n",
      "- Jardín\n",
      "- Patio\n",
      "\n",
      "\n",
      "GRACIAS POR VISITARNOS\n"
     ]
    }
   ],
   "source": [
    "#USO DE LAS CLASES MEDIANTE UN CLIENTE\n",
    "gen_ad = GenericAd(title='Cozy house', attributes=['Garage', 'Pool', 'Garden'])\n",
    "render(gen_ad)\n",
    "\n",
    "print('')\n",
    "\n",
    "eb_ad = EasybrokerAd(title='Nice apartment', attributes='Bodega,Jardín,Patio')\n",
    "adapted_eb_ad = EasybrokerAdAdapter(eb_ad)\n",
    "render(adapted_eb_ad)"
   ]
  },
  {
   "cell_type": "code",
   "execution_count": null,
   "metadata": {},
   "outputs": [],
   "source": []
  }
 ],
 "metadata": {
  "kernelspec": {
   "display_name": "Python 3 (ipykernel)",
   "language": "python",
   "name": "python3"
  },
  "language_info": {
   "codemirror_mode": {
    "name": "ipython",
    "version": 3
   },
   "file_extension": ".py",
   "mimetype": "text/x-python",
   "name": "python",
   "nbconvert_exporter": "python",
   "pygments_lexer": "ipython3",
   "version": "3.12.3"
  }
 },
 "nbformat": 4,
 "nbformat_minor": 2
}
