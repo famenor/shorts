{
 "cells": [
  {
   "cell_type": "code",
   "execution_count": 19,
   "metadata": {},
   "outputs": [],
   "source": [
    "from qdrant_client import QdrantClient\n",
    "from qdrant_client.models import VectorParams, Distance, PointStruct\n",
    "from qdrant_client.models import Filter, FieldCondition, MatchValue\n",
    "\n",
    "import numpy as np"
   ]
  },
  {
   "cell_type": "code",
   "execution_count": 2,
   "metadata": {},
   "outputs": [],
   "source": [
    "client = QdrantClient(host=\"localhost\", port=6333)"
   ]
  },
  {
   "cell_type": "code",
   "execution_count": null,
   "metadata": {},
   "outputs": [
    {
     "data": {
      "text/plain": [
       "True"
      ]
     },
     "execution_count": 6,
     "metadata": {},
     "output_type": "execute_result"
    }
   ],
   "source": [
    "#CREAR COLLECCION\n",
    "client.create_collection(collection_name=\"coleccion_climas\",\n",
    "    vectors_config=VectorParams(size=7, distance=Distance.MANHATTAN,\n",
    "                                datatype='uint8'))"
   ]
  },
  {
   "cell_type": "code",
   "execution_count": 9,
   "metadata": {},
   "outputs": [
    {
     "name": "stdout",
     "output_type": "stream",
     "text": [
      "(8, 7)\n"
     ]
    }
   ],
   "source": [
    "#INSERTAR VECTORES\n",
    "vectors = np.array([[32, 34, 33, 36, 33, 32, 35],\n",
    "                    [33, 34, 36, 37, 34, 32, 34],\n",
    "                    [21, 23, 24, 22, 22, 21, 19],\n",
    "                    [10, 8, 12, 12, 9, 10, 10],\n",
    "                    [19, 21, 20, 18, 21, 22, 20],\n",
    "                    [31, 29, 30, 32, 34, 33, 31],\n",
    "                    [24, 22, 21, 21, 21, 23, 22],\n",
    "                    [7, 6, 10, 11, 8, 9, 7]])\n",
    "\n",
    "array_idx = [1, 2, 3, 4, 5, 6, 7, 8]\n",
    "array_payload = [{'region': 'norte', 'ciudad': 'monterrey'},\n",
    "                 {'region': 'sur', 'ciudad': 'merida'},\n",
    "                 {'region': 'centro', 'ciudad': 'cdmx'},\n",
    "                 {'region': 'centro', 'ciudad': 'toluca'},\n",
    "                 {'region': 'centro', 'ciudad': 'pachuca'},\n",
    "                 {'region': 'norte', 'ciudad': 'chihuahua'},\n",
    "                 {'region': 'sur', 'ciudad': 'tuxtla'},\n",
    "                 {'region': 'centro', 'ciudad': 'metepec'}]\n",
    "\n",
    "print(vectors.shape)"
   ]
  },
  {
   "cell_type": "code",
   "execution_count": 10,
   "metadata": {},
   "outputs": [],
   "source": [
    "for i in range(len(array_idx)):\n",
    "    client.upsert(\n",
    "       collection_name=\"coleccion_climas\",\n",
    "       points=[\n",
    "          PointStruct(\n",
    "                id=array_idx[i],\n",
    "                vector=vectors[i].tolist(),\n",
    "                payload=array_payload[i]\n",
    "          )\n",
    "       ]\n",
    "    )"
   ]
  },
  {
   "cell_type": "code",
   "execution_count": 15,
   "metadata": {},
   "outputs": [
    {
     "name": "stdout",
     "output_type": "stream",
     "text": [
      "[ScoredPoint(id=5, version=4, score=14.0, payload={'region': 'centro', 'ciudad': 'pachuca'}, vector=None, shard_key=None, order_value=None), ScoredPoint(id=7, version=6, score=25.0, payload={'region': 'sur', 'ciudad': 'tuxtla'}, vector=None, shard_key=None, order_value=None), ScoredPoint(id=3, version=2, score=27.0, payload={'region': 'centro', 'ciudad': 'cdmx'}, vector=None, shard_key=None, order_value=None)]\n"
     ]
    },
    {
     "name": "stderr",
     "output_type": "stream",
     "text": [
      "/tmp/ipykernel_110613/373973628.py:3: DeprecationWarning: `search` method is deprecated and will be removed in the future. Use `query_points` instead.\n",
      "  hits = client.search(\n"
     ]
    }
   ],
   "source": [
    "#SIMPLE QUERY\n",
    "query_vector = np.array([16, 19, 20, 18, 18, 17, 21])\n",
    "hits = client.search(\n",
    "   collection_name=\"coleccion_climas\",\n",
    "   query_vector=query_vector,\n",
    "   limit=3  # Return 5 closest points\n",
    ")\n",
    "\n",
    "print(hits)"
   ]
  },
  {
   "cell_type": "code",
   "execution_count": 20,
   "metadata": {},
   "outputs": [
    {
     "name": "stdout",
     "output_type": "stream",
     "text": [
      "[ScoredPoint(id=7, version=6, score=25.0, payload={'region': 'sur', 'ciudad': 'tuxtla'}, vector=None, shard_key=None, order_value=None), ScoredPoint(id=2, version=1, score=111.0, payload={'region': 'sur', 'ciudad': 'merida'}, vector=None, shard_key=None, order_value=None)]\n"
     ]
    },
    {
     "name": "stderr",
     "output_type": "stream",
     "text": [
      "/tmp/ipykernel_110613/884208451.py:3: DeprecationWarning: `search` method is deprecated and will be removed in the future. Use `query_points` instead.\n",
      "  hits = client.search(\n"
     ]
    }
   ],
   "source": [
    "#FILTER QUERY\n",
    "query_vector = np.array([16, 19, 20, 18, 18, 17, 21])\n",
    "hits = client.search(\n",
    "   collection_name=\"coleccion_climas\",\n",
    "   query_vector=query_vector,\n",
    "   limit=3,\n",
    "   query_filter=Filter(\n",
    "      must=[  # These conditions are required for search results\n",
    "            FieldCondition(key='region', match=MatchValue(value='sur'))\n",
    "      ]\n",
    "   ),\n",
    ")\n",
    "\n",
    "print(hits)"
   ]
  },
  {
   "cell_type": "code",
   "execution_count": 27,
   "metadata": {},
   "outputs": [
    {
     "name": "stdout",
     "output_type": "stream",
     "text": [
      "points=[ScoredPoint(id=5, version=4, score=14.0, payload={'region': 'centro', 'ciudad': 'pachuca'}, vector=None, shard_key=None, order_value=None), ScoredPoint(id=7, version=6, score=25.0, payload={'region': 'sur', 'ciudad': 'tuxtla'}, vector=None, shard_key=None, order_value=None)]\n"
     ]
    }
   ],
   "source": [
    "#QUERY\n",
    "query_vector = np.array([16, 19, 20, 18, 18, 17, 21])\n",
    "hits = client.query_points(\n",
    "   collection_name=\"coleccion_climas\",\n",
    "   query=query_vector,\n",
    "   limit=2\n",
    ")\n",
    "\n",
    "print(hits)"
   ]
  },
  {
   "cell_type": "code",
   "execution_count": null,
   "metadata": {},
   "outputs": [],
   "source": []
  }
 ],
 "metadata": {
  "kernelspec": {
   "display_name": "Python 3 (ipykernel)",
   "language": "python",
   "name": "python3"
  }
 },
 "nbformat": 4,
 "nbformat_minor": 2
}
