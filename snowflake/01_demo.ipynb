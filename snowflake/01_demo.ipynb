{
 "cells": [
  {
   "cell_type": "code",
   "execution_count": 18,
   "metadata": {},
   "outputs": [],
   "source": [
    "import pandas as pd\n",
    "import snowflake.connector"
   ]
  },
  {
   "cell_type": "code",
   "execution_count": 17,
   "metadata": {},
   "outputs": [
    {
     "name": "stdout",
     "output_type": "stream",
     "text": [
      "(10, 12)\n"
     ]
    },
    {
     "data": {
      "text/html": [
       "<div>\n",
       "<style scoped>\n",
       "    .dataframe tbody tr th:only-of-type {\n",
       "        vertical-align: middle;\n",
       "    }\n",
       "\n",
       "    .dataframe tbody tr th {\n",
       "        vertical-align: top;\n",
       "    }\n",
       "\n",
       "    .dataframe thead th {\n",
       "        text-align: right;\n",
       "    }\n",
       "</style>\n",
       "<table border=\"1\" class=\"dataframe\">\n",
       "  <thead>\n",
       "    <tr style=\"text-align: right;\">\n",
       "      <th></th>\n",
       "      <th>identificador</th>\n",
       "      <th>tipo</th>\n",
       "      <th>operacion</th>\n",
       "      <th>costo</th>\n",
       "      <th>divisa</th>\n",
       "      <th>publicacion</th>\n",
       "      <th>expiracion</th>\n",
       "      <th>estado</th>\n",
       "      <th>municipio</th>\n",
       "      <th>colonia</th>\n",
       "      <th>habitaciones</th>\n",
       "      <th>superficie</th>\n",
       "    </tr>\n",
       "  </thead>\n",
       "  <tbody>\n",
       "    <tr>\n",
       "      <th>0</th>\n",
       "      <td>GHYUJK</td>\n",
       "      <td>casa</td>\n",
       "      <td>venta</td>\n",
       "      <td>1500000</td>\n",
       "      <td>MXN</td>\n",
       "      <td>2024-01-01</td>\n",
       "      <td>2024-03-01</td>\n",
       "      <td>Mexico</td>\n",
       "      <td>Naucalpan</td>\n",
       "      <td>Prados</td>\n",
       "      <td>3</td>\n",
       "      <td>150</td>\n",
       "    </tr>\n",
       "    <tr>\n",
       "      <th>1</th>\n",
       "      <td>KIUTEE</td>\n",
       "      <td>casa</td>\n",
       "      <td>venta</td>\n",
       "      <td>2000000</td>\n",
       "      <td>MXN</td>\n",
       "      <td>2024-01-15</td>\n",
       "      <td>2024-03-01</td>\n",
       "      <td>México</td>\n",
       "      <td>Naucalpan</td>\n",
       "      <td>Satelite</td>\n",
       "      <td>2</td>\n",
       "      <td>160</td>\n",
       "    </tr>\n",
       "    <tr>\n",
       "      <th>2</th>\n",
       "      <td>NJFRTH</td>\n",
       "      <td>casa</td>\n",
       "      <td>venta</td>\n",
       "      <td>1750000</td>\n",
       "      <td>MXN</td>\n",
       "      <td>2024-01-20</td>\n",
       "      <td>2024-03-20</td>\n",
       "      <td>CDMX</td>\n",
       "      <td>Cuauhtemoc</td>\n",
       "      <td>Roma</td>\n",
       "      <td>3</td>\n",
       "      <td>200</td>\n",
       "    </tr>\n",
       "  </tbody>\n",
       "</table>\n",
       "</div>"
      ],
      "text/plain": [
       "  identificador  tipo operacion    costo divisa publicacion  expiracion  \\\n",
       "0        GHYUJK  casa     venta  1500000    MXN  2024-01-01  2024-03-01   \n",
       "1        KIUTEE  casa     venta  2000000    MXN  2024-01-15  2024-03-01   \n",
       "2        NJFRTH  casa     venta  1750000    MXN  2024-01-20  2024-03-20   \n",
       "\n",
       "   estado   municipio   colonia  habitaciones  superficie  \n",
       "0  Mexico   Naucalpan    Prados             3         150  \n",
       "1  México   Naucalpan  Satelite             2         160  \n",
       "2    CDMX  Cuauhtemoc      Roma             3         200  "
      ]
     },
     "metadata": {},
     "output_type": "display_data"
    }
   ],
   "source": [
    "anuncios = pd.read_csv('/home/armando/Desktop/anuncios.csv')\n",
    "print(anuncios.shape)\n",
    "display(anuncios.head(3))"
   ]
  },
  {
   "cell_type": "code",
   "execution_count": null,
   "metadata": {},
   "outputs": [],
   "source": [
    "conn = snowflake.connector.connect(\n",
    "    user='FAMENOR',\n",
    "    password='',\n",
    "    account='NOHWIHB-FFC10131',\n",
    "    warehouse='anuncios_dw',\n",
    "    database='anuncios_db',\n",
    "    schema='bronce'\n",
    ")"
   ]
  },
  {
   "cell_type": "code",
   "execution_count": 25,
   "metadata": {},
   "outputs": [
    {
     "name": "stdout",
     "output_type": "stream",
     "text": [
      "departamento venta 700000.0\n",
      "departamento venta 1200000.0\n",
      "departamento renta 6500.0\n",
      "departamento renta 12000.0\n",
      "departamento renta 800.0\n"
     ]
    }
   ],
   "source": [
    "cursor = conn.cursor()\n",
    "\n",
    "query = \"SELECT tipo, operacion, costo FROM anuncios WHERE superficie <= 100\"\n",
    "cursor.execute(query)\n",
    "\n",
    "# Example using fetchall()\n",
    "results = cursor.fetchall()\n",
    "for row in results:\n",
    "    print(row[0], row[1], row[2])\n",
    "\n",
    "cursor.close()\n",
    "conn.close()"
   ]
  },
  {
   "cell_type": "code",
   "execution_count": null,
   "metadata": {},
   "outputs": [],
   "source": []
  }
 ],
 "metadata": {
  "kernelspec": {
   "display_name": "Python 3 (ipykernel)",
   "language": "python",
   "name": "python3"
  },
  "language_info": {
   "codemirror_mode": {
    "name": "ipython",
    "version": 3
   },
   "file_extension": ".py",
   "mimetype": "text/x-python",
   "name": "python",
   "nbconvert_exporter": "python",
   "pygments_lexer": "ipython3",
   "version": "3.12.3"
  }
 },
 "nbformat": 4,
 "nbformat_minor": 2
}
