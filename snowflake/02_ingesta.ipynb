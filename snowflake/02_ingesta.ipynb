{
 "cells": [
  {
   "cell_type": "code",
   "execution_count": 3,
   "metadata": {},
   "outputs": [],
   "source": [
    "import pandas as pd\n",
    "import snowflake.connector"
   ]
  },
  {
   "cell_type": "code",
   "execution_count": null,
   "metadata": {},
   "outputs": [],
   "source": [
    "conn = snowflake.connector.connect(\n",
    "    user='FAMENOR',\n",
    "    password='',\n",
    "    account='NOHWIHB-FFC10131',\n",
    "    warehouse='anuncios_dw',\n",
    "    database='anuncios_db',\n",
    "    schema='bronce'\n",
    ")"
   ]
  },
  {
   "cell_type": "code",
   "execution_count": 4,
   "metadata": {},
   "outputs": [
    {
     "data": {
      "text/plain": [
       "True"
      ]
     },
     "execution_count": 4,
     "metadata": {},
     "output_type": "execute_result"
    }
   ],
   "source": [
    "cursor = conn.cursor()\n",
    "\n",
    "query = \"\"\"CREATE OR REPLACE FILE FORMAT mycsvformat\n",
    "            TYPE = 'CSV'\n",
    "            FIELD_DELIMITER = ','\n",
    "            SKIP_HEADER = 1;\"\"\"\n",
    "\n",
    "cursor.execute(query)\n",
    "\n",
    "cursor.close()\n"
   ]
  },
  {
   "cell_type": "code",
   "execution_count": 5,
   "metadata": {},
   "outputs": [
    {
     "data": {
      "text/plain": [
       "True"
      ]
     },
     "execution_count": 5,
     "metadata": {},
     "output_type": "execute_result"
    }
   ],
   "source": [
    "cursor = conn.cursor()\n",
    "\n",
    "query = \"\"\"CREATE OR REPLACE STAGE dim_hora_stage\n",
    "            FILE_FORMAT = mycsvformat;\"\"\"\n",
    "\n",
    "cursor.execute(query)\n",
    "\n",
    "cursor.close()"
   ]
  },
  {
   "cell_type": "code",
   "execution_count": 9,
   "metadata": {},
   "outputs": [
    {
     "data": {
      "text/plain": [
       "True"
      ]
     },
     "execution_count": 9,
     "metadata": {},
     "output_type": "execute_result"
    }
   ],
   "source": [
    "cursor = conn.cursor()\n",
    "\n",
    "query = \"\"\"PUT file:///home/armando/Desktop/dim_horas_2.csv @dim_hora_stage AUTO_COMPRESS=TRUE;\"\"\"\n",
    "\n",
    "cursor.execute(query)\n",
    "\n",
    "cursor.close()"
   ]
  },
  {
   "cell_type": "code",
   "execution_count": 11,
   "metadata": {},
   "outputs": [
    {
     "data": {
      "text/plain": [
       "True"
      ]
     },
     "execution_count": 11,
     "metadata": {},
     "output_type": "execute_result"
    }
   ],
   "source": [
    "cursor = conn.cursor()\n",
    "\n",
    "query = \"\"\"COPY INTO anuncios_db.bronce.dim_horas\n",
    "  FROM @dim_hora_stage\n",
    "  FILE_FORMAT = (FORMAT_NAME = mycsvformat)\n",
    "  PATTERN='.*horas_[1-2].csv.gz'\n",
    "  ON_ERROR = 'skip_file';\"\"\"\n",
    "\n",
    "cursor.execute(query)\n",
    "\n",
    "cursor.close()"
   ]
  },
  {
   "cell_type": "code",
   "execution_count": null,
   "metadata": {},
   "outputs": [],
   "source": [
    "conn.close()"
   ]
  }
 ],
 "metadata": {
  "kernelspec": {
   "display_name": "Python 3 (ipykernel)",
   "language": "python",
   "name": "python3"
  },
  "language_info": {
   "codemirror_mode": {
    "name": "ipython",
    "version": 3
   },
   "file_extension": ".py",
   "mimetype": "text/x-python",
   "name": "python",
   "nbconvert_exporter": "python",
   "pygments_lexer": "ipython3",
   "version": "3.12.3"
  }
 },
 "nbformat": 4,
 "nbformat_minor": 2
}
