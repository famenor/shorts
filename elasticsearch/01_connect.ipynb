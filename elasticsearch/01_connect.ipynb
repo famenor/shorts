{
 "cells": [
  {
   "cell_type": "code",
   "execution_count": 32,
   "id": "6258289d",
   "metadata": {},
   "outputs": [
    {
     "name": "stderr",
     "output_type": "stream",
     "text": [
      "/home/armando/ambientes_python/ambiente_ai/lib/python3.12/site-packages/tqdm/auto.py:21: TqdmWarning: IProgress not found. Please update jupyter and ipywidgets. See https://ipywidgets.readthedocs.io/en/stable/user_install.html\n",
      "  from .autonotebook import tqdm as notebook_tqdm\n"
     ]
    }
   ],
   "source": [
    "import requests\n",
    "from elasticsearch import Elasticsearch\n",
    "from sentence_transformers import SentenceTransformer"
   ]
  },
  {
   "cell_type": "code",
   "execution_count": 33,
   "id": "0f944e17",
   "metadata": {},
   "outputs": [
    {
     "name": "stderr",
     "output_type": "stream",
     "text": [
      "Xet Storage is enabled for this repo, but the 'hf_xet' package is not installed. Falling back to regular HTTP download. For better performance, install the package with: `pip install huggingface_hub[hf_xet]` or `pip install hf_xet`\n"
     ]
    }
   ],
   "source": [
    "ELASTIC_KEY = ''\n",
    "HOST = 'https://my-elasticsearch-project-ed79de.es.us-central1.gcp.elastic.cloud:443'\n",
    "INDEX = 'vuelos'\n",
    "\n",
    "model = SentenceTransformer(\"all-MiniLM-L6-v2\")"
   ]
  },
  {
   "cell_type": "code",
   "execution_count": 10,
   "id": "e88ace67",
   "metadata": {},
   "outputs": [],
   "source": [
    "client = Elasticsearch(HOST, api_key=ELASTIC_KEY)"
   ]
  },
  {
   "cell_type": "code",
   "execution_count": null,
   "id": "5e4a1598",
   "metadata": {},
   "outputs": [
    {
     "name": "stdout",
     "output_type": "stream",
     "text": [
      "{'took': 1, 'timed_out': False, '_shards': {'total': 3, 'successful': 3, 'skipped': 0, 'failed': 0}, 'hits': {'total': {'value': 388, 'relation': 'eq'}, 'max_score': 2.958173, 'hits': [{'_index': 'vuelos', '_id': 'Ykmqg5kB4k6-RmqwKeU4', '_score': 2.958173, '_source': {'aeropuerto': 'Kugaaruk Airport', 'codigo': 'YBB', 'latitud': 68.534401, 'tipo': 'airport', 'dst': 'A', 'fuente': 'OurAirports', 'codigo_2': 'CYBB', 'pais': 'Canada', 'etiqueta': 'Pelly Bay', 'longitud': -89.808098, 'altitud': 56, 'zona_horaria': -7.0, 'id': 26, 'zona_tiempo': 'America/Edmonton'}}, {'_index': 'vuelos', '_id': 'ZEmqg5kB4k6-RmqwKeU4', '_score': 2.958173, '_source': {'aeropuerto': 'CFB Bagotville', 'codigo': 'YBG', 'latitud': 48.33060073852539, 'tipo': 'airport', 'dst': 'A', 'fuente': 'OurAirports', 'codigo_2': 'CYBG', 'pais': 'Canada', 'etiqueta': 'Bagotville', 'longitud': -70.99639892578125, 'altitud': 522, 'zona_horaria': -5.0, 'id': 28, 'zona_tiempo': 'America/Toronto'}}, {'_index': 'vuelos', '_id': 'cEmqg5kB4k6-RmqwKeU4', '_score': 2.958173, '_source': {'aeropuerto': 'Clyde River Airport', 'codigo': 'YCY', 'latitud': 70.4860992432, 'tipo': 'airport', 'dst': 'A', 'fuente': 'OurAirports', 'codigo_2': 'CYCY', 'pais': 'Canada', 'etiqueta': 'Clyde River', 'longitud': -68.5167007446, 'altitud': 87, 'zona_horaria': -5.0, 'id': 40, 'zona_tiempo': 'America/Toronto'}}, {'_index': 'vuelos', '_id': 'dEmqg5kB4k6-RmqwKeU4', '_score': 2.958173, '_source': {'aeropuerto': 'Princeton Airport', 'codigo': '\\\\N', 'latitud': 49.4681015015, 'tipo': 'airport', 'dst': 'A', 'fuente': 'OurAirports', 'codigo_2': 'CYDC', 'pais': 'Canada', 'etiqueta': 'Princeton', 'longitud': -120.511001587, 'altitud': 2298, 'zona_horaria': -8.0, 'id': 44, 'zona_tiempo': 'America/Vancouver'}}, {'_index': 'vuelos', '_id': 'd0mqg5kB4k6-RmqwKeU4', '_score': 2.958173, '_source': {'aeropuerto': 'Dauphin Barker Airport', 'codigo': 'YDN', 'latitud': 51.100799560546875, 'tipo': 'airport', 'dst': 'A', 'fuente': 'OurAirports', 'codigo_2': 'CYDN', 'pais': 'Canada', 'etiqueta': 'Dauphin', 'longitud': -100.052001953125, 'altitud': 999, 'zona_horaria': -6.0, 'id': 47, 'zona_tiempo': 'America/Winnipeg'}}, {'_index': 'vuelos', '_id': 'gUmqg5kB4k6-RmqwKeU4', '_score': 2.958173, '_source': {'aeropuerto': 'Forestville Airport', 'codigo': 'YFE', 'latitud': 48.74610137939453, 'tipo': 'airport', 'dst': 'A', 'fuente': 'OurAirports', 'codigo_2': 'CYFE', 'pais': 'Canada', 'etiqueta': 'Forestville', 'longitud': -69.09719848632812, 'altitud': 293, 'zona_horaria': -5.0, 'id': 57, 'zona_tiempo': 'America/Toronto'}}, {'_index': 'vuelos', '_id': 'g0mqg5kB4k6-RmqwKeU4', '_score': 2.958173, '_source': {'aeropuerto': 'Fort Resolution Airport', 'codigo': 'YFR', 'latitud': 61.1808013916, 'tipo': 'airport', 'dst': 'A', 'fuente': 'OurAirports', 'codigo_2': 'CYFR', 'pais': 'Canada', 'etiqueta': 'Fort Resolution', 'longitud': -113.690002441, 'altitud': 526, 'zona_horaria': -7.0, 'id': 59, 'zona_tiempo': 'America/Edmonton'}}, {'_index': 'vuelos', '_id': 'hEmqg5kB4k6-RmqwKeU4', '_score': 2.958173, '_source': {'aeropuerto': 'Fort Simpson Airport', 'codigo': 'YFS', 'latitud': 61.76020050048828, 'tipo': 'airport', 'dst': 'A', 'fuente': 'OurAirports', 'codigo_2': 'CYFS', 'pais': 'Canada', 'etiqueta': 'Fort Simpson', 'longitud': -121.23699951171875, 'altitud': 555, 'zona_horaria': -7.0, 'id': 60, 'zona_tiempo': 'America/Edmonton'}}, {'_index': 'vuelos', '_id': 'ikmqg5kB4k6-RmqwKeU4', '_score': 2.958173, '_source': {'aeropuerto': 'Hudson Bay Airport', 'codigo': 'YHB', 'latitud': 52.8166999817, 'tipo': 'airport', 'dst': 'N', 'fuente': 'OurAirports', 'codigo_2': 'CYHB', 'pais': 'Canada', 'etiqueta': 'Hudson Bay', 'longitud': -102.310997009, 'altitud': 1175, 'zona_horaria': -6.0, 'id': 66, 'zona_tiempo': 'America/Regina'}}, {'_index': 'vuelos', '_id': 'jEmqg5kB4k6-RmqwKeU4', '_score': 2.958173, '_source': {'aeropuerto': 'Ulukhaktok Holman Airport', 'codigo': 'YHI', 'latitud': 70.76280212402344, 'tipo': 'airport', 'dst': 'A', 'fuente': 'OurAirports', 'codigo_2': 'CYHI', 'pais': 'Canada', 'etiqueta': 'Holman Island', 'longitud': -117.80599975585938, 'altitud': 117, 'zona_horaria': -7.0, 'id': 68, 'zona_tiempo': 'America/Edmonton'}}]}}\n"
     ]
    }
   ],
   "source": [
    "#BUSQUEDA EXACTA\n",
    "response = client.search(\n",
    "    index=INDEX, query={\"match\": {\"pais\": {\"query\": \"Canada\"}}}\n",
    ")\n",
    "\n",
    "print(response)\n"
   ]
  },
  {
   "cell_type": "code",
   "execution_count": 20,
   "id": "a1d9ff86",
   "metadata": {},
   "outputs": [
    {
     "name": "stdout",
     "output_type": "stream",
     "text": [
      "{'took': 1, 'timed_out': False, '_shards': {'total': 3, 'successful': 3, 'skipped': 0, 'failed': 0}, 'hits': {'total': {'value': 1, 'relation': 'eq'}, 'max_score': 7.4008236, 'hits': [{'_index': 'vuelos', '_id': '2Umqg5kB4k6-RmqwKeU4', '_score': 7.4008236, '_source': {'aeropuerto': 'Montreal / Pierre Elliott Trudeau International Airport', 'codigo': 'YUL', 'latitud': 45.4706001282, 'tipo': 'airport', 'dst': 'A', 'fuente': 'OurAirports', 'codigo_2': 'CYUL', 'pais': 'Canada', 'etiqueta': 'Montreal', 'longitud': -73.7407989502, 'altitud': 118, 'zona_horaria': -5.0, 'id': 146, 'zona_tiempo': 'America/Toronto'}}]}}\n"
     ]
    }
   ],
   "source": [
    "\n",
    "#MULTI CAMPO\n",
    "response = client.search(\n",
    "    index=INDEX,\n",
    "    query={\"multi_match\": {\"query\": \"YUL\", \"fields\": [\"codigo\", \"codigo_2\"]}},\n",
    ")\n",
    "\n",
    "print(response)\n"
   ]
  },
  {
   "cell_type": "code",
   "execution_count": 23,
   "id": "2a0789a0",
   "metadata": {},
   "outputs": [
    {
     "name": "stdout",
     "output_type": "stream",
     "text": [
      "{'took': 1, 'timed_out': False, '_shards': {'total': 3, 'successful': 3, 'skipped': 0, 'failed': 0}, 'hits': {'total': {'value': 1, 'relation': 'eq'}, 'max_score': 7.3634596, 'hits': [{'_index': 'vuelos', '_id': 'H0mqg5kB4k6-RmqwKfg_', '_score': 7.3634596, '_source': {'aeropuerto': 'Cam Ranh Airport', 'codigo': 'CXR', 'latitud': 11.998200416564941, 'tipo': 'airport', 'dst': 'U', 'fuente': 'OurAirports', 'codigo_2': 'VVCR', 'pais': 'Vietnam', 'etiqueta': 'Nha Trang', 'longitud': 109.21900177001953, 'altitud': 40, 'zona_horaria': 7.0, 'id': 6189, 'zona_tiempo': 'Asia/Saigon'}}]}}\n"
     ]
    }
   ],
   "source": [
    "#BUSQUEDA DE TEXTO\n",
    "response = client.search(\n",
    "    index=INDEX, query={\"match\": {\"aeropuerto\": {\"query\": \"Cam\"}}}\n",
    ")\n",
    "print(response)"
   ]
  },
  {
   "cell_type": "code",
   "execution_count": 25,
   "id": "1a6d8fae",
   "metadata": {},
   "outputs": [
    {
     "name": "stdout",
     "output_type": "stream",
     "text": [
      "{'took': 1, 'timed_out': False, '_shards': {'total': 3, 'successful': 3, 'skipped': 0, 'failed': 0}, 'hits': {'total': {'value': 1163, 'relation': 'eq'}, 'max_score': 1.0, 'hits': [{'_index': 'vuelos', '_id': 'SUmqg5kB4k6-RmqwKeU3', '_score': 1.0, '_source': {'aeropuerto': 'Goroka Airport', 'codigo': 'GKA', 'latitud': -6.081689834590001, 'tipo': 'airport', 'dst': 'U', 'fuente': 'OurAirports', 'codigo_2': 'AYGA', 'pais': 'Papua New Guinea', 'etiqueta': 'Goroka', 'longitud': 145.391998291, 'altitud': 5282, 'zona_horaria': 10.0, 'id': 1, 'zona_tiempo': 'Pacific/Port_Moresby'}}, {'_index': 'vuelos', '_id': 'bkmqg5kB4k6-RmqwKeU4', '_score': 1.0, '_source': {'aeropuerto': 'Coronation Airport', 'codigo': 'YCT', 'latitud': 52.0750007629, 'tipo': 'airport', 'dst': 'A', 'fuente': 'OurAirports', 'codigo_2': 'CYCT', 'pais': 'Canada', 'etiqueta': 'Coronation', 'longitud': -111.444999695, 'altitud': 2595, 'zona_horaria': -7.0, 'id': 38, 'zona_tiempo': 'America/Edmonton'}}, {'_index': 'vuelos', '_id': 'c0mqg5kB4k6-RmqwKeU4', '_score': 1.0, '_source': {'aeropuerto': 'Burwash Airport', 'codigo': 'YDB', 'latitud': 61.37110137939453, 'tipo': 'airport', 'dst': 'A', 'fuente': 'OurAirports', 'codigo_2': 'CYDB', 'pais': 'Canada', 'etiqueta': 'Burwash', 'longitud': -139.04100036621094, 'altitud': 2647, 'zona_horaria': -8.0, 'id': 43, 'zona_tiempo': 'America/Vancouver'}}, {'_index': 'vuelos', '_id': 'eEmqg5kB4k6-RmqwKeU4', '_score': 1.0, '_source': {'aeropuerto': 'Dawson Creek Airport', 'codigo': 'YDQ', 'latitud': 55.7422981262207, 'tipo': 'airport', 'dst': 'A', 'fuente': 'OurAirports', 'codigo_2': 'CYDQ', 'pais': 'Canada', 'etiqueta': 'Dawson Creek', 'longitud': -120.18299865722656, 'altitud': 2148, 'zona_horaria': -7.0, 'id': 48, 'zona_tiempo': 'America/Dawson_Creek'}}, {'_index': 'vuelos', '_id': 'fEmqg5kB4k6-RmqwKeU4', '_score': 1.0, '_source': {'aeropuerto': 'Edson Airport', 'codigo': 'YET', 'latitud': 53.578899383499994, 'tipo': 'airport', 'dst': 'A', 'fuente': 'OurAirports', 'codigo_2': 'CYET', 'pais': 'Canada', 'etiqueta': 'Edson', 'longitud': -116.464996338, 'altitud': 3043, 'zona_horaria': -7.0, 'id': 52, 'zona_tiempo': 'America/Edmonton'}}, {'_index': 'vuelos', '_id': 'vEmqg5kB4k6-RmqwKeU4', '_score': 1.0, '_source': {'aeropuerto': 'Lethbridge County Airport', 'codigo': 'YQL', 'latitud': 49.6302986145, 'tipo': 'airport', 'dst': 'A', 'fuente': 'OurAirports', 'codigo_2': 'CYQL', 'pais': 'Canada', 'etiqueta': 'Lethbridge', 'longitud': -112.800003052, 'altitud': 3048, 'zona_horaria': -7.0, 'id': 116, 'zona_tiempo': 'America/Edmonton'}}, {'_index': 'vuelos', '_id': '7Emqg5kB4k6-RmqwKeU4', '_score': 1.0, '_source': {'aeropuerto': 'Edmonton City Centre (Blatchford Field) Airport', 'codigo': 'YXD', 'latitud': 53.5724983215, 'tipo': 'airport', 'dst': 'A', 'fuente': 'OurAirports', 'codigo_2': 'CYXD', 'pais': 'Canada', 'etiqueta': 'Edmonton', 'longitud': -113.521003723, 'altitud': 2202, 'zona_horaria': -7.0, 'id': 165, 'zona_tiempo': 'America/Edmonton'}}, {'_index': 'vuelos', '_id': 'AUmqg5kB4k6-RmqwKeY4', '_score': 1.0, '_source': {'aeropuerto': 'Swift Current Airport', 'codigo': 'YYN', 'latitud': 50.291900634799994, 'tipo': 'airport', 'dst': 'N', 'fuente': 'OurAirports', 'codigo_2': 'CYYN', 'pais': 'Canada', 'etiqueta': 'Swift Current', 'longitud': -107.691001892, 'altitud': 2680, 'zona_horaria': -6.0, 'id': 186, 'zona_tiempo': 'America/Regina'}}, {'_index': 'vuelos', '_id': 'FEmqg5kB4k6-RmqwKeY4', '_score': 1.0, '_source': {'aeropuerto': 'Faro Airport', 'codigo': 'ZFA', 'latitud': 62.20750045776367, 'tipo': 'airport', 'dst': 'A', 'fuente': 'OurAirports', 'codigo_2': 'CZFA', 'pais': 'Canada', 'etiqueta': 'Faro', 'longitud': -133.37600708007812, 'altitud': 2351, 'zona_horaria': -8.0, 'id': 205, 'zona_tiempo': 'America/Vancouver'}}, {'_index': 'vuelos', '_id': 'Hkmqg5kB4k6-RmqwKeY4', '_score': 1.0, '_source': {'aeropuerto': 'Ain Oussera Airport', 'codigo': '\\\\N', 'latitud': 35.52539825439453, 'tipo': 'airport', 'dst': 'N', 'fuente': 'OurAirports', 'codigo_2': 'DAAQ', 'pais': 'Algeria', 'etiqueta': 'Ain Oussera', 'longitud': 2.8787100315093994, 'altitud': 2132, 'zona_horaria': 1.0, 'id': 215, 'zona_tiempo': 'Africa/Algiers'}}]}}\n"
     ]
    }
   ],
   "source": [
    "#BUSQUEDA CON RANGO\n",
    "response = client.search(\n",
    "    index=INDEX, query={\"range\": {\"altitud\": {\"gte\": 2000}}}\n",
    ")\n",
    "\n",
    "print(response)"
   ]
  },
  {
   "cell_type": "code",
   "execution_count": 26,
   "id": "d11f1338",
   "metadata": {},
   "outputs": [
    {
     "name": "stdout",
     "output_type": "stream",
     "text": [
      "{'took': 2, 'timed_out': False, '_shards': {'total': 3, 'successful': 3, 'skipped': 0, 'failed': 0}, 'hits': {'total': {'value': 19, 'relation': 'eq'}, 'max_score': 1.0, 'hits': [{'_index': 'vuelos', '_id': 'eUmqg5kB4k6-RmqwKeo5', '_score': 1.0, '_source': {'aeropuerto': 'Mende-Brenoux Airfield', 'codigo': 'MEN', 'latitud': 44.502102, 'tipo': 'airport', 'dst': 'E', 'fuente': 'OurAirports', 'codigo_2': 'LFNB', 'pais': 'France', 'etiqueta': 'Mende', 'longitud': 3.53282, 'altitud': 3362, 'zona_horaria': 1.0, 'id': 1364, 'zona_tiempo': 'Europe/Paris'}}, {'_index': 'vuelos', '_id': 'HUmqg5kB4k6-RmqwKe06', '_score': 1.0, '_source': {'aeropuerto': 'Prince Mohammad Bin Abdulaziz Airport', 'codigo': 'MED', 'latitud': 24.5534, 'tipo': 'airport', 'dst': 'U', 'fuente': 'OurAirports', 'codigo_2': 'OEMA', 'pais': 'Saudi Arabia', 'etiqueta': 'Madinah', 'longitud': 39.705101, 'altitud': 2151, 'zona_horaria': 3.0, 'id': 2074, 'zona_tiempo': 'Asia/Riyadh'}}, {'_index': 'vuelos', '_id': 'P0mqg5kB4k6-RmqwKe87', '_score': 1.0, '_source': {'aeropuerto': 'Eloy Alfaro International Airport', 'codigo': 'MEC', 'latitud': -0.9460780024528503, 'tipo': 'airport', 'dst': 'U', 'fuente': 'OurAirports', 'codigo_2': 'SEMT', 'pais': 'Ecuador', 'etiqueta': 'Manta', 'longitud': -80.67880249023438, 'altitud': 48, 'zona_horaria': -5.0, 'id': 2683, 'zona_tiempo': 'America/Guayaquil'}}, {'_index': 'vuelos', '_id': 'XUmqg5kB4k6-RmqwKfE8', '_score': 1.0, '_source': {'aeropuerto': 'Soewondo Air Force Base', 'codigo': 'MES', 'latitud': 3.559167, 'tipo': 'airport', 'dst': 'N', 'fuente': 'OurAirports', 'codigo_2': 'WIMK', 'pais': 'Indonesia', 'etiqueta': 'Medan', 'longitud': 98.671111, 'altitud': 114, 'zona_horaria': 7.0, 'id': 3279, 'zona_tiempo': 'Asia/Jakarta'}}, {'_index': 'vuelos', '_id': '5Emqg5kB4k6-RmqwKfI9', '_score': 1.0, '_source': {'aeropuerto': 'Castle Airport', 'codigo': 'MER', 'latitud': 37.38050079, 'tipo': 'airport', 'dst': 'A', 'fuente': 'OurAirports', 'codigo_2': 'KMER', 'pais': 'United States', 'etiqueta': 'Merced', 'longitud': -120.5680008, 'altitud': 191, 'zona_horaria': -8.0, 'id': 3683, 'zona_tiempo': 'America/Los_Angeles'}}, {'_index': 'vuelos', '_id': 'LEmqg5kB4k6-RmqwKfU-', '_score': 1.0, '_source': {'aeropuerto': 'Key Field', 'codigo': 'MEI', 'latitud': 32.33259963989258, 'tipo': 'airport', 'dst': 'A', 'fuente': 'OurAirports', 'codigo_2': 'KMEI', 'pais': 'United States', 'etiqueta': 'Meridian', 'longitud': -88.75189971923828, 'altitud': 297, 'zona_horaria': -6.0, 'id': 4335, 'zona_tiempo': 'America/Chicago'}}, {'_index': 'vuelos', '_id': 'kUmqg5kB4k6-RmqwKfc-', '_score': 1.0, '_source': {'aeropuerto': 'Macaé Airport', 'codigo': 'MEA', 'latitud': -22.343000412, 'tipo': 'airport', 'dst': 'S', 'fuente': 'OurAirports', 'codigo_2': 'SBME', 'pais': 'Brazil', 'etiqueta': 'Macaé', 'longitud': -41.7659988403, 'altitud': 8, 'zona_horaria': -3.0, 'id': 6037, 'zona_tiempo': 'America/Sao_Paulo'}}, {'_index': 'vuelos', '_id': 'F0mqg5kB4k6-RmqwKfg_', '_score': 1.0, '_source': {'aeropuerto': 'Meghauli Airport', 'codigo': 'MEY', 'latitud': 27.5774, 'tipo': 'airport', 'dst': 'N', 'fuente': 'OurAirports', 'codigo_2': 'VNMG', 'pais': 'Nepal', 'etiqueta': 'Meghauli', 'longitud': 84.22875, 'altitud': 600, 'zona_horaria': 5.75, 'id': 6181, 'zona_tiempo': 'Asia/Katmandu'}}, {'_index': 'vuelos', '_id': '_kmqg5kB4k6-RmqwLP5X', '_score': 1.0, '_source': {'aeropuerto': 'Dare County Regional Airport', 'codigo': 'MEO', 'latitud': 35.91899872, 'tipo': 'airport', 'dst': 'A', 'fuente': 'OurAirports', 'codigo_2': 'KMQI', 'pais': 'United States', 'etiqueta': 'Manteo', 'longitud': -75.69550323, 'altitud': 13, 'zona_horaria': -5.0, 'id': 9417, 'zona_tiempo': 'America/New_York'}}, {'_index': 'vuelos', '_id': '7Emqg5kB4k6-RmqwKeg5', '_score': 1.0, '_source': {'aeropuerto': 'Malanje Airport', 'codigo': 'MEG', 'latitud': -9.525090217590332, 'tipo': 'airport', 'dst': 'N', 'fuente': 'OurAirports', 'codigo_2': 'FNMA', 'pais': 'Angola', 'etiqueta': 'Malanje', 'longitud': 16.312400817871094, 'altitud': 3868, 'zona_horaria': 1.0, 'id': 952, 'zona_tiempo': 'Africa/Luanda'}}]}}\n"
     ]
    }
   ],
   "source": [
    "#PREFIJO\n",
    "response = client.search(\n",
    "    index=INDEX, query={\"prefix\": {\"codigo\": {\"value\": \"ME\"}}}\n",
    ")\n",
    "\n",
    "print(response)\n",
    "\n"
   ]
  },
  {
   "cell_type": "code",
   "execution_count": 29,
   "id": "3bfc146c",
   "metadata": {},
   "outputs": [
    {
     "name": "stdout",
     "output_type": "stream",
     "text": [
      "{'took': 4, 'timed_out': False, '_shards': {'total': 3, 'successful': 3, 'skipped': 0, 'failed': 0}, 'hits': {'total': {'value': 2, 'relation': 'eq'}, 'max_score': 4.908973, 'hits': [{'_index': 'vuelos', '_id': 'eEmqg5kB4k6-RmqwKew6', '_score': 4.908973, '_source': {'aeropuerto': 'Maximo Gomez Airport', 'codigo': 'AVI', 'latitud': 22.027099609375, 'tipo': 'airport', 'dst': 'U', 'fuente': 'OurAirports', 'codigo_2': 'MUCA', 'pais': 'Cuba', 'etiqueta': 'Ciego De Avila', 'longitud': -78.78959655761719, 'altitud': 335, 'zona_horaria': -5.0, 'id': 1900, 'zona_tiempo': 'America/Havana'}}, {'_index': 'vuelos', '_id': 'Hkmqg5kB4k6-RmqwKe87', '_score': 3.4812875, '_source': {'aeropuerto': 'Comodoro Arturo Merino Benítez International Airport', 'codigo': 'SCL', 'latitud': -33.393001556396484, 'tipo': 'airport', 'dst': 'S', 'fuente': 'OurAirports', 'codigo_2': 'SCEL', 'pais': 'Chile', 'etiqueta': 'Santiago', 'longitud': -70.78579711914062, 'altitud': 1555, 'zona_horaria': -4.0, 'id': 2650, 'zona_tiempo': 'America/Santiago'}}]}}\n"
     ]
    }
   ],
   "source": [
    "#FUZZY\n",
    "response = client.search(\n",
    "    index=INDEX, query={\"fuzzy\": {\"aeropuerto\": {\"value\": \"mexico\"}}}\n",
    ")\n",
    "\n",
    "print(response)"
   ]
  },
  {
   "cell_type": "code",
   "execution_count": 36,
   "id": "667c84ca",
   "metadata": {},
   "outputs": [
    {
     "name": "stdout",
     "output_type": "stream",
     "text": [
      "{'took': 11, 'timed_out': False, '_shards': {'total': 3, 'successful': 3, 'skipped': 0, 'failed': 0}, 'hits': {'total': {'value': 22, 'relation': 'eq'}, 'max_score': 0.016393442, 'hits': [{'_index': 'vuelos', '_id': '6Emqg5kB4k6-RmqwKe07', '_score': 0.016393442, '_source': {'aeropuerto': 'New Tanegashima Airport', 'codigo': 'TNE', 'latitud': 30.605100631699997, 'tipo': 'airport', 'dst': 'U', 'fuente': 'OurAirports', 'codigo_2': 'RJFG', 'pais': 'Japan', 'etiqueta': 'Tanegashima', 'longitud': 130.990997314, 'altitud': 768, 'zona_horaria': 9.0, 'id': 2306, 'zona_tiempo': 'Asia/Tokyo'}}, {'_index': 'vuelos', '_id': '-Emqg5kB4k6-RmqwKfQ9', '_score': 0.016129032, '_source': {'aeropuerto': 'Groton New London Airport', 'codigo': 'GON', 'latitud': 41.330101013183594, 'tipo': 'airport', 'dst': 'A', 'fuente': 'OurAirports', 'codigo_2': 'KGON', 'pais': 'United States', 'etiqueta': 'Groton CT', 'longitud': -72.04509735107422, 'altitud': 9, 'zona_horaria': -5.0, 'id': 4270, 'zona_tiempo': 'America/New_York'}}, {'_index': 'vuelos', '_id': 'mUmqg5kB4k6-RmqwLPpW', '_score': 0.015873017, '_source': {'aeropuerto': 'Circle City /New/ Airport', 'codigo': 'IRC', 'latitud': 65.830498, 'tipo': 'airport', 'dst': 'A', 'fuente': 'OurAirports', 'codigo_2': 'PACR', 'pais': 'United States', 'etiqueta': 'Circle', 'longitud': -144.076008, 'altitud': 613, 'zona_horaria': -9.0, 'id': 7236, 'zona_tiempo': 'America/Anchorage'}}, {'_index': 'vuelos', '_id': '6kmqg5kB4k6-RmqwKew6', '_score': 0.015625, '_source': {'aeropuerto': 'New Plymouth Airport', 'codigo': 'NPL', 'latitud': -39.00859832763672, 'tipo': 'airport', 'dst': 'Z', 'fuente': 'OurAirports', 'codigo_2': 'NZNP', 'pais': 'New Zealand', 'etiqueta': 'New Plymouth', 'longitud': 174.1790008544922, 'altitud': 97, 'zona_horaria': 12.0, 'id': 2023, 'zona_tiempo': 'Pacific/Auckland'}}, {'_index': 'vuelos', '_id': '1kmqg5kB4k6-RmqwKe07', '_score': 0.015384615, '_source': {'aeropuerto': 'New Chitose Airport', 'codigo': 'CTS', 'latitud': 42.77519989013672, 'tipo': 'airport', 'dst': 'U', 'fuente': 'OurAirports', 'codigo_2': 'RJCC', 'pais': 'Japan', 'etiqueta': 'Sapporo', 'longitud': 141.69200134277344, 'altitud': 82, 'zona_horaria': 9.0, 'id': 2287, 'zona_tiempo': 'Asia/Tokyo'}}]}}\n"
     ]
    }
   ],
   "source": [
    "#RFF\n",
    "response = client.search(\n",
    "    index=INDEX,\n",
    "    size=5,\n",
    "    retriever={\n",
    "        \"rrf\": {\n",
    "            \"retrievers\": [\n",
    "                {\"standard\": {\"query\": {\"match\": {\"pais\": \"United Stated\"}}}},\n",
    "                {\"standard\": {\"query\": {\"match\": {\"aeropuerto\": \"new\"}}}}\n",
    "            ]\n",
    "        }\n",
    "    },\n",
    ")\n",
    "print(response)"
   ]
  },
  {
   "cell_type": "code",
   "execution_count": 54,
   "id": "3be95b77",
   "metadata": {},
   "outputs": [
    {
     "name": "stdout",
     "output_type": "stream",
     "text": [
      "{'took': 0, 'timed_out': False, '_shards': {'total': 3, 'successful': 3, 'skipped': 0, 'failed': 0}, 'hits': {'total': {'value': 84, 'relation': 'eq'}, 'max_score': 4.5828824, 'hits': [{'_index': 'vuelos', '_id': 'Ckmqg5kB4k6-RmqwKew6', '_score': 4.5828824, '_source': {'aeropuerto': 'Jesús Terán Paredo International Airport', 'codigo': 'AGU', 'latitud': 21.705601, 'tipo': 'airport', 'dst': 'S', 'fuente': 'OurAirports', 'codigo_2': 'MMAS', 'pais': 'Mexico', 'etiqueta': 'Aguascalientes', 'longitud': -102.318001, 'altitud': 6112, 'zona_horaria': -6.0, 'id': 1785, 'zona_tiempo': 'America/Mexico_City'}}, {'_index': 'vuelos', '_id': 'DEmqg5kB4k6-RmqwKew6', '_score': 4.5828824, '_source': {'aeropuerto': 'General Mariano Matamoros Airport', 'codigo': 'CVJ', 'latitud': 18.834800720214844, 'tipo': 'airport', 'dst': 'S', 'fuente': 'OurAirports', 'codigo_2': 'MMCB', 'pais': 'Mexico', 'etiqueta': 'Cuernavaca', 'longitud': -99.26129913330078, 'altitud': 4277, 'zona_horaria': -6.0, 'id': 1787, 'zona_tiempo': 'America/Mexico_City'}}, {'_index': 'vuelos', '_id': 'DUmqg5kB4k6-RmqwKew6', '_score': 4.5828824, '_source': {'aeropuerto': 'Ciudad Acuña New International Airport', 'codigo': 'ACN', 'latitud': 29.332899, 'tipo': 'airport', 'dst': 'S', 'fuente': 'OurAirports', 'codigo_2': 'MMCC', 'pais': 'Mexico', 'etiqueta': 'Ciudad Acuna', 'longitud': -101.098998, 'altitud': 1410, 'zona_horaria': -6.0, 'id': 1788, 'zona_tiempo': 'America/Mexico_City'}}, {'_index': 'vuelos', '_id': 'D0mqg5kB4k6-RmqwKew6', '_score': 4.5828824, '_source': {'aeropuerto': 'Nuevo Casas Grandes Airport', 'codigo': 'NCG', 'latitud': 30.3974, 'tipo': 'airport', 'dst': 'S', 'fuente': 'OurAirports', 'codigo_2': 'MMCG', 'pais': 'Mexico', 'etiqueta': 'Nuevo Casas Grandes', 'longitud': -107.875, 'altitud': 4850, 'zona_horaria': -7.0, 'id': 1790, 'zona_tiempo': 'America/Mazatlan'}}, {'_index': 'vuelos', '_id': 'Ekmqg5kB4k6-RmqwKew6', '_score': 4.5828824, '_source': {'aeropuerto': 'Chetumal International Airport', 'codigo': 'CTM', 'latitud': 18.50469970703125, 'tipo': 'airport', 'dst': 'S', 'fuente': 'OurAirports', 'codigo_2': 'MMCM', 'pais': 'Mexico', 'etiqueta': 'Chetumal', 'longitud': -88.32679748535156, 'altitud': 39, 'zona_horaria': -5.0, 'id': 1793, 'zona_tiempo': 'America/Cancun'}}, {'_index': 'vuelos', '_id': 'E0mqg5kB4k6-RmqwKew6', '_score': 4.5828824, '_source': {'aeropuerto': 'Ciudad Obregón International Airport', 'codigo': 'CEN', 'latitud': 27.39259910583496, 'tipo': 'airport', 'dst': 'S', 'fuente': 'OurAirports', 'codigo_2': 'MMCN', 'pais': 'Mexico', 'etiqueta': 'Ciudad Obregon', 'longitud': -109.83300018310547, 'altitud': 243, 'zona_horaria': -7.0, 'id': 1794, 'zona_tiempo': 'America/Hermosillo'}}, {'_index': 'vuelos', '_id': 'FEmqg5kB4k6-RmqwKew6', '_score': 4.5828824, '_source': {'aeropuerto': 'Ingeniero Alberto Acuña Ongay International Airport', 'codigo': 'CPE', 'latitud': 19.816799163800003, 'tipo': 'airport', 'dst': 'S', 'fuente': 'OurAirports', 'codigo_2': 'MMCP', 'pais': 'Mexico', 'etiqueta': 'Campeche', 'longitud': -90.5002975464, 'altitud': 34, 'zona_horaria': -6.0, 'id': 1795, 'zona_tiempo': 'America/Mexico_City'}}, {'_index': 'vuelos', '_id': 'F0mqg5kB4k6-RmqwKew6', '_score': 4.5828824, '_source': {'aeropuerto': 'General Pedro Jose Mendez International Airport', 'codigo': 'CVM', 'latitud': 23.7033004761, 'tipo': 'airport', 'dst': 'S', 'fuente': 'OurAirports', 'codigo_2': 'MMCV', 'pais': 'Mexico', 'etiqueta': 'Ciudad Victoria', 'longitud': -98.9564971924, 'altitud': 761, 'zona_horaria': -6.0, 'id': 1798, 'zona_tiempo': 'America/Mexico_City'}}, {'_index': 'vuelos', '_id': 'GEmqg5kB4k6-RmqwKew6', '_score': 4.5828824, '_source': {'aeropuerto': 'Cozumel International Airport', 'codigo': 'CZM', 'latitud': 20.52239990234375, 'tipo': 'airport', 'dst': 'S', 'fuente': 'OurAirports', 'codigo_2': 'MMCZ', 'pais': 'Mexico', 'etiqueta': 'Cozumel', 'longitud': -86.92559814453125, 'altitud': 15, 'zona_horaria': -5.0, 'id': 1800, 'zona_tiempo': 'America/Cancun'}}, {'_index': 'vuelos', '_id': 'GUmqg5kB4k6-RmqwKew6', '_score': 4.5828824, '_source': {'aeropuerto': 'General Guadalupe Victoria International Airport', 'codigo': 'DGO', 'latitud': 24.1242008209, 'tipo': 'airport', 'dst': 'S', 'fuente': 'OurAirports', 'codigo_2': 'MMDO', 'pais': 'Mexico', 'etiqueta': 'Durango', 'longitud': -104.527999878, 'altitud': 6104, 'zona_horaria': -6.0, 'id': 1801, 'zona_tiempo': 'America/Mexico_City'}}]}}\n"
     ]
    }
   ],
   "source": [
    "#BUSQUEDA EXACTA\n",
    "response = client.search(\n",
    "    index=INDEX, query={\"match\": {\"pais\": {\"query\": \"Mexico\"}}}\n",
    ")\n",
    "\n",
    "print(response)"
   ]
  },
  {
   "cell_type": "code",
   "execution_count": 57,
   "id": "c035e9bf",
   "metadata": {},
   "outputs": [
    {
     "ename": "ApiError",
     "evalue": "ApiError(429, 'status_exception', 'Could not start deployment because no ML nodes with sufficient capacity were found', Could not start deployment because no suitable nodes were found, allocation explanation [Could not assign (more) allocations on node [VLzi9poXSaaLqUzuPeTK7w]. Reason: This node has insufficient available memory. Available memory for ML [2367684608 (2.2gb)], free memory [234881024 (224mb)], estimated memory required for this model [411956170 (392.8mb)].])",
     "output_type": "error",
     "traceback": [
      "\u001b[0;31m---------------------------------------------------------------------------\u001b[0m",
      "\u001b[0;31mApiError\u001b[0m                                  Traceback (most recent call last)",
      "Cell \u001b[0;32mIn[57], line 2\u001b[0m\n\u001b[1;32m      1\u001b[0m \u001b[38;5;66;03m#BUSQUEDA SEMANTICA\u001b[39;00m\n\u001b[0;32m----> 2\u001b[0m response \u001b[38;5;241m=\u001b[39m \u001b[43mclient\u001b[49m\u001b[38;5;241;43m.\u001b[39;49m\u001b[43msearch\u001b[49m\u001b[43m(\u001b[49m\n\u001b[1;32m      3\u001b[0m \u001b[43m    \u001b[49m\u001b[43mindex\u001b[49m\u001b[38;5;241;43m=\u001b[39;49m\u001b[38;5;124;43m'\u001b[39;49m\u001b[38;5;124;43mpelis\u001b[39;49m\u001b[38;5;124;43m'\u001b[39;49m\u001b[43m,\u001b[49m\u001b[43m \u001b[49m\u001b[43mquery\u001b[49m\u001b[38;5;241;43m=\u001b[39;49m\u001b[43m{\u001b[49m\u001b[38;5;124;43m\"\u001b[39;49m\u001b[38;5;124;43msemantic\u001b[39;49m\u001b[38;5;124;43m\"\u001b[39;49m\u001b[43m:\u001b[49m\u001b[43m \u001b[49m\u001b[43m{\u001b[49m\u001b[38;5;124;43m\"\u001b[39;49m\u001b[38;5;124;43mfield\u001b[39;49m\u001b[38;5;124;43m\"\u001b[39;49m\u001b[43m:\u001b[49m\u001b[43m \u001b[49m\u001b[38;5;124;43m\"\u001b[39;49m\u001b[38;5;124;43mdescription_ia_2\u001b[39;49m\u001b[38;5;124;43m\"\u001b[39;49m\u001b[43m,\u001b[49m\u001b[43m \u001b[49m\n\u001b[1;32m      4\u001b[0m \u001b[43m                                     \u001b[49m\u001b[38;5;124;43m\"\u001b[39;49m\u001b[38;5;124;43mquery\u001b[39;49m\u001b[38;5;124;43m\"\u001b[39;49m\u001b[43m:\u001b[49m\u001b[43m \u001b[49m\u001b[38;5;124;43m\"\u001b[39;49m\u001b[38;5;124;43mcasino y mafia\u001b[39;49m\u001b[38;5;124;43m\"\u001b[39;49m\u001b[43m}\u001b[49m\u001b[43m}\u001b[49m\n\u001b[1;32m      5\u001b[0m \u001b[43m)\u001b[49m\n\u001b[1;32m      7\u001b[0m \u001b[38;5;28mprint\u001b[39m(response)\n",
      "File \u001b[0;32m~/ambientes_python/ambiente_ai/lib/python3.12/site-packages/elasticsearch/_sync/client/utils.py:415\u001b[0m, in \u001b[0;36m_rewrite_parameters.<locals>.wrapper.<locals>.wrapped\u001b[0;34m(*args, **kwargs)\u001b[0m\n\u001b[1;32m    412\u001b[0m         \u001b[38;5;28;01mexcept\u001b[39;00m \u001b[38;5;167;01mKeyError\u001b[39;00m:\n\u001b[1;32m    413\u001b[0m             \u001b[38;5;28;01mpass\u001b[39;00m\n\u001b[0;32m--> 415\u001b[0m \u001b[38;5;28;01mreturn\u001b[39;00m \u001b[43mapi\u001b[49m\u001b[43m(\u001b[49m\u001b[38;5;241;43m*\u001b[39;49m\u001b[43margs\u001b[49m\u001b[43m,\u001b[49m\u001b[43m \u001b[49m\u001b[38;5;241;43m*\u001b[39;49m\u001b[38;5;241;43m*\u001b[39;49m\u001b[43mkwargs\u001b[49m\u001b[43m)\u001b[49m\n",
      "File \u001b[0;32m~/ambientes_python/ambiente_ai/lib/python3.12/site-packages/elasticsearch/_sync/client/__init__.py:4809\u001b[0m, in \u001b[0;36mElasticsearch.search\u001b[0;34m(self, index, aggregations, aggs, allow_no_indices, allow_partial_search_results, analyze_wildcard, analyzer, batched_reduce_size, ccs_minimize_roundtrips, collapse, default_operator, df, docvalue_fields, error_trace, expand_wildcards, explain, ext, fields, filter_path, force_synthetic_source, from_, highlight, human, ignore_throttled, ignore_unavailable, include_named_queries_score, indices_boost, knn, lenient, max_concurrent_shard_requests, min_score, pit, post_filter, pre_filter_shard_size, preference, pretty, profile, q, query, rank, request_cache, rescore, rest_total_hits_as_int, retriever, routing, runtime_mappings, script_fields, scroll, search_after, search_type, seq_no_primary_term, size, slice, sort, source, source_excludes, source_includes, stats, stored_fields, suggest, suggest_field, suggest_mode, suggest_size, suggest_text, terminate_after, timeout, track_scores, track_total_hits, typed_keys, version, body)\u001b[0m\n\u001b[1;32m   4807\u001b[0m \u001b[38;5;28;01mif\u001b[39;00m __body \u001b[38;5;129;01mis\u001b[39;00m \u001b[38;5;129;01mnot\u001b[39;00m \u001b[38;5;28;01mNone\u001b[39;00m:\n\u001b[1;32m   4808\u001b[0m     __headers[\u001b[38;5;124m\"\u001b[39m\u001b[38;5;124mcontent-type\u001b[39m\u001b[38;5;124m\"\u001b[39m] \u001b[38;5;241m=\u001b[39m \u001b[38;5;124m\"\u001b[39m\u001b[38;5;124mapplication/json\u001b[39m\u001b[38;5;124m\"\u001b[39m\n\u001b[0;32m-> 4809\u001b[0m \u001b[38;5;28;01mreturn\u001b[39;00m \u001b[38;5;28;43mself\u001b[39;49m\u001b[38;5;241;43m.\u001b[39;49m\u001b[43mperform_request\u001b[49m\u001b[43m(\u001b[49m\u001b[43m  \u001b[49m\u001b[38;5;66;43;03m# type: ignore[return-value]\u001b[39;49;00m\n\u001b[1;32m   4810\u001b[0m \u001b[43m    \u001b[49m\u001b[38;5;124;43m\"\u001b[39;49m\u001b[38;5;124;43mPOST\u001b[39;49m\u001b[38;5;124;43m\"\u001b[39;49m\u001b[43m,\u001b[49m\n\u001b[1;32m   4811\u001b[0m \u001b[43m    \u001b[49m\u001b[43m__path\u001b[49m\u001b[43m,\u001b[49m\n\u001b[1;32m   4812\u001b[0m \u001b[43m    \u001b[49m\u001b[43mparams\u001b[49m\u001b[38;5;241;43m=\u001b[39;49m\u001b[43m__query\u001b[49m\u001b[43m,\u001b[49m\n\u001b[1;32m   4813\u001b[0m \u001b[43m    \u001b[49m\u001b[43mheaders\u001b[49m\u001b[38;5;241;43m=\u001b[39;49m\u001b[43m__headers\u001b[49m\u001b[43m,\u001b[49m\n\u001b[1;32m   4814\u001b[0m \u001b[43m    \u001b[49m\u001b[43mbody\u001b[49m\u001b[38;5;241;43m=\u001b[39;49m\u001b[43m__body\u001b[49m\u001b[43m,\u001b[49m\n\u001b[1;32m   4815\u001b[0m \u001b[43m    \u001b[49m\u001b[43mendpoint_id\u001b[49m\u001b[38;5;241;43m=\u001b[39;49m\u001b[38;5;124;43m\"\u001b[39;49m\u001b[38;5;124;43msearch\u001b[39;49m\u001b[38;5;124;43m\"\u001b[39;49m\u001b[43m,\u001b[49m\n\u001b[1;32m   4816\u001b[0m \u001b[43m    \u001b[49m\u001b[43mpath_parts\u001b[49m\u001b[38;5;241;43m=\u001b[39;49m\u001b[43m__path_parts\u001b[49m\u001b[43m,\u001b[49m\n\u001b[1;32m   4817\u001b[0m \u001b[43m\u001b[49m\u001b[43m)\u001b[49m\n",
      "File \u001b[0;32m~/ambientes_python/ambiente_ai/lib/python3.12/site-packages/elasticsearch/_sync/client/_base.py:271\u001b[0m, in \u001b[0;36mBaseClient.perform_request\u001b[0;34m(self, method, path, params, headers, body, endpoint_id, path_parts)\u001b[0m\n\u001b[1;32m    255\u001b[0m \u001b[38;5;28;01mdef\u001b[39;00m\u001b[38;5;250m \u001b[39m\u001b[38;5;21mperform_request\u001b[39m(\n\u001b[1;32m    256\u001b[0m     \u001b[38;5;28mself\u001b[39m,\n\u001b[1;32m    257\u001b[0m     method: \u001b[38;5;28mstr\u001b[39m,\n\u001b[0;32m   (...)\u001b[0m\n\u001b[1;32m    264\u001b[0m     path_parts: Optional[Mapping[\u001b[38;5;28mstr\u001b[39m, Any]] \u001b[38;5;241m=\u001b[39m \u001b[38;5;28;01mNone\u001b[39;00m,\n\u001b[1;32m    265\u001b[0m ) \u001b[38;5;241m-\u001b[39m\u001b[38;5;241m>\u001b[39m ApiResponse[Any]:\n\u001b[1;32m    266\u001b[0m     \u001b[38;5;28;01mwith\u001b[39;00m \u001b[38;5;28mself\u001b[39m\u001b[38;5;241m.\u001b[39m_otel\u001b[38;5;241m.\u001b[39mspan(\n\u001b[1;32m    267\u001b[0m         method,\n\u001b[1;32m    268\u001b[0m         endpoint_id\u001b[38;5;241m=\u001b[39mendpoint_id,\n\u001b[1;32m    269\u001b[0m         path_parts\u001b[38;5;241m=\u001b[39mpath_parts \u001b[38;5;129;01mor\u001b[39;00m {},\n\u001b[1;32m    270\u001b[0m     ) \u001b[38;5;28;01mas\u001b[39;00m otel_span:\n\u001b[0;32m--> 271\u001b[0m         response \u001b[38;5;241m=\u001b[39m \u001b[38;5;28;43mself\u001b[39;49m\u001b[38;5;241;43m.\u001b[39;49m\u001b[43m_perform_request\u001b[49m\u001b[43m(\u001b[49m\n\u001b[1;32m    272\u001b[0m \u001b[43m            \u001b[49m\u001b[43mmethod\u001b[49m\u001b[43m,\u001b[49m\n\u001b[1;32m    273\u001b[0m \u001b[43m            \u001b[49m\u001b[43mpath\u001b[49m\u001b[43m,\u001b[49m\n\u001b[1;32m    274\u001b[0m \u001b[43m            \u001b[49m\u001b[43mparams\u001b[49m\u001b[38;5;241;43m=\u001b[39;49m\u001b[43mparams\u001b[49m\u001b[43m,\u001b[49m\n\u001b[1;32m    275\u001b[0m \u001b[43m            \u001b[49m\u001b[43mheaders\u001b[49m\u001b[38;5;241;43m=\u001b[39;49m\u001b[43mheaders\u001b[49m\u001b[43m,\u001b[49m\n\u001b[1;32m    276\u001b[0m \u001b[43m            \u001b[49m\u001b[43mbody\u001b[49m\u001b[38;5;241;43m=\u001b[39;49m\u001b[43mbody\u001b[49m\u001b[43m,\u001b[49m\n\u001b[1;32m    277\u001b[0m \u001b[43m            \u001b[49m\u001b[43motel_span\u001b[49m\u001b[38;5;241;43m=\u001b[39;49m\u001b[43motel_span\u001b[49m\u001b[43m,\u001b[49m\n\u001b[1;32m    278\u001b[0m \u001b[43m        \u001b[49m\u001b[43m)\u001b[49m\n\u001b[1;32m    279\u001b[0m         otel_span\u001b[38;5;241m.\u001b[39mset_elastic_cloud_metadata(response\u001b[38;5;241m.\u001b[39mmeta\u001b[38;5;241m.\u001b[39mheaders)\n\u001b[1;32m    280\u001b[0m         \u001b[38;5;28;01mreturn\u001b[39;00m response\n",
      "File \u001b[0;32m~/ambientes_python/ambiente_ai/lib/python3.12/site-packages/elasticsearch/_sync/client/_base.py:351\u001b[0m, in \u001b[0;36mBaseClient._perform_request\u001b[0;34m(self, method, path, params, headers, body, otel_span)\u001b[0m\n\u001b[1;32m    348\u001b[0m         \u001b[38;5;28;01mexcept\u001b[39;00m (\u001b[38;5;167;01mValueError\u001b[39;00m, \u001b[38;5;167;01mKeyError\u001b[39;00m, \u001b[38;5;167;01mTypeError\u001b[39;00m):\n\u001b[1;32m    349\u001b[0m             \u001b[38;5;28;01mpass\u001b[39;00m\n\u001b[0;32m--> 351\u001b[0m     \u001b[38;5;28;01mraise\u001b[39;00m HTTP_EXCEPTIONS\u001b[38;5;241m.\u001b[39mget(meta\u001b[38;5;241m.\u001b[39mstatus, ApiError)(\n\u001b[1;32m    352\u001b[0m         message\u001b[38;5;241m=\u001b[39mmessage, meta\u001b[38;5;241m=\u001b[39mmeta, body\u001b[38;5;241m=\u001b[39mresp_body\n\u001b[1;32m    353\u001b[0m     )\n\u001b[1;32m    355\u001b[0m \u001b[38;5;66;03m# 'X-Elastic-Product: Elasticsearch' should be on every 2XX response.\u001b[39;00m\n\u001b[1;32m    356\u001b[0m \u001b[38;5;28;01mif\u001b[39;00m \u001b[38;5;129;01mnot\u001b[39;00m \u001b[38;5;28mself\u001b[39m\u001b[38;5;241m.\u001b[39m_verified_elasticsearch:\n\u001b[1;32m    357\u001b[0m     \u001b[38;5;66;03m# If the header is set we mark the server as verified.\u001b[39;00m\n",
      "\u001b[0;31mApiError\u001b[0m: ApiError(429, 'status_exception', 'Could not start deployment because no ML nodes with sufficient capacity were found', Could not start deployment because no suitable nodes were found, allocation explanation [Could not assign (more) allocations on node [VLzi9poXSaaLqUzuPeTK7w]. Reason: This node has insufficient available memory. Available memory for ML [2367684608 (2.2gb)], free memory [234881024 (224mb)], estimated memory required for this model [411956170 (392.8mb)].])"
     ]
    }
   ],
   "source": [
    "#BUSQUEDA SEMANTICA\n",
    "response = client.search(\n",
    "    index='pelis', query={\"semantic\": {\"field\": \"description_ia_2\", \n",
    "                                     \"query\": \"casino y mafia\"}}\n",
    ")\n",
    "\n",
    "print(response)"
   ]
  },
  {
   "cell_type": "code",
   "execution_count": null,
   "id": "b4a7ac4b",
   "metadata": {},
   "outputs": [],
   "source": []
  }
 ],
 "metadata": {
  "kernelspec": {
   "display_name": "Python 3 (ipykernel)",
   "language": "python",
   "name": "python3"
  },
  "language_info": {
   "codemirror_mode": {
    "name": "ipython",
    "version": 3
   },
   "file_extension": ".py",
   "mimetype": "text/x-python",
   "name": "python",
   "nbconvert_exporter": "python",
   "pygments_lexer": "ipython3",
   "version": "3.12.3"
  }
 },
 "nbformat": 4,
 "nbformat_minor": 5
}
