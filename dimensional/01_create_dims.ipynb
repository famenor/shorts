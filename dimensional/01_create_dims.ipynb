{
 "cells": [
  {
   "cell_type": "code",
   "execution_count": 20,
   "metadata": {},
   "outputs": [],
   "source": [
    "import pandas as pd\n",
    "import numpy as np\n",
    "import locale"
   ]
  },
  {
   "cell_type": "markdown",
   "metadata": {},
   "source": [
    "## Dimension de tiempo"
   ]
  },
  {
   "cell_type": "code",
   "execution_count": 5,
   "metadata": {},
   "outputs": [
    {
     "name": "stdout",
     "output_type": "stream",
     "text": [
      "(24, 3)\n"
     ]
    },
    {
     "data": {
      "text/html": [
       "<div>\n",
       "<style scoped>\n",
       "    .dataframe tbody tr th:only-of-type {\n",
       "        vertical-align: middle;\n",
       "    }\n",
       "\n",
       "    .dataframe tbody tr th {\n",
       "        vertical-align: top;\n",
       "    }\n",
       "\n",
       "    .dataframe thead th {\n",
       "        text-align: right;\n",
       "    }\n",
       "</style>\n",
       "<table border=\"1\" class=\"dataframe\">\n",
       "  <thead>\n",
       "    <tr style=\"text-align: right;\">\n",
       "      <th></th>\n",
       "      <th>id_hour</th>\n",
       "      <th>hour</th>\n",
       "      <th>hour_group</th>\n",
       "    </tr>\n",
       "  </thead>\n",
       "  <tbody>\n",
       "    <tr>\n",
       "      <th>0</th>\n",
       "      <td>1</td>\n",
       "      <td>0</td>\n",
       "      <td>Madrugada</td>\n",
       "    </tr>\n",
       "    <tr>\n",
       "      <th>1</th>\n",
       "      <td>2</td>\n",
       "      <td>1</td>\n",
       "      <td>Madrugada</td>\n",
       "    </tr>\n",
       "    <tr>\n",
       "      <th>2</th>\n",
       "      <td>3</td>\n",
       "      <td>2</td>\n",
       "      <td>Madrugada</td>\n",
       "    </tr>\n",
       "  </tbody>\n",
       "</table>\n",
       "</div>"
      ],
      "text/plain": [
       "   id_hour  hour hour_group\n",
       "0        1     0  Madrugada\n",
       "1        2     1  Madrugada\n",
       "2        3     2  Madrugada"
      ]
     },
     "metadata": {},
     "output_type": "display_data"
    }
   ],
   "source": [
    "dim_hour = pd.DataFrame({'id_hour': range(1, 25),\n",
    "                         'hour': range(0, 24)})\n",
    "\n",
    "dim_hour['hour_group'] = ['Madrugada'] * 6 + ['Mañana'] * 6 + ['Tarde'] * 6 + ['Noche'] * 6\n",
    "\n",
    "print(dim_hour.shape)\n",
    "display(dim_hour.head(3))"
   ]
  },
  {
   "cell_type": "code",
   "execution_count": 11,
   "metadata": {},
   "outputs": [],
   "source": [
    "dim_hour.to_csv('git/shorts/dimensional/data/dim_hour.csv', index=False)"
   ]
  },
  {
   "cell_type": "markdown",
   "metadata": {},
   "source": [
    "## Dimension de fechas"
   ]
  },
  {
   "cell_type": "code",
   "execution_count": 34,
   "metadata": {},
   "outputs": [
    {
     "name": "stdout",
     "output_type": "stream",
     "text": [
      "(365, 18)\n"
     ]
    },
    {
     "name": "stderr",
     "output_type": "stream",
     "text": [
      "/tmp/ipykernel_258537/226697226.py:43: FutureWarning: The behavior of 'isin' with dtype=datetime64[ns] and castable values (e.g. strings) is deprecated. In a future version, these will not be considered matching by isin. Explicitly cast to the appropriate dtype before calling isin instead.\n",
      "  dim_date.loc[dim_date['date'].isin(['2025-01-01', '2025-02-05', '2025-03-21', '2025-05-01',\n"
     ]
    },
    {
     "data": {
      "text/html": [
       "<div>\n",
       "<style scoped>\n",
       "    .dataframe tbody tr th:only-of-type {\n",
       "        vertical-align: middle;\n",
       "    }\n",
       "\n",
       "    .dataframe tbody tr th {\n",
       "        vertical-align: top;\n",
       "    }\n",
       "\n",
       "    .dataframe thead th {\n",
       "        text-align: right;\n",
       "    }\n",
       "</style>\n",
       "<table border=\"1\" class=\"dataframe\">\n",
       "  <thead>\n",
       "    <tr style=\"text-align: right;\">\n",
       "      <th></th>\n",
       "      <th>id_date</th>\n",
       "      <th>date</th>\n",
       "      <th>day</th>\n",
       "      <th>month</th>\n",
       "      <th>year</th>\n",
       "      <th>day_of_week</th>\n",
       "      <th>day_name</th>\n",
       "      <th>month_name</th>\n",
       "      <th>quarter</th>\n",
       "      <th>weekday_indicator</th>\n",
       "      <th>week_of_year</th>\n",
       "      <th>is_end_of_month</th>\n",
       "      <th>is_end_of_quarter</th>\n",
       "      <th>is_end_of_year</th>\n",
       "      <th>quarter_name</th>\n",
       "      <th>year_month</th>\n",
       "      <th>quarter_year</th>\n",
       "      <th>holiday_indicator</th>\n",
       "    </tr>\n",
       "  </thead>\n",
       "  <tbody>\n",
       "    <tr>\n",
       "      <th>0</th>\n",
       "      <td>20250101</td>\n",
       "      <td>2025-01-01</td>\n",
       "      <td>1</td>\n",
       "      <td>1</td>\n",
       "      <td>2025</td>\n",
       "      <td>3</td>\n",
       "      <td>Miércoles</td>\n",
       "      <td>Enero</td>\n",
       "      <td>1</td>\n",
       "      <td>Entre Semana</td>\n",
       "      <td>1</td>\n",
       "      <td>False</td>\n",
       "      <td>False</td>\n",
       "      <td>False</td>\n",
       "      <td>T1</td>\n",
       "      <td>2025-01</td>\n",
       "      <td>T1 2025</td>\n",
       "      <td>Festivo</td>\n",
       "    </tr>\n",
       "    <tr>\n",
       "      <th>1</th>\n",
       "      <td>20250102</td>\n",
       "      <td>2025-01-02</td>\n",
       "      <td>2</td>\n",
       "      <td>1</td>\n",
       "      <td>2025</td>\n",
       "      <td>4</td>\n",
       "      <td>Jueves</td>\n",
       "      <td>Enero</td>\n",
       "      <td>1</td>\n",
       "      <td>Entre Semana</td>\n",
       "      <td>1</td>\n",
       "      <td>False</td>\n",
       "      <td>False</td>\n",
       "      <td>False</td>\n",
       "      <td>T1</td>\n",
       "      <td>2025-01</td>\n",
       "      <td>T1 2025</td>\n",
       "      <td>No Festivo</td>\n",
       "    </tr>\n",
       "    <tr>\n",
       "      <th>2</th>\n",
       "      <td>20250103</td>\n",
       "      <td>2025-01-03</td>\n",
       "      <td>3</td>\n",
       "      <td>1</td>\n",
       "      <td>2025</td>\n",
       "      <td>5</td>\n",
       "      <td>Viernes</td>\n",
       "      <td>Enero</td>\n",
       "      <td>1</td>\n",
       "      <td>Entre Semana</td>\n",
       "      <td>1</td>\n",
       "      <td>False</td>\n",
       "      <td>False</td>\n",
       "      <td>False</td>\n",
       "      <td>T1</td>\n",
       "      <td>2025-01</td>\n",
       "      <td>T1 2025</td>\n",
       "      <td>No Festivo</td>\n",
       "    </tr>\n",
       "  </tbody>\n",
       "</table>\n",
       "</div>"
      ],
      "text/plain": [
       "    id_date       date  day  month  year  day_of_week   day_name month_name  \\\n",
       "0  20250101 2025-01-01    1      1  2025            3  Miércoles      Enero   \n",
       "1  20250102 2025-01-02    2      1  2025            4     Jueves      Enero   \n",
       "2  20250103 2025-01-03    3      1  2025            5    Viernes      Enero   \n",
       "\n",
       "   quarter weekday_indicator  week_of_year  is_end_of_month  \\\n",
       "0        1      Entre Semana             1            False   \n",
       "1        1      Entre Semana             1            False   \n",
       "2        1      Entre Semana             1            False   \n",
       "\n",
       "   is_end_of_quarter  is_end_of_year quarter_name year_month quarter_year  \\\n",
       "0              False           False           T1    2025-01      T1 2025   \n",
       "1              False           False           T1    2025-01      T1 2025   \n",
       "2              False           False           T1    2025-01      T1 2025   \n",
       "\n",
       "  holiday_indicator  \n",
       "0           Festivo  \n",
       "1        No Festivo  \n",
       "2        No Festivo  "
      ]
     },
     "metadata": {},
     "output_type": "display_data"
    }
   ],
   "source": [
    "dim_date = pd.DataFrame({'id_date': pd.date_range(start='2025-01-01', end='2025-12-31'),\n",
    "                         'date': pd.date_range(start='2025-01-01', end='2025-12-31')})\n",
    "\n",
    "dim_date['day'] = dim_date['date'].dt.day\n",
    "dim_date['month'] = dim_date['date'].dt.month\n",
    "dim_date['year'] = dim_date['date'].dt.year\n",
    "dim_date['day_of_week'] = dim_date['date'].dt.dayofweek + 1\n",
    "dim_date['day_name'] = dim_date['date'].dt.day_name()\n",
    "dim_date['month_name'] = dim_date['date'].dt.month_name()\n",
    "dim_date['quarter'] = dim_date['date'].dt.quarter\n",
    "dim_date['weekday_indicator'] = np.where(dim_date['day_of_week'].isin([6, 7]), 'Fin de Semana', 'Entre Semana')\n",
    "dim_date['week_of_year'] = dim_date['date'].dt.isocalendar().week\n",
    "dim_date['is_end_of_month'] = np.where(dim_date['date'] == dim_date['date'] + pd.offsets.MonthEnd(0), True, False)\n",
    "dim_date['is_end_of_quarter'] = np.where(dim_date['date'] == dim_date['date'] + pd.offsets.QuarterEnd(0), True, False)\n",
    "dim_date['is_end_of_year'] = np.where(dim_date['date'] == dim_date['date'] + pd.offsets.YearEnd(0), True, False)\n",
    "\n",
    "dim_date['id_date'] = dim_date['id_date'].dt.strftime('%Y%m%d').astype(int)\n",
    "dim_date.loc[dim_date['day_name'] == 'Monday', 'day_name'] = 'Lunes'\n",
    "dim_date.loc[dim_date['day_name'] == 'Tuesday', 'day_name'] = 'Martes'\n",
    "dim_date.loc[dim_date['day_name'] == 'Wednesday', 'day_name'] = 'Miércoles'\n",
    "dim_date.loc[dim_date['day_name'] == 'Thursday', 'day_name'] = 'Jueves'\n",
    "dim_date.loc[dim_date['day_name'] == 'Friday', 'day_name'] = 'Viernes'\n",
    "dim_date.loc[dim_date['day_name'] == 'Saturday', 'day_name'] = 'Sábado'\n",
    "dim_date.loc[dim_date['day_name'] == 'Sunday', 'day_name'] = 'Domingo'\n",
    "dim_date.loc[dim_date['month_name'] == 'January', 'month_name'] = 'Enero'\n",
    "dim_date.loc[dim_date['month_name'] == 'February', 'month_name'] = 'Febrero'\n",
    "dim_date.loc[dim_date['month_name'] == 'March', 'month_name'] = 'Marzo'\n",
    "dim_date.loc[dim_date['month_name'] == 'April', 'month_name'] = 'Abril'\n",
    "dim_date.loc[dim_date['month_name'] == 'May', 'month_name'] = 'Mayo'\n",
    "dim_date.loc[dim_date['month_name'] == 'June', 'month_name'] = 'Junio'\n",
    "dim_date.loc[dim_date['month_name'] == 'July', 'month_name'] = 'Julio'\n",
    "dim_date.loc[dim_date['month_name'] == 'August', 'month_name'] = 'Agosto'\n",
    "dim_date.loc[dim_date['month_name'] == 'September', 'month_name'] = 'Septiembre'\n",
    "dim_date.loc[dim_date['month_name'] == 'October', 'month_name'] = 'Octubre'\n",
    "dim_date.loc[dim_date['month_name'] == 'November', 'month_name'] = 'Noviembre'\n",
    "dim_date.loc[dim_date['month_name'] == 'December', 'month_name'] = 'Diciembre'\n",
    "\n",
    "dim_date['quarter_name'] = 'T' + dim_date['quarter'].astype(str)\n",
    "dim_date['year_month'] = dim_date['year'].astype(str) + '-' + dim_date['month'].astype(str).str.zfill(2)\n",
    "dim_date['quarter_year'] = dim_date['quarter_name'] + ' ' + dim_date['year'].astype(str)\n",
    "\n",
    "dim_date['holiday_indicator'] = 'No Festivo'\n",
    "dim_date.loc[dim_date['date'].isin(['2025-01-01', '2025-02-05', '2025-03-21', '2025-05-01',\n",
    "                                    '2025-09-16', '2025-11-20', '2025-12-25']), 'holiday_indicator'] = 'Festivo'\n",
    "\n",
    "\n",
    "print(dim_date.shape)\n",
    "display(dim_date.head(3))"
   ]
  },
  {
   "cell_type": "code",
   "execution_count": 35,
   "metadata": {},
   "outputs": [],
   "source": [
    "dim_date.to_csv('git/shorts/dimensional/data/dim_date.csv', index=False)"
   ]
  },
  {
   "cell_type": "code",
   "execution_count": null,
   "metadata": {},
   "outputs": [],
   "source": []
  }
 ],
 "metadata": {
  "kernelspec": {
   "display_name": "Python 3 (ipykernel)",
   "language": "python",
   "name": "python3"
  },
  "language_info": {
   "codemirror_mode": {
    "name": "ipython",
    "version": 3
   },
   "file_extension": ".py",
   "mimetype": "text/x-python",
   "name": "python",
   "nbconvert_exporter": "python",
   "pygments_lexer": "ipython3",
   "version": "3.12.3"
  }
 },
 "nbformat": 4,
 "nbformat_minor": 2
}
