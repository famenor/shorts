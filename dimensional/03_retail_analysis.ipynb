{
 "cells": [
  {
   "cell_type": "code",
   "execution_count": 1,
   "metadata": {},
   "outputs": [],
   "source": [
    "import pandas as pd\n",
    "import numpy as np"
   ]
  },
  {
   "cell_type": "markdown",
   "metadata": {},
   "source": [
    "## Leer datos"
   ]
  },
  {
   "cell_type": "code",
   "execution_count": 4,
   "metadata": {},
   "outputs": [
    {
     "name": "stdout",
     "output_type": "stream",
     "text": [
      "(24, 3)\n"
     ]
    },
    {
     "data": {
      "text/html": [
       "<div>\n",
       "<style scoped>\n",
       "    .dataframe tbody tr th:only-of-type {\n",
       "        vertical-align: middle;\n",
       "    }\n",
       "\n",
       "    .dataframe tbody tr th {\n",
       "        vertical-align: top;\n",
       "    }\n",
       "\n",
       "    .dataframe thead th {\n",
       "        text-align: right;\n",
       "    }\n",
       "</style>\n",
       "<table border=\"1\" class=\"dataframe\">\n",
       "  <thead>\n",
       "    <tr style=\"text-align: right;\">\n",
       "      <th></th>\n",
       "      <th>id_hour</th>\n",
       "      <th>hour</th>\n",
       "      <th>hour_group</th>\n",
       "    </tr>\n",
       "  </thead>\n",
       "  <tbody>\n",
       "    <tr>\n",
       "      <th>0</th>\n",
       "      <td>1</td>\n",
       "      <td>0</td>\n",
       "      <td>Madrugada</td>\n",
       "    </tr>\n",
       "    <tr>\n",
       "      <th>1</th>\n",
       "      <td>2</td>\n",
       "      <td>1</td>\n",
       "      <td>Madrugada</td>\n",
       "    </tr>\n",
       "    <tr>\n",
       "      <th>2</th>\n",
       "      <td>3</td>\n",
       "      <td>2</td>\n",
       "      <td>Madrugada</td>\n",
       "    </tr>\n",
       "  </tbody>\n",
       "</table>\n",
       "</div>"
      ],
      "text/plain": [
       "   id_hour  hour hour_group\n",
       "0        1     0  Madrugada\n",
       "1        2     1  Madrugada\n",
       "2        3     2  Madrugada"
      ]
     },
     "metadata": {},
     "output_type": "display_data"
    }
   ],
   "source": [
    "dim_hour = pd.read_csv('git/shorts/dimensional/data/dim_hour.csv')\n",
    "print(dim_hour.shape)\n",
    "display(dim_hour.head(3))"
   ]
  },
  {
   "cell_type": "code",
   "execution_count": 14,
   "metadata": {},
   "outputs": [
    {
     "name": "stdout",
     "output_type": "stream",
     "text": [
      "(367, 18)\n"
     ]
    },
    {
     "data": {
      "text/html": [
       "<div>\n",
       "<style scoped>\n",
       "    .dataframe tbody tr th:only-of-type {\n",
       "        vertical-align: middle;\n",
       "    }\n",
       "\n",
       "    .dataframe tbody tr th {\n",
       "        vertical-align: top;\n",
       "    }\n",
       "\n",
       "    .dataframe thead th {\n",
       "        text-align: right;\n",
       "    }\n",
       "</style>\n",
       "<table border=\"1\" class=\"dataframe\">\n",
       "  <thead>\n",
       "    <tr style=\"text-align: right;\">\n",
       "      <th></th>\n",
       "      <th>id_date</th>\n",
       "      <th>date</th>\n",
       "      <th>day</th>\n",
       "      <th>month</th>\n",
       "      <th>year</th>\n",
       "      <th>day_of_week</th>\n",
       "      <th>day_name</th>\n",
       "      <th>month_name</th>\n",
       "      <th>quarter</th>\n",
       "      <th>weekday_indicator</th>\n",
       "      <th>week_of_year</th>\n",
       "      <th>is_end_of_month</th>\n",
       "      <th>is_end_of_quarter</th>\n",
       "      <th>is_end_of_year</th>\n",
       "      <th>quarter_name</th>\n",
       "      <th>year_month</th>\n",
       "      <th>quarter_year</th>\n",
       "      <th>holiday_indicator</th>\n",
       "    </tr>\n",
       "  </thead>\n",
       "  <tbody>\n",
       "    <tr>\n",
       "      <th>0</th>\n",
       "      <td>19000101</td>\n",
       "      <td>1900-01-01</td>\n",
       "      <td>1</td>\n",
       "      <td>1</td>\n",
       "      <td>1900</td>\n",
       "      <td>1</td>\n",
       "      <td>Lunes</td>\n",
       "      <td>Enero</td>\n",
       "      <td>1</td>\n",
       "      <td>Entre Semana</td>\n",
       "      <td>1</td>\n",
       "      <td>False</td>\n",
       "      <td>False</td>\n",
       "      <td>False</td>\n",
       "      <td>T1</td>\n",
       "      <td>1900-01</td>\n",
       "      <td>T1 1900</td>\n",
       "      <td>No Festivo</td>\n",
       "    </tr>\n",
       "    <tr>\n",
       "      <th>1</th>\n",
       "      <td>20250101</td>\n",
       "      <td>2025-01-01</td>\n",
       "      <td>1</td>\n",
       "      <td>1</td>\n",
       "      <td>2025</td>\n",
       "      <td>3</td>\n",
       "      <td>Miércoles</td>\n",
       "      <td>Enero</td>\n",
       "      <td>1</td>\n",
       "      <td>Entre Semana</td>\n",
       "      <td>1</td>\n",
       "      <td>False</td>\n",
       "      <td>False</td>\n",
       "      <td>False</td>\n",
       "      <td>T1</td>\n",
       "      <td>2025-01</td>\n",
       "      <td>T1 2025</td>\n",
       "      <td>Festivo</td>\n",
       "    </tr>\n",
       "    <tr>\n",
       "      <th>2</th>\n",
       "      <td>20250102</td>\n",
       "      <td>2025-01-02</td>\n",
       "      <td>2</td>\n",
       "      <td>1</td>\n",
       "      <td>2025</td>\n",
       "      <td>4</td>\n",
       "      <td>Jueves</td>\n",
       "      <td>Enero</td>\n",
       "      <td>1</td>\n",
       "      <td>Entre Semana</td>\n",
       "      <td>1</td>\n",
       "      <td>False</td>\n",
       "      <td>False</td>\n",
       "      <td>False</td>\n",
       "      <td>T1</td>\n",
       "      <td>2025-01</td>\n",
       "      <td>T1 2025</td>\n",
       "      <td>No Festivo</td>\n",
       "    </tr>\n",
       "  </tbody>\n",
       "</table>\n",
       "</div>"
      ],
      "text/plain": [
       "    id_date        date  day  month  year  day_of_week   day_name month_name  \\\n",
       "0  19000101  1900-01-01    1      1  1900            1      Lunes      Enero   \n",
       "1  20250101  2025-01-01    1      1  2025            3  Miércoles      Enero   \n",
       "2  20250102  2025-01-02    2      1  2025            4     Jueves      Enero   \n",
       "\n",
       "   quarter weekday_indicator  week_of_year  is_end_of_month  \\\n",
       "0        1      Entre Semana             1            False   \n",
       "1        1      Entre Semana             1            False   \n",
       "2        1      Entre Semana             1            False   \n",
       "\n",
       "   is_end_of_quarter  is_end_of_year quarter_name year_month quarter_year  \\\n",
       "0              False           False           T1    1900-01      T1 1900   \n",
       "1              False           False           T1    2025-01      T1 2025   \n",
       "2              False           False           T1    2025-01      T1 2025   \n",
       "\n",
       "  holiday_indicator  \n",
       "0        No Festivo  \n",
       "1           Festivo  \n",
       "2        No Festivo  "
      ]
     },
     "metadata": {},
     "output_type": "display_data"
    }
   ],
   "source": [
    "dim_date_open_store = pd.read_csv('git/shorts/dimensional/data/dim_date.csv')\n",
    "print(dim_date_open_store.shape)\n",
    "display(dim_date_open_store.head(3))"
   ]
  },
  {
   "cell_type": "code",
   "execution_count": 7,
   "metadata": {},
   "outputs": [
    {
     "name": "stdout",
     "output_type": "stream",
     "text": [
      "(100, 9)\n"
     ]
    },
    {
     "data": {
      "text/html": [
       "<div>\n",
       "<style scoped>\n",
       "    .dataframe tbody tr th:only-of-type {\n",
       "        vertical-align: middle;\n",
       "    }\n",
       "\n",
       "    .dataframe tbody tr th {\n",
       "        vertical-align: top;\n",
       "    }\n",
       "\n",
       "    .dataframe thead th {\n",
       "        text-align: right;\n",
       "    }\n",
       "</style>\n",
       "<table border=\"1\" class=\"dataframe\">\n",
       "  <thead>\n",
       "    <tr style=\"text-align: right;\">\n",
       "      <th></th>\n",
       "      <th>id_product</th>\n",
       "      <th>title</th>\n",
       "      <th>author</th>\n",
       "      <th>genre</th>\n",
       "      <th>subgenre</th>\n",
       "      <th>publication_year</th>\n",
       "      <th>publisher</th>\n",
       "      <th>cover_type</th>\n",
       "      <th>country</th>\n",
       "    </tr>\n",
       "  </thead>\n",
       "  <tbody>\n",
       "    <tr>\n",
       "      <th>0</th>\n",
       "      <td>1</td>\n",
       "      <td>Libro 1</td>\n",
       "      <td>Autor 21</td>\n",
       "      <td>Misterio</td>\n",
       "      <td>Subgénero B</td>\n",
       "      <td>1994</td>\n",
       "      <td>Editorial 5</td>\n",
       "      <td>Tapa Dura</td>\n",
       "      <td>Argentina</td>\n",
       "    </tr>\n",
       "    <tr>\n",
       "      <th>1</th>\n",
       "      <td>2</td>\n",
       "      <td>Libro 2</td>\n",
       "      <td>Autor 4</td>\n",
       "      <td>Misterio</td>\n",
       "      <td>Subgénero C</td>\n",
       "      <td>1990</td>\n",
       "      <td>Editorial 4</td>\n",
       "      <td>Tapa Blanda</td>\n",
       "      <td>España</td>\n",
       "    </tr>\n",
       "    <tr>\n",
       "      <th>2</th>\n",
       "      <td>3</td>\n",
       "      <td>Libro 3</td>\n",
       "      <td>Autor 1</td>\n",
       "      <td>Misterio</td>\n",
       "      <td>Subgénero B</td>\n",
       "      <td>2019</td>\n",
       "      <td>Editorial 5</td>\n",
       "      <td>Tapa Blanda</td>\n",
       "      <td>Colombia</td>\n",
       "    </tr>\n",
       "  </tbody>\n",
       "</table>\n",
       "</div>"
      ],
      "text/plain": [
       "   id_product    title    author     genre     subgenre  publication_year  \\\n",
       "0           1  Libro 1  Autor 21  Misterio  Subgénero B              1994   \n",
       "1           2  Libro 2   Autor 4  Misterio  Subgénero C              1990   \n",
       "2           3  Libro 3   Autor 1  Misterio  Subgénero B              2019   \n",
       "\n",
       "     publisher   cover_type    country  \n",
       "0  Editorial 5    Tapa Dura  Argentina  \n",
       "1  Editorial 4  Tapa Blanda     España  \n",
       "2  Editorial 5  Tapa Blanda   Colombia  "
      ]
     },
     "metadata": {},
     "output_type": "display_data"
    }
   ],
   "source": [
    "dim_product = pd.read_csv('git/shorts/dimensional/data/dim_product.csv')\n",
    "print(dim_product.shape)\n",
    "display(dim_product.head(3))"
   ]
  },
  {
   "cell_type": "code",
   "execution_count": 8,
   "metadata": {},
   "outputs": [
    {
     "name": "stdout",
     "output_type": "stream",
     "text": [
      "(20, 5)\n"
     ]
    },
    {
     "data": {
      "text/html": [
       "<div>\n",
       "<style scoped>\n",
       "    .dataframe tbody tr th:only-of-type {\n",
       "        vertical-align: middle;\n",
       "    }\n",
       "\n",
       "    .dataframe tbody tr th {\n",
       "        vertical-align: top;\n",
       "    }\n",
       "\n",
       "    .dataframe thead th {\n",
       "        text-align: right;\n",
       "    }\n",
       "</style>\n",
       "<table border=\"1\" class=\"dataframe\">\n",
       "  <thead>\n",
       "    <tr style=\"text-align: right;\">\n",
       "      <th></th>\n",
       "      <th>id_store</th>\n",
       "      <th>store_name</th>\n",
       "      <th>state</th>\n",
       "      <th>open_date</th>\n",
       "      <th>store_type</th>\n",
       "    </tr>\n",
       "  </thead>\n",
       "  <tbody>\n",
       "    <tr>\n",
       "      <th>0</th>\n",
       "      <td>1</td>\n",
       "      <td>Tienda 1</td>\n",
       "      <td>Jalisco</td>\n",
       "      <td>20250201</td>\n",
       "      <td>Centro Comercial</td>\n",
       "    </tr>\n",
       "    <tr>\n",
       "      <th>1</th>\n",
       "      <td>2</td>\n",
       "      <td>Tienda 2</td>\n",
       "      <td>CDMX</td>\n",
       "      <td>20250101</td>\n",
       "      <td>Standalone</td>\n",
       "    </tr>\n",
       "    <tr>\n",
       "      <th>2</th>\n",
       "      <td>3</td>\n",
       "      <td>Tienda 3</td>\n",
       "      <td>CDMX</td>\n",
       "      <td>20250115</td>\n",
       "      <td>Standalone</td>\n",
       "    </tr>\n",
       "  </tbody>\n",
       "</table>\n",
       "</div>"
      ],
      "text/plain": [
       "   id_store store_name    state  open_date        store_type\n",
       "0         1   Tienda 1  Jalisco   20250201  Centro Comercial\n",
       "1         2   Tienda 2     CDMX   20250101        Standalone\n",
       "2         3   Tienda 3     CDMX   20250115        Standalone"
      ]
     },
     "metadata": {},
     "output_type": "display_data"
    }
   ],
   "source": [
    "dim_store = pd.read_csv('git/shorts/dimensional/data/dim_store.csv')\n",
    "print(dim_store.shape)\n",
    "display(dim_store.head(3))"
   ]
  },
  {
   "cell_type": "code",
   "execution_count": 19,
   "metadata": {},
   "outputs": [
    {
     "name": "stdout",
     "output_type": "stream",
     "text": [
      "(6, 7)\n",
      "   id_promotion promotion_code                               promotion_name  \\\n",
      "0             1          00000                                Sin Promoción   \n",
      "1             2         DESC01                             Promoción al 2x1   \n",
      "2             3         DESC02                             Promoción al 2x1   \n",
      "3             4         DESC03                             Promoción al 2x1   \n",
      "4             5          FIJ01  Cupon de 50 pesos en compra superior a $500   \n",
      "5             6          FIJ02  Cupon de 50 pesos en compra superior a $500   \n",
      "\n",
      "   start_date  end_date price_reduction_type promotion_media_type  \n",
      "0    19000101  21000101        Sin reducción          Sin campaña  \n",
      "1    20250501  20250515           Porcentaje             Facebook  \n",
      "2    20250601  20250615           Porcentaje                Radio  \n",
      "3    20250701  20250715           Porcentaje          Sin Campaña  \n",
      "4    20250801  20250815                 Fijo             Facebook  \n",
      "5    20250901  20250915                 Fijo                Radio  \n"
     ]
    }
   ],
   "source": [
    "dim_promotion = pd.read_csv('git/shorts/dimensional/data/dim_promotion.csv')\n",
    "print(dim_promotion.shape)\n",
    "print(dim_promotion.head(6))"
   ]
  },
  {
   "cell_type": "code",
   "execution_count": null,
   "metadata": {},
   "outputs": [],
   "source": []
  }
 ],
 "metadata": {
  "kernelspec": {
   "display_name": "Python 3 (ipykernel)",
   "language": "python",
   "name": "python3"
  },
  "language_info": {
   "codemirror_mode": {
    "name": "ipython",
    "version": 3
   },
   "file_extension": ".py",
   "mimetype": "text/x-python",
   "name": "python",
   "nbconvert_exporter": "python",
   "pygments_lexer": "ipython3",
   "version": "3.12.3"
  }
 },
 "nbformat": 4,
 "nbformat_minor": 2
}
