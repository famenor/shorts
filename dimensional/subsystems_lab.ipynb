{
 "cells": [
  {
   "cell_type": "code",
   "execution_count": 13,
   "metadata": {},
   "outputs": [],
   "source": [
    "import sys\n",
    "sys.path.append('/home/armando/git/shorts/dimensional')\n",
    "\n",
    "import pandas as pd\n",
    "from lib.data_profiler.data_profiler import DataProfilerFacade"
   ]
  },
  {
   "cell_type": "code",
   "execution_count": 14,
   "metadata": {},
   "outputs": [
    {
     "name": "stdout",
     "output_type": "stream",
     "text": [
      "\n",
      "Perfilando el campo: user\n",
      "Número de valores únicos: 4\n",
      "Valores únicos: ['Usuario 1' 'Usuario 2' 'Usuario 3' 'Usuario 4']\n",
      "\n",
      "Perfilando el campo: weight\n",
      "Media: 76.5\n",
      "Desviación estándar: 9.64857502432354\n",
      "Mínimo: 65.0\n",
      "Máximo: 90.3\n",
      "\n",
      "Perfilando el campo: sex\n",
      "Número de valores únicos: 2\n",
      "Valores únicos: ['M' 'F']\n"
     ]
    }
   ],
   "source": [
    "data = pd.DataFrame({\n",
    "    'user': ['Usuario 1', 'Usuario 2', 'Usuario 3', 'Usuario 4'],\n",
    "    'age': [25, 30, 22, 35],\n",
    "    'weight': [70.5, 80.2, 65.0, 90.3],\n",
    "    'sex': ['M', 'F', 'F', 'M']\n",
    "})\n",
    "\n",
    "profiler = DataProfilerFacade(data)\n",
    "profiler.profile()"
   ]
  },
  {
   "cell_type": "code",
   "execution_count": null,
   "metadata": {},
   "outputs": [],
   "source": []
  }
 ],
 "metadata": {
  "kernelspec": {
   "display_name": "Python 3 (ipykernel)",
   "language": "python",
   "name": "python3"
  }
 },
 "nbformat": 4,
 "nbformat_minor": 2
}
