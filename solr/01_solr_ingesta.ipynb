{
 "cells": [
  {
   "cell_type": "code",
   "execution_count": 2,
   "id": "98423d9a",
   "metadata": {},
   "outputs": [],
   "source": [
    "import requests"
   ]
  },
  {
   "cell_type": "code",
   "execution_count": 26,
   "id": "85199d5a",
   "metadata": {},
   "outputs": [
    {
     "name": "stdout",
     "output_type": "stream",
     "text": [
      "200\n",
      "{\n",
      "  \"responseHeader\":{\n",
      "    \"status\":0,\n",
      "    \"QTime\":219\n",
      "  },\n",
      "  \"core\":\"libros\"\n",
      "}\n"
     ]
    }
   ],
   "source": [
    "#CREATE CORE\n",
    "url = \"http://localhost:8983/solr/admin/cores\" \n",
    "config_set = '/opt/solr/server/solr/configsets/_default'\n",
    "\n",
    "params = {\"action\": \"CREATE\", \"name\": \"libros\", \"wt\": \"json\", \n",
    "          \"configSet\": config_set}\n",
    "\n",
    "#params = {\"action\": \"CREATE\", \"name\": \"libros\", \"wt\": \"json\"}\n",
    "\n",
    "response = requests.get(url, params=params)\n",
    "print(response.status_code)\n",
    "print(response.text)"
   ]
  },
  {
   "cell_type": "code",
   "execution_count": 27,
   "id": "90b135b5",
   "metadata": {},
   "outputs": [
    {
     "name": "stdout",
     "output_type": "stream",
     "text": [
      "Status Code: 400\n",
      "Response Body: {'responseHeader': {'status': 400, 'QTime': 92}, 'error': {'metadata': ['error-class', 'org.apache.solr.api.ApiBag$ExceptionWithErrObject', 'root-error-class', 'org.apache.solr.api.ApiBag$ExceptionWithErrObject'], 'details': [{'errorMessages': 'Unable to persist managed schema. Error persisting managed schema /opt/solr/server/solr/configsets/_default/conf/managed-schema.xml'}], 'msg': 'error processing commands, errors: [{errorMessages=Unable to persist managed schema. Error persisting managed schema /opt/solr/server/solr/configsets/_default/conf/managed-schema.xml}], ', 'code': 400}}\n"
     ]
    }
   ],
   "source": [
    "#CREATE SCHEMA\n",
    "url = 'http://localhost:8983/solr/libros/schema'\n",
    "\n",
    "headers = {\"Content-Type\": \"application/json\"}\n",
    "data = {\"add-field\": [{\"name\": \"name\", \"type\": \"text_general\", \"multiValued\": False},\n",
    "                      {'name': 'categoria', 'type': 'string', 'multiValued': True},\n",
    "                      {'name': 'precio', 'type': 'pfloat'}]}\n",
    "\n",
    "response = requests.post(url, headers=headers, json=data)\n",
    "\n",
    "print(f\"Status Code: {response.status_code}\")\n",
    "print(f\"Response Body: {response.json()}\")"
   ]
  },
  {
   "cell_type": "code",
   "execution_count": null,
   "id": "de77559e",
   "metadata": {},
   "outputs": [],
   "source": []
  }
 ],
 "metadata": {
  "kernelspec": {
   "display_name": "Python 3 (ipykernel)",
   "language": "python",
   "name": "python3"
  },
  "language_info": {
   "codemirror_mode": {
    "name": "ipython",
    "version": 3
   },
   "file_extension": ".py",
   "mimetype": "text/x-python",
   "name": "python",
   "nbconvert_exporter": "python",
   "pygments_lexer": "ipython3",
   "version": "3.12.3"
  }
 },
 "nbformat": 4,
 "nbformat_minor": 5
}
