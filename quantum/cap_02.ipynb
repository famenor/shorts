{
 "cells": [
  {
   "cell_type": "code",
   "execution_count": 1,
   "id": "726d4ca3-4d07-498e-88b3-6905d30e36c3",
   "metadata": {},
   "outputs": [],
   "source": [
    "import pandas as pd\n",
    "import numpy as np\n",
    "import math\n",
    "\n",
    "import matplotlib.pyplot as plt"
   ]
  },
  {
   "cell_type": "code",
   "execution_count": 2,
   "id": "37a18ebd-ec26-4ce2-bb01-b8af1042ff96",
   "metadata": {},
   "outputs": [],
   "source": [
    "#CONVERT CARTESIAN TO POLAR\n",
    "def cart2pol(x, y):\n",
    "    rho = np.sqrt(x**2 + y**2)\n",
    "    phi = np.arctan2(y, x)\n",
    "    return(rho, phi)\n",
    "\n",
    "def pol2cart(rho, phi):\n",
    "    x = rho * np.cos(phi)\n",
    "    y = rho * np.sin(phi)\n",
    "    return(x, y)"
   ]
  },
  {
   "cell_type": "markdown",
   "id": "4a9bcb18-1184-4fe1-b881-c9f59f5379ec",
   "metadata": {},
   "source": [
    "# Operaciones Basicas con Vectores"
   ]
  },
  {
   "cell_type": "code",
   "execution_count": 3,
   "id": "8412c361-d445-422a-9f48-2e4c4b233ee7",
   "metadata": {},
   "outputs": [
    {
     "name": "stdout",
     "output_type": "stream",
     "text": [
      "Suma de vectores:  [14.+5.j  8.+0.j  3.+4.j  4.+3.j]\n",
      "Suma de vectores:  [14.+5.j  8.+0.j  3.+4.j  4.+3.j]\n",
      "Suma con vector cero:  [ 0.+6.j  8.+0.j -1.+2.j  4.+0.j] [ 0.+6.j  8.+0.j -1.+2.j  4.+0.j]\n",
      "\n",
      "Conmutatividad de la adición:\n",
      " [[ 5.+6.j  0.-4.j]\n",
      " [ 8.+1.j -8.+0.j]] \n",
      " [[ 5.+6.j  0.-4.j]\n",
      " [ 8.+1.j -8.+0.j]] \n",
      "\n",
      "Asociatividad de la adición:\n",
      " [[  6. +6.j  -3. -6.j]\n",
      " [  8.+11.j -12. -2.j]] \n",
      " [[  6. +6.j  -3. -6.j]\n",
      " [  8.+11.j -12. -2.j]] \n",
      "\n",
      "Identidad aditiva:\n",
      " [[ 5.+4.j  3.-2.j]\n",
      " [ 0.+1.j -4.+2.j]] \n",
      " [[ 5.+4.j  3.-2.j]\n",
      " [ 0.+1.j -4.+2.j]] \n",
      "\n",
      "Inverso aditivo:\n",
      " [[0.+0.j 0.+0.j]\n",
      " [0.+0.j 0.+0.j]] \n",
      "\n",
      "Identidad multiplicativa:\n",
      " [[ 5.+4.j  3.-2.j]\n",
      " [ 0.+1.j -4.+2.j]] \n",
      " [[ 5.+4.j  3.-2.j]\n",
      " [ 0.+1.j -4.+2.j]] \n",
      "\n",
      "Multiplicación escalar:\n",
      " [[ 268.+116.j  108.-124.j]\n",
      " [  12. +44.j -152.+136.j]] \n",
      " [[ 268.+116.j  108.-124.j]\n",
      " [  12. +44.j -152.+136.j]] \n",
      "\n",
      "Multiplicación escalar se distribuye sobre adicion:\n",
      " [[ 32.+14.j  -8.-16.j]\n",
      " [ 34.-12.j -32.+16.j]] \n",
      " [[ 32.+14.j  -8.-16.j]\n",
      " [ 34.-12.j -32.+16.j]] \n",
      "\n",
      "Multiplicación escalar se distribuye sobre adicion compleja:\n",
      " [[ 70.+56.j  42.-28.j]\n",
      " [  0.+14.j -56.+28.j]] \n",
      " [[ 70.+56.j  42.-28.j]\n",
      " [  0.+14.j -56.+28.j]] \n",
      "\n"
     ]
    }
   ],
   "source": [
    "V = np.array([6j, 8, -1+2j, 4])\n",
    "W = np.array([14-1J, 0, 4+2j, 3j])\n",
    "\n",
    "V_0 = np.array([0, 0, 0, 0])\n",
    "\n",
    "#OPERACIONES BASICAS\n",
    "print('Suma de vectores: ', V + W)\n",
    "print('Suma de vectores: ', W + V)\n",
    "print('Suma con vector cero: ', V, V + V_0)\n",
    "print('')\n",
    "\n",
    "#COMPROBAR ESPACIO VECTORIAL COMPLEJO\n",
    "V = np.array([[5 + 4j, 3 - 2j], [1j, -4 + 2j]])\n",
    "W = np.array([[0 + 2j, -3 - 2j], [8, -4 - 2j]])\n",
    "Y = np.array([[1, -3 - 2j], [10j, -4 - 2j]])\n",
    "Z_0 = np.array([[0, 0], [0, 0]])\n",
    "c1 = 4 - 2j\n",
    "c2 = 10 + 2j\n",
    "\n",
    "print('Conmutatividad de la adición:\\n', V + W, '\\n', W + V, '\\n')\n",
    "print('Asociatividad de la adición:\\n', (V + W) + Y, '\\n', V + (W + Y), '\\n')\n",
    "print('Identidad aditiva:\\n', V + Z_0, '\\n', V, '\\n')\n",
    "print('Inverso aditivo:\\n', V + -(V), '\\n')\n",
    "print('Identidad multiplicativa:\\n', V, '\\n', 1 * V, '\\n')\n",
    "print('Multiplicación escalar:\\n', c1 * (c2 * V), '\\n', (c1 * c2) * V, '\\n')\n",
    "print('Multiplicación escalar se distribuye sobre adicion:\\n', c1 * (V + W), '\\n', c1 * V + c1 * W, '\\n')\n",
    "print('Multiplicación escalar se distribuye sobre adicion compleja:\\n', (c1 + c2) * V, '\\n', c1 * V + c2 * V, '\\n')"
   ]
  },
  {
   "cell_type": "markdown",
   "id": "94564c0d-b9b4-493d-b290-219f673d7b19",
   "metadata": {},
   "source": [
    "# Operaciones con matrices cuadradas"
   ]
  },
  {
   "cell_type": "code",
   "execution_count": 4,
   "id": "9549b4bc-af2f-4666-9621-8772129469a9",
   "metadata": {},
   "outputs": [
    {
     "name": "stdout",
     "output_type": "stream",
     "text": [
      "(3, 3)\n",
      "Ejemplo: \n",
      " [[ 0.+4.j  8.-1.j  0.+6.j]\n",
      " [ 2.+0.j -4.+4.j 10.-6.j]\n",
      " [10.-1.j -2.-2.j  3.+0.j]] \n",
      "\n",
      "Transpuesta: \n",
      " [[ 0.+4.j  2.+0.j 10.-1.j]\n",
      " [ 8.-1.j -4.+4.j -2.-2.j]\n",
      " [ 0.+6.j 10.-6.j  3.+0.j]] \n",
      "\n",
      "Conjugada: \n",
      " [[ 0.-4.j  8.+1.j  0.-6.j]\n",
      " [ 2.-0.j -4.-4.j 10.+6.j]\n",
      " [10.+1.j -2.+2.j  3.-0.j]] \n",
      "\n",
      "Adjunta: \n",
      " [[ 0.-4.j  2.-0.j 10.+1.j]\n",
      " [ 8.+1.j -4.-4.j -2.+2.j]\n",
      " [ 0.-6.j 10.+6.j  3.-0.j]] \n",
      "\n",
      " [[ 0.-4.j  2.-0.j 10.+1.j]\n",
      " [ 8.+1.j -4.-4.j -2.+2.j]\n",
      " [ 0.-6.j 10.+6.j  3.-0.j]] \n",
      "\n",
      " [[ 0.-4.j  2.-0.j 10.+1.j]\n",
      " [ 8.+1.j -4.-4.j -2.+2.j]\n",
      " [ 0.-6.j 10.+6.j  3.-0.j]] \n",
      "\n"
     ]
    }
   ],
   "source": [
    "Q = np.array([[4j, 8 - 1j, 6j], [2, -4 + 4j, 10 - 6j], [10 - 1j, -2 - 2j, 3]])\n",
    "print(Q.shape)\n",
    "print('Ejemplo: \\n', Q, '\\n')\n",
    "print('Transpuesta: \\n', Q.T, '\\n')\n",
    "print('Conjugada: \\n', Q.conjugate(), '\\n')\n",
    "print('Adjunta: \\n', np.matrix(Q).getH(), '\\n\\n', Q.T.conjugate(), '\\n\\n', Q.conjugate().T, '\\n')"
   ]
  },
  {
   "cell_type": "markdown",
   "id": "3dec3c85-617a-4ce7-8576-4d1020be0cbc",
   "metadata": {},
   "source": [
    "# Multiplicacion de matrices"
   ]
  },
  {
   "cell_type": "code",
   "execution_count": 5,
   "id": "2f77d9e0-b4ab-4cd9-a042-83251823b6ee",
   "metadata": {},
   "outputs": [
    {
     "name": "stdout",
     "output_type": "stream",
     "text": [
      "Multiplicacion no conmutativa: \n",
      " [[ 14.+58.j -20.+56.j  70.-72.j]\n",
      " [ 86.-58.j -16.-38.j  30.+62.j]\n",
      " [ 28.+13.j  91. -4.j -31. +0.j]] \n",
      " [[  8. +2.j -34.+44.j  74.-38.j]\n",
      " [ 82.-94.j -24.-34.j  14.+46.j]\n",
      " [ 30.+33.j  89.-24.j -17.+52.j]] \n",
      "\n",
      "Multiplicacion con transpuestas: \n",
      " [[ 14.+58.j  86.-58.j  28.+13.j]\n",
      " [-20.+56.j -16.-38.j  91. -4.j]\n",
      " [ 70.-72.j  30.+62.j -31. +0.j]] \n",
      " [[ 14.+58.j  86.-58.j  28.+13.j]\n",
      " [-20.+56.j -16.-38.j  91. -4.j]\n",
      " [ 70.-72.j  30.+62.j -31. +0.j]] \n",
      "\n",
      "Multiplicacion con adjuntas: \n",
      " [[ 14.-58.j  86.+58.j  28.-13.j]\n",
      " [-20.-56.j -16.+38.j  91. +4.j]\n",
      " [ 70.+72.j  30.-62.j -31. -0.j]] \n",
      " [[ 14.-58.j  86.+58.j  28.-13.j]\n",
      " [-20.-56.j -16.+38.j  91. +4.j]\n",
      " [ 70.+72.j  30.-62.j -31. +0.j]] \n",
      "\n"
     ]
    }
   ],
   "source": [
    "Q = np.array([[4j, 8 - 1j, 6j], [2, -4 + 4j, 10 - 6j], [10 - 1j, -2 - 2j, 3]])\n",
    "R = np.array([[2j, 8 + 1j, 0], [2, -4 + 4j, 10 - 10j], [10 - 1j, -2 - 2j, 3]])\n",
    "\n",
    "print('Multiplicacion no conmutativa: \\n', np.matmul(Q, R), '\\n', np.matmul(R, Q), '\\n')\n",
    "print('Multiplicacion con transpuestas: \\n', np.matmul(Q, R).T, '\\n', np.matmul(R.T, Q.T), '\\n')\n",
    "print('Multiplicacion con adjuntas: \\n', np.matrix(np.matmul(Q, R)).getH(), '\\n', np.matmul(np.matrix(R).getH(), np.matrix(Q).getH()), '\\n')\n",
    "#print('Conjugada: \\n', Q.conjugate(), '\\n')\n",
    "#print('Adjunta: \\n', np.matrix(Q).getH(), '\\n\\n', Q.T.conjugate(), '\\n\\n', Q.conjugate().T, '\\n')"
   ]
  },
  {
   "cell_type": "markdown",
   "id": "a4bd96dd-952b-474f-a03e-fc94a809c1c8",
   "metadata": {},
   "source": [
    "# Isomorfismo entre complejos y reales"
   ]
  },
  {
   "cell_type": "code",
   "execution_count": 6,
   "id": "e2c1e033-7826-4628-99b3-97003f205f03",
   "metadata": {},
   "outputs": [
    {
     "name": "stdout",
     "output_type": "stream",
     "text": [
      "Sumar elemento: \n",
      " (3+2j) \n",
      " [[ 3  2]\n",
      " [-2  3]] \n",
      "\n",
      "Elevar al cuadrado: \n",
      " (-9-40j) \n",
      " [[ -9 -40]\n",
      " [ 40  -9]] \n",
      "\n",
      "Suma de dos elementos: \n",
      " (6-4j) \n",
      " [[ 6 -4]\n",
      " [ 4  6]] \n",
      "\n",
      "Multiplicacion por escalar real: \n",
      " (70-20j) \n",
      " [[ 70 -20]\n",
      " [ 20  70]] \n",
      "\n",
      "Multiplicacion de dos elementos: \n",
      " (-11-12j) \n",
      " [[-11 -12]\n",
      " [ 12 -11]] \n",
      "\n"
     ]
    }
   ],
   "source": [
    "r1 = 4 \n",
    "r2 = -5\n",
    "mat_r = np.array([[r1, r2], [-r2, r1]])\n",
    "c = 4 - 5j \n",
    "\n",
    "s_r = np.array([[-1, 7], [-7, -1]])\n",
    "\n",
    "print('Sumar elemento: \\n', c + (-1 + 7j), '\\n', mat_r + s_r, '\\n')\n",
    "print('Elevar al cuadrado: \\n', c ** 2, '\\n', np.matmul(mat_r, mat_r), '\\n')\n",
    "\n",
    "#ADICION EN FUNCION LINEAL\n",
    "elemento_a = 7\n",
    "elemento_b = -2\n",
    "\n",
    "elemento_c = -1\n",
    "elemento_d = -2\n",
    "\n",
    "mat_r1 = np.array([[elemento_a, elemento_b], [-1 * elemento_b, elemento_a]])\n",
    "mat_r2 = np.array([[elemento_c, elemento_d], [-1 * elemento_d, elemento_c]])\n",
    "\n",
    "c1 = elemento_a + 1j * elemento_b \n",
    "c2 = elemento_c + 1j * elemento_d \n",
    "\n",
    "escalar = 10\n",
    "\n",
    "print('Suma de dos elementos: \\n', c1 + c2, '\\n', mat_r1 + mat_r2,  '\\n')\n",
    "print('Multiplicacion por escalar real: \\n', c1 * escalar, '\\n', escalar * mat_r1,  '\\n')\n",
    "print('Multiplicacion de dos elementos: \\n', c1 * c2, '\\n', np.matmul(mat_r1, mat_r2),  '\\n')"
   ]
  },
  {
   "cell_type": "markdown",
   "id": "4f88da6b-0091-4d74-8a78-75005841ef62",
   "metadata": {},
   "source": [
    "# Hadamard Matrix"
   ]
  },
  {
   "cell_type": "code",
   "execution_count": 7,
   "id": "95f0dd6a-cf86-440e-af89-1ebd642297bb",
   "metadata": {},
   "outputs": [
    {
     "name": "stdout",
     "output_type": "stream",
     "text": [
      "Hadamard matrix: \n",
      " [[ 0.70710678  0.70710678]\n",
      " [ 0.70710678 -0.70710678]] \n",
      "\n",
      "Hadamard matrix ** 2: \n",
      " [[ 1.00000000e+00 -2.23711432e-17]\n",
      " [-2.23711432e-17  1.00000000e+00]] \n",
      "\n",
      "Hadamard matrix ** 3: \n",
      " [[ 0.70710678  0.70710678]\n",
      " [ 0.70710678 -0.70710678]] \n",
      "\n"
     ]
    }
   ],
   "source": [
    "H = np.array([[1 / 2**0.5, 1 / 2**0.5], [1 / 2**0.5, -1 / 2**0.5]])\n",
    "\n",
    "print('Hadamard matrix: \\n', H, '\\n')\n",
    "print('Hadamard matrix ** 2: \\n', H @ H, '\\n')\n",
    "print('Hadamard matrix ** 3: \\n', H @ H @ H, '\\n')"
   ]
  },
  {
   "cell_type": "markdown",
   "id": "c13b8a16-d7ae-4325-8001-3ef0ab333533",
   "metadata": {},
   "source": [
    "# Espacio vectorial con Producto Interno"
   ]
  },
  {
   "cell_type": "code",
   "execution_count": 8,
   "id": "3113bfa1-4097-46c8-a647-3cfee8171f6f",
   "metadata": {},
   "outputs": [
    {
     "name": "stdout",
     "output_type": "stream",
     "text": [
      "Producto interno no degenerativo: \n",
      " (157+0j) \n",
      "\n",
      "Sesgo simetrico: \n",
      " (42+19j) \n",
      " (42+19j) \n",
      "\n",
      "Producto interno con definicion: \n",
      " (42+19j) \n",
      "\n",
      "Norma o longitud: \n",
      " 12.529964086141668 \n",
      " 157.0 \n",
      "\n",
      "Distancia: \n",
      " 12.529964086141668 6.557438524302 10.770329614269007 10.770329614269007 \n",
      "\n"
     ]
    }
   ],
   "source": [
    "A = np.array([[1j, 4 - 2j], [6, 10j]])\n",
    "B = np.array([[-3 + 2j, 5], [1j, 2j]])\n",
    "\n",
    "print('Producto interno no degenerativo: \\n', np.vdot(A, A), '\\n')\n",
    "print('Sesgo simetrico: \\n', np.vdot(A, B), '\\n', np.vdot(B, A).conjugate(), '\\n')\n",
    "print('Producto interno con definicion: \\n', np.trace(np.matrix(A).getH() @ B), '\\n')\n",
    "print('Norma o longitud: \\n', np.linalg.norm(A), '\\n', np.linalg.norm(A) ** 2, '\\n')\n",
    "print('Distancia: \\n', np.linalg.norm(A), np.linalg.norm(B), np.linalg.norm(A - B), np.linalg.norm(B - A), '\\n')\n"
   ]
  },
  {
   "cell_type": "markdown",
   "id": "e8316ec5-e4b2-4bf1-8ced-2be532d526f6",
   "metadata": {},
   "source": [
    "# Eigenvalores y Eigenvectores"
   ]
  },
  {
   "cell_type": "code",
   "execution_count": 21,
   "id": "d44c89d4-97f1-4049-8679-9535be0dc94e",
   "metadata": {},
   "outputs": [
    {
     "name": "stdout",
     "output_type": "stream",
     "text": [
      "Eigenvalores: \n",
      " [ 4. -2. -2.] \n",
      "\n",
      "Eigenvectores: \n",
      " [[-0.40824829 -0.81034214  0.1932607 ]\n",
      " [-0.40824829 -0.31851537 -0.59038328]\n",
      " [-0.81649658  0.49182677 -0.78364398]] \n",
      "\n",
      "Comprobacion 1: \n",
      " [-1.63299316 -3.24136856  0.77304281] [2.60256024 3.40674794 3.18560592]\n",
      "Comprobacion 1: \n",
      " [-2 -2  0] [-2 -2  0]\n"
     ]
    }
   ],
   "source": [
    "A = np.array([[1, -3, 3], [3, -5, 3], [6, -6, 4]])\n",
    "\n",
    "e_val, e_vec = np.linalg.eig(A)\n",
    "\n",
    "print('Eigenvalores: \\n', e_val, '\\n')\n",
    "print('Eigenvectores: \\n', e_vec, '\\n')\n",
    "print('Comprobacion 1: \\n', e_val[0] * e_vec[0], A @ e_vec[0])\n",
    "print('Comprobacion 1: \\n', -2 * np.array([1, 1, 0]), A @ np.array([1, 1, 0]))"
   ]
  },
  {
   "cell_type": "markdown",
   "id": "b227a654-00fd-4a85-af32-2e97bd4edd45",
   "metadata": {},
   "source": [
    "# Hermitianas y Unitarias"
   ]
  },
  {
   "cell_type": "code",
   "execution_count": 34,
   "id": "9acac772-4cf5-4616-a9d5-d2c09ad0ab55",
   "metadata": {},
   "outputs": [
    {
     "name": "stdout",
     "output_type": "stream",
     "text": [
      "Matriz simetrica:  \n",
      " [[1 2 3]\n",
      " [2 4 5]\n",
      " [3 5 6]] \n",
      " [[1 2 3]\n",
      " [2 4 5]\n",
      " [3 5 6]] \n",
      "\n",
      "Matriz hermitiana:  \n",
      " [[ 5.  +0.j  4.  +5.j  6. -16.j]\n",
      " [ 4.  -5.j 13.  +0.j  7.  +0.j]\n",
      " [ 6. +16.j  7.  +0.j -2.1 +0.j]] \n",
      " [[ 5.  -0.j  4.  +5.j  6. -16.j]\n",
      " [ 4.  -5.j 13.  -0.j  7.  -0.j]\n",
      " [ 6. +16.j  7.  -0.j -2.1 -0.j]] \n",
      "\n",
      "Matriz diagonal:  \n",
      " [[ 5.   0.   0. ]\n",
      " [ 0.  13.   0. ]\n",
      " [ 0.   0.  -2.1]] \n",
      "\n",
      "Eigenvalores: \n",
      " [-18.23072189  12.1869549   21.94376699] \n",
      "\n",
      "Eigenvectores: \n",
      " [[-0.61004189+0.j         -0.45193547-0.j          0.65084808+0.j        ]\n",
      " [ 0.03021259-0.25842891j  0.73921839+0.30244296j  0.54161634-0.03221605j]\n",
      " [ 0.21380092+0.71724456j  0.17238914-0.35793959j  0.32009971+0.42372965j]] \n",
      "\n",
      "Ortogonalidad:  (1.437037535410667e-16+5.023797211367136e-17j) (1.5357465835512936e-18-1.2368380604324905e-16j) (-1.6653345369377348e-16-1.0061396160665481e-16j) \n",
      "\n",
      "Matriz unitaria: \n",
      " [[ 0.70710678 -0.70710678  0.        ]\n",
      " [ 0.70710678  0.70710678  0.        ]\n",
      " [ 0.          0.          1.        ]] \n",
      " [[ 0.70710678  0.70710678  0.        ]\n",
      " [-0.70710678  0.70710678  0.        ]\n",
      " [ 0.          0.          1.        ]] \n",
      " [[1.00000000e+00 1.01465364e-17 0.00000000e+00]\n",
      " [1.01465364e-17 1.00000000e+00 0.00000000e+00]\n",
      " [0.00000000e+00 0.00000000e+00 1.00000000e+00]] \n",
      " [[ 1.00000000e+00 -1.01465364e-17  0.00000000e+00]\n",
      " [-1.01465364e-17  1.00000000e+00  0.00000000e+00]\n",
      " [ 0.00000000e+00  0.00000000e+00  1.00000000e+00]] \n",
      "\n"
     ]
    }
   ],
   "source": [
    "A = np.array([[1, 2, 3], [2, 4, 5], [3, 5, 6]])\n",
    "B = np.array([[5, 4 + 5j, 6 - 16j], [4 - 5j, 13, 7], [6 + 16j, 7, -2.1]])\n",
    "C = np.array([[5, 0, 0], [0, 13, 0], [0, 0, -2.1]])\n",
    "D = np.array([[np.cos(np.pi / 4), -np.sin(np.pi / 4), 0], \n",
    "              [np.sin(np.pi / 4), np.cos(np.pi / 4), 0], \n",
    "              [0, 0, 1]])\n",
    "\n",
    "print('Matriz simetrica: ', '\\n', A, '\\n', A.T, '\\n')\n",
    "print('Matriz hermitiana: ', '\\n', B, '\\n', np.matrix(B).getH(), '\\n')\n",
    "print('Matriz diagonal: ', '\\n', C, '\\n')\n",
    "\n",
    "e_val, e_vec = np.linalg.eigh(B)\n",
    "print('Eigenvalores: \\n', e_val, '\\n')\n",
    "print('Eigenvectores: \\n', e_vec, '\\n')\n",
    "print('Ortogonalidad: ', np.vdot(e_vec[0], e_vec[1]), np.vdot(e_vec[0], e_vec[2]), np.vdot(e_vec[1], e_vec[2]), '\\n')\n",
    "\n",
    "D_adj = np.matrix(D).getH()\n",
    "print('Matriz unitaria: \\n', D, '\\n', D_adj, '\\n', D @ D_adj, '\\n', D_adj @ D, '\\n')"
   ]
  },
  {
   "cell_type": "markdown",
   "id": "009d0d9d-a09e-4c8f-80d8-81587832c882",
   "metadata": {},
   "source": [
    "# Tensores"
   ]
  },
  {
   "cell_type": "code",
   "execution_count": 46,
   "id": "eaa09cec-fb30-4599-bb7c-bdb77bb28be7",
   "metadata": {},
   "outputs": [
    {
     "name": "stdout",
     "output_type": "stream",
     "text": [
      "Producto tensorial:  \n",
      " [[-3  6]\n",
      " [-4  8]\n",
      " [-7 14]] \n",
      "\n",
      "Producto tensorial:  \n",
      " [[[[  3.  +2.j   1. +18.j  29. -11.j]\n",
      "   [ 26. +26.j  18. +12.j  -4. +19.j]\n",
      "   [  0.  +0.j   3.  +2.j -12. +31.j]]\n",
      "\n",
      "  [[  5.  -1.j  19. +17.j  18. -40.j]\n",
      "   [ 52.  +0.j  30.  -6.j  15. +23.j]\n",
      "   [  0.  +0.j   5.  -1.j  19. +43.j]]\n",
      "\n",
      "  [[  0.  +2.j  -8.  +6.j  14. +10.j]\n",
      "   [ -4. +20.j   0. +12.j -10.  +4.j]\n",
      "   [  0.  +0.j   0.  +2.j -18.  +4.j]]]\n",
      "\n",
      "\n",
      " [[[  0.  +0.j   0.  +0.j   0.  +0.j]\n",
      "   [  0.  +0.j   0.  +0.j   0.  +0.j]\n",
      "   [  0.  +0.j   0.  +0.j   0.  +0.j]]\n",
      "\n",
      "  [[ 12.  +0.j  36. +48.j  60. -84.j]\n",
      "   [120. +24.j  72.  +0.j  24. +60.j]\n",
      "   [  0.  +0.j  12.  +0.j  24.+108.j]]\n",
      "\n",
      "  [[  6.  -3.j  30. +15.j   9. -57.j]\n",
      "   [ 66. -18.j  36. -18.j  27. +24.j]\n",
      "   [  0.  +0.j   6.  -3.j  39. +48.j]]]\n",
      "\n",
      "\n",
      " [[[  2.  +0.j   6.  +8.j  10. -14.j]\n",
      "   [ 20.  +4.j  12.  +0.j   4. +10.j]\n",
      "   [  0.  +0.j   2.  +0.j   4. +18.j]]\n",
      "\n",
      "  [[  4.  +4.j  -4. +28.j  48.  -8.j]\n",
      "   [ 32. +48.j  24. +24.j -12. +28.j]\n",
      "   [  0.  +0.j   4.  +4.j -28. +44.j]]\n",
      "\n",
      "  [[  9.  +3.j  15. +45.j  66. -48.j]\n",
      "   [ 84. +48.j  54. +18.j   3. +51.j]\n",
      "   [  0.  +0.j   9.  +3.j  -9. +87.j]]]] \n",
      " (3, 3, 3, 3) \n",
      "\n"
     ]
    }
   ],
   "source": [
    "A = np.array([3, 4, 7])\n",
    "B = np.array([-1, 2])\n",
    "\n",
    "C = np.array([[3 + 2j, 5 - 1j, 2j], [0, 12, 6 - 3j], [2, 4 + 4j, 9 + 3j]])\n",
    "D = np.array([[1, 3 + 4j, 5 - 7j], [10 + 2j, 6, 2 + 5j], [0, 1, 2 + 9j]])\n",
    "\n",
    "E = np.array([[3 + 2j, 5 - 1j], [0, 12]])\n",
    "F = np.array([[1, 3 + 4j, 5 - 7j], [10 + 2j, 6, 2 + 5j], [0, 1, 2 + 9j]])\n",
    "\n",
    "tens_1 = np.tensordot(C, D, axes=0)\n",
    "\n",
    "print('Producto tensorial: ', '\\n', np.tensordot(A, B, axes=0), '\\n')\n",
    "print('Producto tensorial: ', '\\n', tens_1, '\\n', tens_1.shape, '\\n')\n",
    "#print('Adjuntos: ', '\\n', np.linalg.tensordot(E, F, axes=0), '\\n')"
   ]
  },
  {
   "cell_type": "code",
   "execution_count": null,
   "id": "102c98e7-e8d9-431e-92b0-4f739b5bdf60",
   "metadata": {},
   "outputs": [],
   "source": []
  }
 ],
 "metadata": {
  "kernelspec": {
   "display_name": "Python 3 (ipykernel)",
   "language": "python",
   "name": "python3"
  },
  "language_info": {
   "codemirror_mode": {
    "name": "ipython",
    "version": 3
   },
   "file_extension": ".py",
   "mimetype": "text/x-python",
   "name": "python",
   "nbconvert_exporter": "python",
   "pygments_lexer": "ipython3",
   "version": "3.12.3"
  }
 },
 "nbformat": 4,
 "nbformat_minor": 5
}
