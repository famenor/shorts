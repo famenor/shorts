{
 "cells": [
  {
   "cell_type": "code",
   "execution_count": 2,
   "id": "726d4ca3-4d07-498e-88b3-6905d30e36c3",
   "metadata": {},
   "outputs": [],
   "source": [
    "import pandas as pd\n",
    "import numpy as np\n",
    "import math\n",
    "\n",
    "import matplotlib.pyplot as plt"
   ]
  },
  {
   "cell_type": "markdown",
   "id": "4a9bcb18-1184-4fe1-b881-c9f59f5379ec",
   "metadata": {},
   "source": [
    "# Sistema deterministico clasico"
   ]
  },
  {
   "cell_type": "code",
   "execution_count": 5,
   "id": "102c98e7-e8d9-431e-92b0-4f739b5bdf60",
   "metadata": {},
   "outputs": [
    {
     "name": "stdout",
     "output_type": "stream",
     "text": [
      "Estado inicial: \n",
      " [ 6  2  1  5  3 10] \n",
      "\n",
      "Estado despues de 1 clic: \n",
      " [ 0  0 12  5  1  9] \n",
      "\n",
      "Estado despues de 2 clic: \n",
      " [ 0  0  9  5 12  1] \n",
      "\n",
      "Estado despues de 3 clic: \n",
      " [ 0  0  1  5  9 12] \n",
      "\n",
      "Estado despues de 4 clic: \n",
      " [ 0  0 12  5  1  9] \n",
      "\n",
      "Estado despues de 5 clic: \n",
      " [ 0  0  9  5 12  1] \n",
      "\n",
      "Estado despues de 6 clic: \n",
      " [ 0  0  1  5  9 12] \n",
      "\n"
     ]
    }
   ],
   "source": [
    " M = np.array([[0, 0, 0, 0, 0, 0], \n",
    "               [0, 0, 0, 0, 0, 0], \n",
    "               [0, 1, 0, 0, 0, 1], \n",
    "               [0, 0, 0, 1, 0, 0], \n",
    "               [0, 0, 1, 0, 0, 0], \n",
    "               [1, 0, 0, 0, 1, 0]])\n",
    "\n",
    "estado_inicial = np.array([6, 2, 1, 5, 3, 10])\n",
    "\n",
    "print('Estado inicial: \\n', estado_inicial, '\\n')\n",
    "print('Estado despues de 1 clic: \\n', M @ estado_inicial, '\\n')\n",
    "print('Estado despues de 2 clic: \\n', M @ M @ estado_inicial, '\\n')\n",
    "print('Estado despues de 3 clic: \\n', M @ M @ M @ estado_inicial, '\\n')\n",
    "print('Estado despues de 4 clic: \\n', M @ M @ M @ M @ estado_inicial, '\\n')\n",
    "print('Estado despues de 5 clic: \\n', M @ M @ M @ M @ M @ estado_inicial, '\\n')\n",
    "print('Estado despues de 6 clic: \\n', M @ M @ M @ M @ M @ M @ estado_inicial, '\\n')"
   ]
  },
  {
   "cell_type": "markdown",
   "id": "50d7317d-2d23-4d43-a509-91a6a1164fdd",
   "metadata": {},
   "source": [
    "# Sistemas probabilisticos"
   ]
  },
  {
   "cell_type": "code",
   "execution_count": 23,
   "id": "c7c64db1-0daf-4c10-931f-ac5084ad5995",
   "metadata": {},
   "outputs": [
    {
     "name": "stdout",
     "output_type": "stream",
     "text": [
      "Estado inicial: \n",
      " [0.16666667 0.16666667 0.66666667] \n",
      "\n",
      "Estado despues de 1 clic: \n",
      " [0.58333333 0.25       0.16666667] \n",
      "\n",
      "Revirtiendo estado: \n",
      " [0.19444444 0.27777778 0.52777778] \n",
      "\n",
      "Multiplicacion de matrices doble-estocasticas:  \n",
      " [[0.5 0.5]\n",
      " [0.5 0.5]] \n",
      " [[0.5 0.5]\n",
      " [0.5 0.5]] \n",
      "\n",
      "Estado despues de 1 clic: \n",
      " [0.5 0.  0.  0.5] \n",
      "\n",
      "Estado despues de 2 clic: \n",
      " [0.  0.5 0.5 0. ] \n",
      "\n",
      "Estado despues de 3 clic: \n",
      " [0.5 0.  0.  0.5] \n",
      "\n"
     ]
    }
   ],
   "source": [
    "M = np.array([[0, 1/6, 5/6], [1/3, 1/2, 1/6], [2/3, 1/3, 0]])\n",
    "X = np.array([1/6, 1/6, 2/3])\n",
    "\n",
    "print('Estado inicial: \\n', X, '\\n')\n",
    "\n",
    "X_1 = M @ X\n",
    "print('Estado despues de 1 clic: \\n', X_1, '\\n')\n",
    "print('Revirtiendo estado: \\n', X_1 @ M, '\\n')\n",
    "\n",
    "M = np.array([[1/3, 2/3], [2/3, 1/3]])\n",
    "N = np.array([[1/2, 1/2], [1/2, 1/2]])\n",
    "print('Multiplicacion de matrices doble-estocasticas: ', '\\n', M @ N, '\\n', N @ M, '\\n')\n",
    "\n",
    "A = np.array([[0, 0.5, 0.5, 0], [0.5, 0, 0, 0.5], [0.5, 0, 0, 0.5], [0, 0.5, 0.5, 0]])\n",
    "estado_inicial = np.array([0, 0.5, 0.5, 0])\n",
    "print('Estado despues de 1 clic: \\n', A @ estado_inicial, '\\n')\n",
    "print('Estado despues de 2 clic: \\n', A @ A @ estado_inicial, '\\n')\n",
    "print('Estado despues de 3 clic: \\n', A @ A @ A @ estado_inicial, '\\n')"
   ]
  },
  {
   "cell_type": "code",
   "execution_count": 37,
   "id": "ac471ac4-dbc4-4d7c-a0f7-e8ca709fff45",
   "metadata": {},
   "outputs": [
    {
     "name": "stdout",
     "output_type": "stream",
     "text": [
      "Matriz de probabilidades despues de 2 clics: \n",
      " [[0.         0.         0.         0.         0.         0.\n",
      "  0.         0.        ]\n",
      " [0.         0.         0.         0.         0.         0.\n",
      "  0.         0.        ]\n",
      " [0.         0.         0.         0.         0.         0.\n",
      "  0.         0.        ]\n",
      " [0.16666667 0.33333333 0.         1.         0.         0.\n",
      "  0.         0.        ]\n",
      " [0.16666667 0.33333333 0.         0.         1.         0.\n",
      "  0.         0.        ]\n",
      " [0.33333333 0.33333333 0.33333333 0.         0.         1.\n",
      "  0.         0.        ]\n",
      " [0.16666667 0.         0.33333333 0.         0.         0.\n",
      "  1.         0.        ]\n",
      " [0.16666667 0.         0.33333333 0.         0.         0.\n",
      "  0.         1.        ]] \n",
      "\n",
      "Estado del sistema a partir del inicial y despues de 2 clics: \n",
      " [0.         0.         0.         0.16666667 0.16666667 0.33333333\n",
      " 0.16666667 0.16666667] \n",
      "\n"
     ]
    }
   ],
   "source": [
    "#EXPERIMENTO DE LA DOBLE RENDIJA CON BALAS\n",
    "B = np.array([[0.0, 0.0, 0.0, 0.0, 0.0, 0.0, 0.0, 0.0],\n",
    "              [0.5, 0.0, 0.0, 0.0, 0.0, 0.0, 0.0, 0.0],\n",
    "              [0.5, 0.0, 0.0, 0.0, 0.0, 0.0, 0.0, 0.0],\n",
    "              [0.0, 1/3, 0.0, 1.0, 0.0, 0.0, 0.0, 0.0],\n",
    "              [0.0, 1/3, 0.0, 0.0, 1.0, 0.0, 0.0, 0.0],\n",
    "              [0.0, 1/3, 1/3, 0.0, 0.0, 1.0, 0.0, 0.0],\n",
    "              [0.0, 0.0, 1/3, 0.0, 0.0, 0.0, 1.0, 0.0],\n",
    "              [0.0, 0.0, 1/3, 0.0, 0.0, 0.0, 0.0, 1.0]])\n",
    "\n",
    "estado_inicial = np.array([1, 0, 0, 0, 0, 0, 0, 0])\n",
    "\n",
    "print('Matriz de probabilidades despues de 2 clics: \\n', B @ B, '\\n')\n",
    "print('Estado del sistema a partir del inicial y despues de 2 clics: \\n', B @ B @ estado_inicial, '\\n')"
   ]
  },
  {
   "cell_type": "markdown",
   "id": "3c61a73f-3981-46b7-8324-6453025aff63",
   "metadata": {},
   "source": [
    "# Sistema Cuantico"
   ]
  },
  {
   "cell_type": "code",
   "execution_count": 47,
   "id": "6a9f5b06-f78b-496c-bccc-65997eca6cad",
   "metadata": {},
   "outputs": [
    {
     "name": "stdout",
     "output_type": "stream",
     "text": [
      "Matriz unitaria: \n",
      " [[1.+0.00000000e+00j 0.-2.23711432e-17j 0.+0.00000000e+00j]\n",
      " [0.+2.23711432e-17j 1.+0.00000000e+00j 0.+0.00000000e+00j]\n",
      " [0.+0.00000000e+00j 0.+0.00000000e+00j 1.+0.00000000e+00j]] \n",
      " [[ 1.00000000e+00+0.j -2.23711432e-17+0.j  0.00000000e+00+0.j]\n",
      " [-2.23711432e-17+0.j  1.00000000e+00+0.j  0.00000000e+00+0.j]\n",
      " [ 0.00000000e+00+0.j  0.00000000e+00+0.j  1.00000000e+00+0.j]] \n",
      "\n",
      "Modulos cuadrados (doble estocasticos): \n",
      " [[0.5 0.5 0. ]\n",
      " [0.5 0.5 0. ]\n",
      " [0.  0.  1. ]] \n",
      "\n",
      "Bola de billar cuantica: \n",
      " [0.         0.70710678 0.70710678 0.        ] \n",
      " [ 1.00000000e+00  0.00000000e+00  0.00000000e+00 -8.53284318e-17] \n",
      "\n"
     ]
    }
   ],
   "source": [
    "U = np.array([[1/2**0.5, 1/2**0.5, 0], [-1j/2**0.5, 1j/2**0.5, 0], [0, 0, 1j]])\n",
    "U_adj = np.matrix(U).getH()\n",
    "print('Matriz unitaria: \\n', U @ U_adj, '\\n', U_adj @ U, '\\n')\n",
    "\n",
    "U_2 = np.abs(U) ** 2\n",
    "print('Modulos cuadrados (doble estocasticos): \\n', U_2, '\\n')\n",
    "\n",
    "B = np.array([[0, 2**-0.5, 2**-0.5, 0], [2**-0.5, 0, 0, -2**-0.5], [2**-0.5, 0, 0, 2**-0.5], [0, -2**0.5, 2**0.5, 0]])\n",
    "estado_inicial = np.array([1, 0, 0, 0])\n",
    "print('Bola de billar cuantica: \\n', B @ estado_inicial, '\\n', B @ B @ estado_inicial, '\\n')"
   ]
  },
  {
   "cell_type": "code",
   "execution_count": 50,
   "id": "5fc46571-4f8c-45d8-9b39-d81dd72d1d05",
   "metadata": {},
   "outputs": [
    {
     "name": "stdout",
     "output_type": "stream",
     "text": [
      "Matriz de modulos al cuadrado: \n",
      " [[0.         0.         0.         0.         0.         0.\n",
      "  0.         0.        ]\n",
      " [0.5        0.         0.         0.         0.         0.\n",
      "  0.         0.        ]\n",
      " [0.5        0.         0.         0.         0.         0.\n",
      "  0.         0.        ]\n",
      " [0.         0.33333333 0.         1.         0.         0.\n",
      "  0.         0.        ]\n",
      " [0.         0.33333333 0.         0.         1.         0.\n",
      "  0.         0.        ]\n",
      " [0.         0.33333333 0.33333333 0.         0.         1.\n",
      "  0.         0.        ]\n",
      " [0.         0.         0.33333333 0.         0.         0.\n",
      "  1.         0.        ]\n",
      " [0.         0.         0.33333333 0.         0.         0.\n",
      "  0.         1.        ]] \n",
      "\n",
      "Matriz al cuadrado (probabilidades): \n",
      " [[0.00000000e+00 0.00000000e+00 0.00000000e+00 0.00000000e+00\n",
      "  0.00000000e+00 0.00000000e+00 0.00000000e+00 0.00000000e+00]\n",
      " [0.00000000e+00 0.00000000e+00 0.00000000e+00 0.00000000e+00\n",
      "  0.00000000e+00 0.00000000e+00 0.00000000e+00 0.00000000e+00]\n",
      " [0.00000000e+00 0.00000000e+00 0.00000000e+00 0.00000000e+00\n",
      "  0.00000000e+00 0.00000000e+00 0.00000000e+00 0.00000000e+00]\n",
      " [1.66666667e-01 3.33333333e-01 0.00000000e+00 1.00000000e+00\n",
      "  0.00000000e+00 0.00000000e+00 0.00000000e+00 0.00000000e+00]\n",
      " [1.66666667e-01 3.33333333e-01 0.00000000e+00 0.00000000e+00\n",
      "  1.00000000e+00 0.00000000e+00 0.00000000e+00 0.00000000e+00]\n",
      " [8.66145274e-34 3.33333333e-01 3.33333333e-01 0.00000000e+00\n",
      "  0.00000000e+00 1.00000000e+00 0.00000000e+00 0.00000000e+00]\n",
      " [1.66666667e-01 0.00000000e+00 3.33333333e-01 0.00000000e+00\n",
      "  0.00000000e+00 0.00000000e+00 1.00000000e+00 0.00000000e+00]\n",
      " [1.66666667e-01 0.00000000e+00 3.33333333e-01 0.00000000e+00\n",
      "  0.00000000e+00 0.00000000e+00 0.00000000e+00 1.00000000e+00]] \n",
      "\n"
     ]
    }
   ],
   "source": [
    "#EXPERIMENTO DE LA DOBLE RENDIJA CON FOTONES\n",
    "P = np.array([[0.0, 0.0, 0.0, 0.0, 0.0, 0.0, 0.0, 0.0],\n",
    "              [2**-0.5, 0.0, 0.0, 0.0, 0.0, 0.0, 0.0, 0.0],\n",
    "              [2**-0.5, 0.0, 0.0, 0.0, 0.0, 0.0, 0.0, 0.0],\n",
    "              [0.0, (-1 + 1j) / 6**0.5, 0.0, 1.0, 0.0, 0.0, 0.0, 0.0],\n",
    "              [0.0, (-1 - 1j) / 6**0.5, 0.0, 0.0, 1.0, 0.0, 0.0, 0.0],\n",
    "              [0.0, (1 - 1j) / 6**0.5, (-1 + 1j) / 6**0.5, 0.0, 0.0, 1.0, 0.0, 0.0],\n",
    "              [0.0, 0.0, (-1 - 1j) / 6**0.5, 0.0, 0.0, 0.0, 1.0, 0.0],\n",
    "              [0.0, 0.0, (1 - 1j) / 6**0.5, 0.0, 0.0, 0.0, 0.0, 1.0]])\n",
    "\n",
    "estado_inicial = np.array([1, 0, 0, 0, 0, 0, 0, 0])\n",
    "\n",
    "print('Matriz de modulos al cuadrado: \\n', np.abs(P) ** 2, '\\n')\n",
    "P_2 = P @ P\n",
    "P_2_prob = np.abs(P_2) ** 2 \n",
    "print('Matriz al cuadrado (probabilidades): \\n', P_2_prob, '\\n')"
   ]
  },
  {
   "cell_type": "code",
   "execution_count": null,
   "id": "cfd9efd4-63c4-4114-a50f-ded27dfa967c",
   "metadata": {},
   "outputs": [],
   "source": []
  }
 ],
 "metadata": {
  "kernelspec": {
   "display_name": "Python 3 (ipykernel)",
   "language": "python",
   "name": "python3"
  },
  "language_info": {
   "codemirror_mode": {
    "name": "ipython",
    "version": 3
   },
   "file_extension": ".py",
   "mimetype": "text/x-python",
   "name": "python",
   "nbconvert_exporter": "python",
   "pygments_lexer": "ipython3",
   "version": "3.12.3"
  }
 },
 "nbformat": 4,
 "nbformat_minor": 5
}
