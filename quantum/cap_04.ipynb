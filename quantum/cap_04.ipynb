{
 "cells": [
  {
   "cell_type": "code",
   "execution_count": 52,
   "id": "726d4ca3-4d07-498e-88b3-6905d30e36c3",
   "metadata": {},
   "outputs": [],
   "source": [
    "import pandas as pd\n",
    "import numpy as np\n",
    "import math\n",
    "\n",
    "import matplotlib.pyplot as plt"
   ]
  },
  {
   "cell_type": "markdown",
   "id": "da827366-850c-4f0f-9889-e556481ab472",
   "metadata": {},
   "source": [
    "# Sistema lineal de particulas"
   ]
  },
  {
   "cell_type": "code",
   "execution_count": 3,
   "id": "b9a3e8f3-aef8-4f6e-b41b-38b190cb5de0",
   "metadata": {},
   "outputs": [
    {
     "name": "stdout",
     "output_type": "stream",
     "text": [
      "Norma psi:  4.358898943540674 \n",
      "\n",
      "Probabilidades:  0.5263157894736842 0.21052631578947364 0.05263157894736841 0.21052631578947364 \n",
      "\n",
      "Normalizacion:  [-0.6882472 -0.22941573j -0.        -0.45883147j  0.        +0.22941573j\n",
      "  0.45883147+0.j        ] \n",
      "\n",
      "Norma psi:  0.9999999999999999 \n",
      "\n",
      "Probabilidades:  0.526315789473684 0.21052631578947364 0.05263157894736841 0.21052631578947364 \n",
      "\n"
     ]
    }
   ],
   "source": [
    "estado_actual = np.array([-3-1j, -2j, 1j, 2])\n",
    "norma_psi = np.linalg.norm(estado_actual)\n",
    "norma_x0 = np.linalg.norm(estado_actual[0])\n",
    "norma_x1 = np.linalg.norm(estado_actual[1])\n",
    "norma_x2 = np.linalg.norm(estado_actual[2])\n",
    "norma_x3 = np.linalg.norm(estado_actual[3])\n",
    "\n",
    "print('Norma psi: ', norma_psi, '\\n')\n",
    "print('Probabilidades: ',  norma_x0 ** 2 / norma_psi ** 2, norma_x1 ** 2 / norma_psi ** 2,\n",
    "      norma_x2 ** 2 / norma_psi ** 2, norma_x3 ** 2 / norma_psi ** 2,'\\n')\n",
    "\n",
    "estado_actual_normalizado = estado_actual / norma_psi\n",
    "print('Normalizacion: ', estado_actual_normalizado, '\\n')\n",
    "\n",
    "norma_psi_n = np.linalg.norm(estado_actual_normalizado)\n",
    "norma_x0_n = np.linalg.norm(estado_actual_normalizado[0])\n",
    "norma_x1_n = np.linalg.norm(estado_actual_normalizado[1])\n",
    "norma_x2_n = np.linalg.norm(estado_actual_normalizado[2])\n",
    "norma_x3_n = np.linalg.norm(estado_actual_normalizado[3])\n",
    "\n",
    "print('Norma psi: ', norma_psi_n, '\\n')\n",
    "print('Probabilidades: ',  norma_x0_n ** 2, norma_x1_n ** 2, norma_x2_n ** 2, norma_x3_n ** 2,'\\n')"
   ]
  },
  {
   "cell_type": "markdown",
   "id": "2bc2311c-3c62-4b30-a5fc-f66c02651518",
   "metadata": {},
   "source": [
    "# Spin"
   ]
  },
  {
   "cell_type": "code",
   "execution_count": 4,
   "id": "989f7439-f8cf-415c-8749-bb66f762d4da",
   "metadata": {},
   "outputs": [
    {
     "name": "stdout",
     "output_type": "stream",
     "text": [
      "Norma spin:  8.831760866327848 \n",
      "\n",
      "Probabilidades:  0.32051282051282043 0.6794871794871794 \n",
      "\n"
     ]
    }
   ],
   "source": [
    "estado_spin = np.array([-3 - 4j, 7 + 2j])\n",
    "norma_spin = np.linalg.norm(estado_spin)\n",
    "norma_up = np.linalg.norm(estado_spin[0])\n",
    "norma_down = np.linalg.norm(estado_spin[1])\n",
    "\n",
    "print('Norma spin: ', norma_spin, '\\n')\n",
    "print('Probabilidades: ',  norma_up ** 2 / norma_spin ** 2, norma_down ** 2 / norma_spin ** 2,'\\n')"
   ]
  },
  {
   "cell_type": "markdown",
   "id": "e090a25a-051c-4cbd-9405-796129d6a9f2",
   "metadata": {},
   "source": [
    "# Observables"
   ]
  },
  {
   "cell_type": "code",
   "execution_count": 15,
   "id": "a6d875b3-9749-4333-9882-bae951d84245",
   "metadata": {},
   "outputs": [],
   "source": [
    "def conmutator(A, B):\n",
    "    C = (A @ B) - (B @ A)\n",
    "    return C"
   ]
  },
  {
   "cell_type": "code",
   "execution_count": 28,
   "id": "fa692a04-730c-4568-bfd1-1da8c0afce64",
   "metadata": {},
   "outputs": [
    {
     "name": "stdout",
     "output_type": "stream",
     "text": [
      "Al aplicar el observable de spin X, se intercambia el estado:  [0 1] \n",
      "\n",
      "Conmutador S_X y S_Y:  \n",
      " [[0.+2.j 0.+0.j]\n",
      " [0.+0.j 0.-2.j]] \n",
      "\n",
      "Conmutador S_Y y S_Z:  \n",
      " [[0.+0.j 0.+0.j]\n",
      " [0.+0.j 0.+0.j]] \n",
      "\n",
      "Conmutador S_Z y S_X:  \n",
      " [[0 0]\n",
      " [0 0]] \n",
      "\n",
      "Conmutador:  \n",
      " [[0.+0.j 0.+0.j]\n",
      " [0.+0.j 0.+0.j]] \n",
      "\n",
      "Conmutador:  \n",
      " [[0.+0.j 0.+0.j]\n",
      " [0.+0.j 0.+0.j]] \n",
      "\n"
     ]
    }
   ],
   "source": [
    "S_x = np.array([[0, 1], [1, 0]])\n",
    "S_y = np.array([[0, -1j], [1j, 0]])\n",
    "S_z = np.array([[1, 0], [0, 1]])\n",
    "M = np.array([[7, 2 + 4j], [2 - 4j, -2j]])\n",
    "estado_inicial = np.array([1, 0])\n",
    "\n",
    "estado_final = S_x @ estado_inicial\n",
    "print('Al aplicar el observable de spin X, se intercambia el estado: ', estado_final, '\\n')\n",
    "\n",
    "#CONMUTADOR DE LOS TRES OPERADORES DE SPIN\n",
    "print('Conmutador S_X y S_Y: ', '\\n', conmutator(S_x, S_y), '\\n')\n",
    "print('Conmutador S_Y y S_Z: ', '\\n', conmutator(S_y, S_z), '\\n')\n",
    "print('Conmutador S_Z y S_X: ', '\\n', conmutator(S_z, S_x), '\\n')\n",
    "\n",
    "print('Conmutador: ', '\\n', conmutator(M @ M, 3 * M), '\\n')\n",
    "print('Conmutador: ', '\\n', conmutator(-5 * (M @ M), 3 * (M @ M @ M)), '\\n')"
   ]
  },
  {
   "cell_type": "markdown",
   "id": "70c19c72-59d6-47b4-8282-0420721bda4c",
   "metadata": {},
   "source": [
    "# Media y Varianza"
   ]
  },
  {
   "cell_type": "code",
   "execution_count": 51,
   "id": "c9d756e2-4615-45ff-ab77-2c63e770c8c2",
   "metadata": {},
   "outputs": [
    {
     "name": "stdout",
     "output_type": "stream",
     "text": [
      "Probabilidad x1:  0.36 \n",
      "\n",
      "Probabilidad x2:  0.6400000000000001 \n",
      "\n",
      "Valor esperado de observar omega a partir del estado:  1.6400000000000001 \n",
      "\n",
      "Omega centralizado: \n",
      " [[-0.64  0.  ]\n",
      " [ 0.    0.36]] \n",
      "\n",
      "Omega centralizado 2: \n",
      " [[0.4096 0.    ]\n",
      " [0.     0.1296]] \n",
      "\n",
      "Varianza: \n",
      " 0.23040000000000002 \n",
      "\n",
      "Desviacion: \n",
      " 0.48000000000000004 \n",
      "\n"
     ]
    }
   ],
   "source": [
    "omega = np.array([[1, 0], [0, 2]])\n",
    "estado = np.array([3/5, 4/5])\n",
    "\n",
    "e_val, e_vec = np.linalg.eig(omega)\n",
    "p_x0 = estado[0] ** 2\n",
    "p_x1 = estado[1] ** 2\n",
    "mu = e_val[0] * p_x0 + e_val[1] * p_x1\n",
    "mu_I = np.array([[mu, 0], [0, mu]])\n",
    "\n",
    "omega_centralizado = omega - mu_I\n",
    "omega_centralizado_2 = omega_centralizado @ omega_centralizado\n",
    "varianza = estado @ omega_centralizado_2 @ estado\n",
    "\n",
    "print('Probabilidad x1: ', p_x0, '\\n')\n",
    "print('Probabilidad x2: ', p_x1, '\\n')\n",
    "print('Valor esperado de observar omega a partir del estado: ', mu, '\\n')\n",
    "print('Omega centralizado: \\n', omega_centralizado, '\\n')\n",
    "print('Omega centralizado 2: \\n', omega_centralizado_2, '\\n')\n",
    "print('Varianza: \\n', varianza, '\\n')\n",
    "print('Desviacion: \\n', varianza ** 0.5, '\\n')\n",
    "\n",
    "\n",
    "# = omega - "
   ]
  },
  {
   "cell_type": "markdown",
   "id": "614866c0-9b40-4450-ab6f-2626f3d45d7e",
   "metadata": {},
   "source": [
    "# Mediciones"
   ]
  },
  {
   "cell_type": "code",
   "execution_count": 67,
   "id": "548cd749-8382-4519-8ca6-cc0d7a1b2a16",
   "metadata": {},
   "outputs": [
    {
     "name": "stdout",
     "output_type": "stream",
     "text": [
      "Valores propios: \n",
      " [-1.41421356+0.j  1.41421356+0.j] \n",
      "\n",
      "Vectores propios: \n",
      " [[ 0.92387953+0.j         -0.        -0.38268343j]\n",
      " [-0.        -0.38268343j  0.92387953+0.j        ]] \n",
      "\n",
      "Probabilidad x0:  0.5000000000000001 \n",
      "\n",
      "Probabilidad x1:  0.5000000000000001 \n",
      "\n",
      "Esperanza:  (1.1102230246251565e-16+0j) \n",
      "\n"
     ]
    }
   ],
   "source": [
    "estado = np.array([2 ** -0.5, 2 ** -0.5])\n",
    "omega = np.array([[-1, -1j], [1j, 1]])\n",
    "\n",
    "e_val, e_vec = np.linalg.eig(omega)\n",
    "\n",
    "print('Valores propios: \\n', e_val, '\\n')\n",
    "print('Vectores propios: \\n', e_vec, '\\n')\n",
    "\n",
    "p_x0 = np.abs(np.dot(estado, e_vec[0])) ** 2\n",
    "p_x1 = np.abs(np.dot(estado, e_vec[1])) ** 2\n",
    "esperanza = e_val[0] * p_x0 + e_val[1] * p_x1\n",
    "\n",
    "print('Probabilidad x0: ', p_x0, '\\n')\n",
    "print('Probabilidad x1: ', p_x1, '\\n')\n",
    "print('Esperanza: ', esperanza, '\\n')"
   ]
  },
  {
   "cell_type": "markdown",
   "id": "eb3a4507-f2bb-490a-ab05-6b3d66b90207",
   "metadata": {},
   "source": [
    "# Dinamicas"
   ]
  },
  {
   "cell_type": "code",
   "execution_count": 71,
   "id": "5f68cb1a-3eac-44ae-a26f-f1ee626e0c37",
   "metadata": {},
   "outputs": [
    {
     "name": "stdout",
     "output_type": "stream",
     "text": [
      "Probabilidades en t1:  [0.  0.5 0.5 0. ] \n",
      "\n",
      "Probabilidades en t2:  [0.5 0.  0.  0.5] \n",
      "\n",
      "Probabilidades en t3:  [0. 1. 0. 0.] \n",
      "\n"
     ]
    }
   ],
   "source": [
    "#BOLA DE BILLAR CUANTICA\n",
    "estado_inicial = np.array([1, 0, 0, 0])\n",
    "U = np.array([[0, 2 ** -0.5, 2 ** -0.5, 0],\n",
    "              [1j * 2 ** -0.5, 0, 0, 2 ** -0.5], \n",
    "              [2 ** -0.5, 0, 0, 1j * 2 ** -0.5], \n",
    "              [0, 2 ** -0.5, -1 * 2 ** -0.5, 0]])\n",
    "\n",
    "t_1 = U @ estado_inicial\n",
    "t_2 = U @ U @ estado_inicial\n",
    "t_3 = U @ U @ U @ estado_inicial\n",
    "\n",
    "p_1 = np.abs(t_1) ** 2\n",
    "p_2 = np.abs(t_2) ** 2\n",
    "p_3 = np.abs(t_3) ** 2\n",
    "\n",
    "print('Probabilidades en t1: ', p_1, '\\n')\n",
    "print('Probabilidades en t2: ', p_2, '\\n')\n",
    "print('Probabilidades en t3: ', p_3, '\\n')"
   ]
  },
  {
   "cell_type": "code",
   "execution_count": null,
   "id": "68dd9251-b70b-4313-8750-151f4d969609",
   "metadata": {},
   "outputs": [],
   "source": []
  }
 ],
 "metadata": {
  "kernelspec": {
   "display_name": "Python 3 (ipykernel)",
   "language": "python",
   "name": "python3"
  },
  "language_info": {
   "codemirror_mode": {
    "name": "ipython",
    "version": 3
   },
   "file_extension": ".py",
   "mimetype": "text/x-python",
   "name": "python",
   "nbconvert_exporter": "python",
   "pygments_lexer": "ipython3",
   "version": "3.12.3"
  }
 },
 "nbformat": 4,
 "nbformat_minor": 5
}
