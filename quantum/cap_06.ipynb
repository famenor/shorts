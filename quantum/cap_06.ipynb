{
 "cells": [
  {
   "cell_type": "code",
   "execution_count": 2,
   "id": "726d4ca3-4d07-498e-88b3-6905d30e36c3",
   "metadata": {},
   "outputs": [],
   "source": [
    "import pandas as pd\n",
    "import numpy as np\n",
    "import math\n",
    "\n",
    "import matplotlib.pyplot as plt"
   ]
  },
  {
   "cell_type": "markdown",
   "id": "da827366-850c-4f0f-9889-e556481ab472",
   "metadata": {},
   "source": [
    "# Algoritmo de Deutsh"
   ]
  },
  {
   "cell_type": "code",
   "execution_count": 5,
   "id": "b9a3e8f3-aef8-4f6e-b41b-38b190cb5de0",
   "metadata": {},
   "outputs": [
    {
     "name": "stdout",
     "output_type": "stream",
     "text": [
      "Primer funcion: \n",
      " [1 0]   [1 0] \n",
      "\n",
      "\n",
      "Segunda funcion: \n",
      " [1 0]   [0 1] \n",
      "\n",
      "\n",
      "Tercera funcion: \n",
      " [0 1]   [1 0] \n",
      "\n",
      "\n",
      "Cuarta funcion: \n",
      " [0 1]   [0 1] \n",
      "\n",
      "\n"
     ]
    }
   ],
   "source": [
    "M_a = np.array([[1, 1], [0, 0]])\n",
    "M_b = np.array([[1, 0], [0, 1]])\n",
    "M_c = np.array([[0, 1], [1, 0]])\n",
    "M_d = np.array([[0, 0], [1, 1]])\n",
    "\n",
    "b0 = np.array([1, 0])\n",
    "b1 = np.array([0, 1])\n",
    "\n",
    "print('Primer funcion: \\n', M_a @ b0, ' ', M_a @ b1, '\\n\\n')\n",
    "print('Segunda funcion: \\n', M_b @ b0, ' ', M_b @ b1, '\\n\\n')\n",
    "print('Tercera funcion: \\n', M_c @ b0, ' ', M_c @ b1, '\\n\\n')\n",
    "print('Cuarta funcion: \\n', M_d @ b0, ' ', M_d @ b1, '\\n\\n')"
   ]
  },
  {
   "cell_type": "code",
   "execution_count": 7,
   "id": "6027fec9-8fb6-497c-ab52-aa4327e49ca6",
   "metadata": {},
   "outputs": [
    {
     "name": "stdout",
     "output_type": "stream",
     "text": [
      "[[0 1 0 0]\n",
      " [1 0 0 0]\n",
      " [0 0 1 0]\n",
      " [0 0 0 1]]\n",
      "[[1 0 0 0]\n",
      " [0 1 0 0]\n",
      " [0 0 1 0]\n",
      " [0 0 0 1]]\n"
     ]
    }
   ],
   "source": [
    "N = np.array([[0, 1, 0, 0], [1, 0, 0, 0], [0, 0, 1, 0], [0, 0, 0, 1]])\n",
    "N_adj = np.matrix(N).getH()\n",
    "print(N_adj)\n",
    "print(N @ N_adj)"
   ]
  },
  {
   "cell_type": "code",
   "execution_count": null,
   "id": "e440301c-0d8b-404c-8bdf-a73db8f7a684",
   "metadata": {},
   "outputs": [],
   "source": []
  }
 ],
 "metadata": {
  "kernelspec": {
   "display_name": "Python 3 (ipykernel)",
   "language": "python",
   "name": "python3"
  },
  "language_info": {
   "codemirror_mode": {
    "name": "ipython",
    "version": 3
   },
   "file_extension": ".py",
   "mimetype": "text/x-python",
   "name": "python",
   "nbconvert_exporter": "python",
   "pygments_lexer": "ipython3",
   "version": "3.12.3"
  }
 },
 "nbformat": 4,
 "nbformat_minor": 5
}
