{
 "cells": [
  {
   "cell_type": "code",
   "execution_count": 1,
   "id": "726d4ca3-4d07-498e-88b3-6905d30e36c3",
   "metadata": {},
   "outputs": [],
   "source": [
    "import pandas as pd\n",
    "import numpy as np\n",
    "import math\n",
    "\n",
    "import matplotlib.pyplot as plt"
   ]
  },
  {
   "cell_type": "markdown",
   "id": "da827366-850c-4f0f-9889-e556481ab472",
   "metadata": {},
   "source": [
    "# Bits y Qubits"
   ]
  },
  {
   "cell_type": "code",
   "execution_count": 2,
   "id": "b9a3e8f3-aef8-4f6e-b41b-38b190cb5de0",
   "metadata": {},
   "outputs": [
    {
     "name": "stdout",
     "output_type": "stream",
     "text": [
      "V normalizado:  [0.67286226-0.15251545j 0.09420072-0.71771975j] \n",
      "\n"
     ]
    }
   ],
   "source": [
    "V =  np.array([15 - 3.4j, 2.1 - 16j])\n",
    "V_n = np.linalg.norm(V)\n",
    "V_norm = V / V_n\n",
    "\n",
    "print('V normalizado: ', V_norm, '\\n')"
   ]
  },
  {
   "cell_type": "markdown",
   "id": "487e2fd8-4095-4daa-bebb-23974247cdd2",
   "metadata": {},
   "source": [
    "# Compuertas"
   ]
  },
  {
   "cell_type": "code",
   "execution_count": 3,
   "id": "ac835216-e9e3-452c-b7be-216e7d68aa59",
   "metadata": {},
   "outputs": [
    {
     "name": "stdout",
     "output_type": "stream",
     "text": [
      "Compuerta: \n",
      " [[1 1 1 0]\n",
      " [0 0 0 1]] \n",
      "\n",
      "Inverso de no-controlado: \n",
      " [[1 0 0 0]\n",
      " [0 1 0 0]\n",
      " [0 0 1 0]\n",
      " [0 0 0 1]] \n",
      "\n"
     ]
    }
   ],
   "source": [
    "NOT = np.array([[0, 1], [1, 0]])\n",
    "OR = np.array([[1, 0, 0, 0], [0, 1, 1, 1]])\n",
    "\n",
    "NOT_TENSOR_NOT = np.array([[0, 0, 0, 1], [0, 0, 1, 0], [0, 1, 0, 0], [1, 0, 0, 0]])\n",
    "producto = NOT @ OR @ NOT_TENSOR_NOT\n",
    "\n",
    "print('Compuerta: \\n', producto, '\\n')\n",
    "\n",
    "#OPERADOR NO-CONTROLADO\n",
    "N_C = np.array([[1, 0, 0, 0], [0, 1, 0, 0], [0, 0, 0, 1], [0, 0, 1, 0]])\n",
    "print('Inverso de no-controlado: \\n', N_C @ N_C, '\\n')"
   ]
  },
  {
   "cell_type": "markdown",
   "id": "4829eba6-d5a5-4a07-81f1-a9f8f0322e7a",
   "metadata": {},
   "source": [
    "# Matrices cuanticas"
   ]
  },
  {
   "cell_type": "code",
   "execution_count": 6,
   "id": "784399b4-2c53-4623-99ee-b90da85cdf3e",
   "metadata": {},
   "outputs": [
    {
     "name": "stdout",
     "output_type": "stream",
     "text": [
      "Matriz unitaria: \n",
      " [[0 1]\n",
      " [1 0]] \n",
      " [[1 0]\n",
      " [0 1]] \n",
      "\n",
      "Efecto: \n",
      " [[ 5 10]\n",
      " [ 5  5]] \n",
      "\n",
      "Matriz unitaria: \n",
      " [[ 0.+0.j -0.-1.j]\n",
      " [ 0.+1.j  0.+0.j]] \n",
      " [[ 1.+0.j -0.+0.j]\n",
      " [-0.+0.j  1.+0.j]] \n",
      "\n",
      "Efecto: \n",
      " [[0. -5.j 0.-10.j]\n",
      " [0. +5.j 0. +5.j]] \n",
      "\n",
      "Matriz unitaria: \n",
      " [[ 1  0]\n",
      " [ 0 -1]] \n",
      " [[1 0]\n",
      " [0 1]] \n",
      "\n",
      "Efecto: \n",
      " [[  5   5]\n",
      " [ -5 -10]] \n",
      "\n",
      "Matriz unitaria: \n",
      " [[1.+0.j 0.+0.j]\n",
      " [0.+0.j 0.+1.j]] \n",
      " [[1.+0.j 0.+0.j]\n",
      " [0.+0.j 1.+0.j]] \n",
      "\n",
      "Efecto: \n",
      " [[5. +0.j 5. +0.j]\n",
      " [0. +5.j 0.+10.j]] \n",
      "\n",
      "Matriz unitaria: \n",
      " [[1.        +0.j         0.        +0.j        ]\n",
      " [0.        +0.j         0.70710678+0.70710678j]] \n",
      " [[1.+0.00000000e+00j 0.+0.00000000e+00j]\n",
      " [0.+0.00000000e+00j 1.+1.01465364e-17j]] \n",
      "\n",
      "Efecto: \n",
      " [[5.        +0.j         5.        +0.j        ]\n",
      " [3.53553391+3.53553391j 7.07106781+7.07106781j]] \n",
      "\n"
     ]
    }
   ],
   "source": [
    "sigma_x = np.array([[0, 1], [1, 0]])\n",
    "sigma_y = np.array([[0, -1j], [1j, 0]])\n",
    "sigma_z = np.array([[1, 0], [0, -1]])\n",
    "\n",
    "S = np.array([[1, 0], [0, 1j]])\n",
    "T = np.array([[1, 0], [0, np.exp(1j * np.pi / 4)]])\n",
    "\n",
    "M_prueba = np.array([[5, 5], [5, 10]])\n",
    "\n",
    "for M in [sigma_x, sigma_y, sigma_z, S, T]:\n",
    "    \n",
    "    efecto_M = M @ M_prueba\n",
    "    print('Matriz unitaria: \\n', M, '\\n', M @ np.matrix(M).getH(), '\\n')\n",
    "    print('Efecto: \\n', efecto_M, '\\n')\n"
   ]
  },
  {
   "cell_type": "code",
   "execution_count": 15,
   "id": "02cc66f9-c9da-4ffb-83c9-39d59db65ea3",
   "metadata": {},
   "outputs": [
    {
     "name": "stdout",
     "output_type": "stream",
     "text": [
      "Comprovar relacion\n",
      "[[1 0]\n",
      " [0 1]]\n",
      "[[1.+0.j 0.+0.j]\n",
      " [0.+0.j 1.+0.j]]\n",
      "[[1 0]\n",
      " [0 1]]\n",
      "Matriz H: \n",
      " [[ 0.70710678  0.70710678]\n",
      " [ 0.70710678 -0.70710678]] \n",
      "\n",
      "X = HZH: \n",
      " [[4.26642159e-17 1.00000000e+00]\n",
      " [1.00000000e+00 4.26642159e-17]] \n",
      "\n",
      "Z = HXH: \n",
      " [[ 1.00000000e+00  4.26642159e-17]\n",
      " [-4.26642159e-17 -1.00000000e+00]] \n",
      "\n",
      "-1Y = HYH: \n",
      " [[0.+4.26642159e-17j 0.+1.00000000e+00j]\n",
      " [0.-1.00000000e+00j 0.-4.26642159e-17j]] \n",
      "\n",
      "S = T*T: \n",
      " [[1.00000000e+00+0.j 0.00000000e+00+0.j]\n",
      " [0.00000000e+00+0.j 1.79380389e-16+1.j]] \n",
      "\n",
      "-1Y = XYX: \n",
      " [[0.+0.j 0.+1.j]\n",
      " [0.-1.j 0.+0.j]] \n",
      "\n"
     ]
    }
   ],
   "source": [
    "#PROBAR OPERACIONES\n",
    "print('Comprovar relacion')\n",
    "print(sigma_x @ sigma_x)\n",
    "print(sigma_y @ sigma_y)\n",
    "print(sigma_z @ sigma_z)\n",
    "\n",
    "H = 2**-0.5 * (sigma_x + sigma_z)\n",
    "print('Matriz H: \\n', H, '\\n')\n",
    "print('X = HZH: \\n', H @ sigma_z @ H, '\\n')\n",
    "print('Z = HXH: \\n', H @ sigma_x @ H, '\\n')\n",
    "print('-1Y = HYH: \\n', H @ sigma_y @ H, '\\n')\n",
    "print('S = T*T: \\n', T @ T, '\\n')\n",
    "print('-1Y = XYX: \\n', sigma_x @ sigma_y @ sigma_x, '\\n')"
   ]
  },
  {
   "cell_type": "code",
   "execution_count": 31,
   "id": "dd4eb2ae-112f-4da9-b86b-992dae670ef4",
   "metadata": {},
   "outputs": [
    {
     "name": "stdout",
     "output_type": "stream",
     "text": [
      "Aplicando C_U: \n",
      " [ 1  0 10 10] \n",
      "\n",
      "Aplicando C_U: \n",
      " [ 0  1 10 10] \n",
      "\n"
     ]
    }
   ],
   "source": [
    "C_U = np.array([[1, 0, 0, 0], [0, 1, 0, 0], [0, 0, 10, 0], [0, 0, 0, 10]])\n",
    "Q_0 = np.array([1, 0, 1, 1])\n",
    "Q_1 = np.array([0, 1, 1, 1])\n",
    "\n",
    "print('Aplicando C_U: \\n', C_U @ Q_0, '\\n')\n",
    "print('Aplicando C_U: \\n', C_U @ Q_1, '\\n')"
   ]
  },
  {
   "cell_type": "code",
   "execution_count": null,
   "id": "6027fec9-8fb6-497c-ab52-aa4327e49ca6",
   "metadata": {},
   "outputs": [],
   "source": []
  }
 ],
 "metadata": {
  "kernelspec": {
   "display_name": "Python 3 (ipykernel)",
   "language": "python",
   "name": "python3"
  },
  "language_info": {
   "codemirror_mode": {
    "name": "ipython",
    "version": 3
   },
   "file_extension": ".py",
   "mimetype": "text/x-python",
   "name": "python",
   "nbconvert_exporter": "python",
   "pygments_lexer": "ipython3",
   "version": "3.12.3"
  }
 },
 "nbformat": 4,
 "nbformat_minor": 5
}
