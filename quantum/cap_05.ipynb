{
 "cells": [
  {
   "cell_type": "code",
   "execution_count": 1,
   "id": "726d4ca3-4d07-498e-88b3-6905d30e36c3",
   "metadata": {},
   "outputs": [],
   "source": [
    "import pandas as pd\n",
    "import numpy as np\n",
    "import math\n",
    "\n",
    "import matplotlib.pyplot as plt"
   ]
  },
  {
   "cell_type": "markdown",
   "id": "da827366-850c-4f0f-9889-e556481ab472",
   "metadata": {},
   "source": [
    "# Bits y Qubits"
   ]
  },
  {
   "cell_type": "code",
   "execution_count": 4,
   "id": "b9a3e8f3-aef8-4f6e-b41b-38b190cb5de0",
   "metadata": {},
   "outputs": [
    {
     "name": "stdout",
     "output_type": "stream",
     "text": [
      "V normalizado:  [0.67286226-0.15251545j 0.09420072-0.71771975j] \n",
      "\n"
     ]
    }
   ],
   "source": [
    "V =  np.array([15 - 3.4j, 2.1 - 16j])\n",
    "V_n = np.linalg.norm(V)\n",
    "V_norm = V / V_n\n",
    "\n",
    "print('V normalizado: ', V_norm, '\\n')"
   ]
  },
  {
   "cell_type": "markdown",
   "id": "487e2fd8-4095-4daa-bebb-23974247cdd2",
   "metadata": {},
   "source": [
    "# Compuertas"
   ]
  },
  {
   "cell_type": "code",
   "execution_count": 8,
   "id": "ac835216-e9e3-452c-b7be-216e7d68aa59",
   "metadata": {},
   "outputs": [
    {
     "name": "stdout",
     "output_type": "stream",
     "text": [
      "Compuerta: \n",
      " [[1 1 1 0]\n",
      " [0 0 0 1]] \n",
      "\n",
      "Inverso de no-controlado: \n",
      " [[1 0 0 0]\n",
      " [0 1 0 0]\n",
      " [0 0 1 0]\n",
      " [0 0 0 1]] \n",
      "\n"
     ]
    }
   ],
   "source": [
    "NOT = np.array([[0, 1], [1, 0]])\n",
    "OR = np.array([[1, 0, 0, 0], [0, 1, 1, 1]])\n",
    "\n",
    "NOT_TENSOR_NOT = np.array([[0, 0, 0, 1], [0, 0, 1, 0], [0, 1, 0, 0], [1, 0, 0, 0]])\n",
    "producto = NOT @ OR @ NOT_TENSOR_NOT\n",
    "\n",
    "print('Compuerta: \\n', producto, '\\n')\n",
    "\n",
    "#OPERADOR NO-CONTROLADO\n",
    "N_C = np.array([[1, 0, 0, 0], [0, 1, 0, 0], [0, 0, 0, 1], [0, 0, 1, 0]])\n",
    "print('Inverso de no-controlado: \\n', N_C @ N_C, '\\n')"
   ]
  },
  {
   "cell_type": "code",
   "execution_count": null,
   "id": "9fdb49b4-88e5-4e7d-aa9e-e53be992321e",
   "metadata": {},
   "outputs": [],
   "source": []
  }
 ],
 "metadata": {
  "kernelspec": {
   "display_name": "Python 3 (ipykernel)",
   "language": "python",
   "name": "python3"
  },
  "language_info": {
   "codemirror_mode": {
    "name": "ipython",
    "version": 3
   },
   "file_extension": ".py",
   "mimetype": "text/x-python",
   "name": "python",
   "nbconvert_exporter": "python",
   "pygments_lexer": "ipython3",
   "version": "3.12.3"
  }
 },
 "nbformat": 4,
 "nbformat_minor": 5
}
